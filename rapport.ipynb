{
 "cells": [
  {
   "cell_type": "markdown",
   "metadata": {},
   "source": [
    "# Compte rendu du projet MADI\n",
    "\n",
    "\n",
    "Seddar mohand oubelaid\n",
    "## Création de la classe Factor Graph :\n",
    "\n",
    "Dans cette partie nous avons créé une classe Factor Graph, cette classe représente un **Factor Graph** , et qui est initilisé à travers un objet de type **Réseau Bayésien**, cette classe contient des noeuds de type **variable** ainsi, que des noeuds de type **Factor** pour stocker les tableaux de potentiel.\n"
   ]
  },
  {
   "cell_type": "code",
   "execution_count": 1,
   "metadata": {},
   "outputs": [],
   "source": [
    "%reload_ext autoreload\n",
    "%autoreload 2\n",
    "from projet_madi import *\n",
    "import pyAgrum as gum\n",
    "import pyAgrum.lib.notebook as gnb\n",
    "import pydotplus as dot\n",
    "from IPython.display import SVG\n",
    "import numpy as np"
   ]
  },
  {
   "cell_type": "markdown",
   "metadata": {},
   "source": [
    "### Factor Graph"
   ]
  },
  {
   "cell_type": "code",
   "execution_count": 2,
   "metadata": {},
   "outputs": [
    {
     "data": {
      "image/svg+xml": [
       "<svg height=\"188pt\" viewBox=\"0.00 0.00 134.00 188.00\" width=\"134pt\" xmlns=\"http://www.w3.org/2000/svg\" xmlns:xlink=\"http://www.w3.org/1999/xlink\">\n",
       "<g class=\"graph\" id=\"graph0\" transform=\"scale(1 1) rotate(0) translate(4 184)\">\n",
       "<title>G</title>\n",
       "<!-- A -->\n",
       "<g class=\"node\" id=\"node1\">\n",
       "<title>A</title>\n",
       "<g id=\"a_node1\"><a xlink:title=\"(0) A\">\n",
       "<ellipse cx=\"27\" cy=\"-162\" fill=\"#404040\" rx=\"27\" ry=\"18\" stroke=\"#000000\"/>\n",
       "<text fill=\"#ffffff\" font-family=\"Times,serif\" font-size=\"14.00\" text-anchor=\"middle\" x=\"27\" y=\"-158.3\">A</text>\n",
       "</a>\n",
       "</g>\n",
       "</g>\n",
       "<!-- B -->\n",
       "<g class=\"node\" id=\"node2\">\n",
       "<title>B</title>\n",
       "<g id=\"a_node2\"><a xlink:title=\"(1) B\">\n",
       "<ellipse cx=\"27\" cy=\"-90\" fill=\"#404040\" rx=\"27\" ry=\"18\" stroke=\"#000000\"/>\n",
       "<text fill=\"#ffffff\" font-family=\"Times,serif\" font-size=\"14.00\" text-anchor=\"middle\" x=\"27\" y=\"-86.3\">B</text>\n",
       "</a>\n",
       "</g>\n",
       "</g>\n",
       "<!-- A&#45;&gt;B -->\n",
       "<g class=\"edge\" id=\"edge1\">\n",
       "<title>A-&gt;B</title>\n",
       "<g id=\"a_edge1\"><a xlink:title=\"(0, 1) : \">\n",
       "<path d=\"M27,-143.8314C27,-136.131 27,-126.9743 27,-118.4166\" fill=\"none\" stroke=\"#4a4a4a\"/>\n",
       "<polygon fill=\"#4a4a4a\" points=\"30.5001,-118.4132 27,-108.4133 23.5001,-118.4133 30.5001,-118.4132\" stroke=\"#4a4a4a\"/>\n",
       "</a>\n",
       "</g>\n",
       "</g>\n",
       "<!-- E -->\n",
       "<g class=\"node\" id=\"node5\">\n",
       "<title>E</title>\n",
       "<g id=\"a_node5\"><a xlink:title=\"(4) E\">\n",
       "<ellipse cx=\"27\" cy=\"-18\" fill=\"#404040\" rx=\"27\" ry=\"18\" stroke=\"#000000\"/>\n",
       "<text fill=\"#ffffff\" font-family=\"Times,serif\" font-size=\"14.00\" text-anchor=\"middle\" x=\"27\" y=\"-14.3\">E</text>\n",
       "</a>\n",
       "</g>\n",
       "</g>\n",
       "<!-- B&#45;&gt;E -->\n",
       "<g class=\"edge\" id=\"edge2\">\n",
       "<title>B-&gt;E</title>\n",
       "<g id=\"a_edge2\"><a xlink:title=\"(1, 4) : \">\n",
       "<path d=\"M27,-71.8314C27,-64.131 27,-54.9743 27,-46.4166\" fill=\"none\" stroke=\"#4a4a4a\"/>\n",
       "<polygon fill=\"#4a4a4a\" points=\"30.5001,-46.4132 27,-36.4133 23.5001,-46.4133 30.5001,-46.4132\" stroke=\"#4a4a4a\"/>\n",
       "</a>\n",
       "</g>\n",
       "</g>\n",
       "<!-- C -->\n",
       "<g class=\"node\" id=\"node3\">\n",
       "<title>C</title>\n",
       "<g id=\"a_node3\"><a xlink:title=\"(2) C\">\n",
       "<ellipse cx=\"99\" cy=\"-162\" fill=\"#404040\" rx=\"27\" ry=\"18\" stroke=\"#000000\"/>\n",
       "<text fill=\"#ffffff\" font-family=\"Times,serif\" font-size=\"14.00\" text-anchor=\"middle\" x=\"99\" y=\"-158.3\">C</text>\n",
       "</a>\n",
       "</g>\n",
       "</g>\n",
       "<!-- C&#45;&gt;B -->\n",
       "<g class=\"edge\" id=\"edge4\">\n",
       "<title>C-&gt;B</title>\n",
       "<g id=\"a_edge4\"><a xlink:title=\"(2, 1) : \">\n",
       "<path d=\"M83.7307,-146.7307C73.803,-136.803 60.6847,-123.6847 49.5637,-112.5637\" fill=\"none\" stroke=\"#4a4a4a\"/>\n",
       "<polygon fill=\"#4a4a4a\" points=\"51.7933,-109.8436 42.2473,-105.2473 46.8436,-114.7933 51.7933,-109.8436\" stroke=\"#4a4a4a\"/>\n",
       "</a>\n",
       "</g>\n",
       "</g>\n",
       "<!-- D -->\n",
       "<g class=\"node\" id=\"node4\">\n",
       "<title>D</title>\n",
       "<g id=\"a_node4\"><a xlink:title=\"(3) D\">\n",
       "<ellipse cx=\"99\" cy=\"-90\" fill=\"#404040\" rx=\"27\" ry=\"18\" stroke=\"#000000\"/>\n",
       "<text fill=\"#ffffff\" font-family=\"Times,serif\" font-size=\"14.00\" text-anchor=\"middle\" x=\"99\" y=\"-86.3\">D</text>\n",
       "</a>\n",
       "</g>\n",
       "</g>\n",
       "<!-- C&#45;&gt;D -->\n",
       "<g class=\"edge\" id=\"edge3\">\n",
       "<title>C-&gt;D</title>\n",
       "<g id=\"a_edge3\"><a xlink:title=\"(2, 3) : \">\n",
       "<path d=\"M99,-143.8314C99,-136.131 99,-126.9743 99,-118.4166\" fill=\"none\" stroke=\"#4a4a4a\"/>\n",
       "<polygon fill=\"#4a4a4a\" points=\"102.5001,-118.4132 99,-108.4133 95.5001,-118.4133 102.5001,-118.4132\" stroke=\"#4a4a4a\"/>\n",
       "</a>\n",
       "</g>\n",
       "</g>\n",
       "</g>\n",
       "</svg>"
      ],
      "text/plain": [
       "<IPython.core.display.SVG object>"
      ]
     },
     "metadata": {},
     "output_type": "display_data"
    },
    {
     "data": {
      "image/svg+xml": [
       "<svg height=\"277pt\" viewBox=\"0.00 0.00 273.82 277.17\" width=\"274pt\" xmlns=\"http://www.w3.org/2000/svg\" xmlns:xlink=\"http://www.w3.org/1999/xlink\">\n",
       "<g class=\"graph\" id=\"graph0\" transform=\"scale(1 1) rotate(0) translate(4 273.1711)\">\n",
       "<title>FG</title>\n",
       "<polygon fill=\"#ffffff\" points=\"-4,4 -4,-273.1711 269.8225,-273.1711 269.8225,4 -4,4\" stroke=\"transparent\"/>\n",
       "<!-- A -->\n",
       "<g class=\"node\" id=\"node1\">\n",
       "<title>A</title>\n",
       "<polygon fill=\"#ff7f50\" points=\"85.8907,-63.5531 68.8907,-63.5531 68.8907,-42.5531 85.8907,-42.5531 85.8907,-63.5531\" stroke=\"#ff7f50\"/>\n",
       "<text fill=\"#000000\" font-family=\"Times,serif\" font-size=\"14.00\" text-anchor=\"middle\" x=\"77.3907\" y=\"-49.3531\">A</text>\n",
       "</g>\n",
       "<!-- 5 -->\n",
       "<g class=\"node\" id=\"node6\">\n",
       "<title>5</title>\n",
       "<ellipse cx=\"57.5794\" cy=\"-3.6\" fill=\"#deb887\" rx=\"3.6\" ry=\"3.6\" stroke=\"#deb887\"/>\n",
       "</g>\n",
       "<!-- A&#45;&#45;5 -->\n",
       "<g class=\"edge\" id=\"edge7\">\n",
       "<title>A--5</title>\n",
       "<path d=\"M72.994,-42.0779C68.5253,-30.9233 61.8635,-14.2941 58.9863,-7.112\" fill=\"none\" stroke=\"#000000\"/>\n",
       "</g>\n",
       "<!-- 6 -->\n",
       "<g class=\"node\" id=\"node7\">\n",
       "<title>6</title>\n",
       "<ellipse cx=\"97.2578\" cy=\"-106.8526\" fill=\"#deb887\" rx=\"3.6\" ry=\"3.6\" stroke=\"#deb887\"/>\n",
       "</g>\n",
       "<!-- A&#45;&#45;6 -->\n",
       "<g class=\"edge\" id=\"edge6\">\n",
       "<title>A--6</title>\n",
       "<path d=\"M81.3158,-63.6822C85.8392,-75.9312 93.025,-95.3903 95.9524,-103.3175\" fill=\"none\" stroke=\"#000000\"/>\n",
       "</g>\n",
       "<!-- B -->\n",
       "<g class=\"node\" id=\"node2\">\n",
       "<title>B</title>\n",
       "<polygon fill=\"#ff7f50\" points=\"161.8812,-117.8484 145.8812,-117.8484 145.8812,-96.8484 161.8812,-96.8484 161.8812,-117.8484\" stroke=\"#ff7f50\"/>\n",
       "<text fill=\"#000000\" font-family=\"Times,serif\" font-size=\"14.00\" text-anchor=\"middle\" x=\"153.8812\" y=\"-103.6484\">B</text>\n",
       "</g>\n",
       "<!-- B&#45;&#45;6 -->\n",
       "<g class=\"edge\" id=\"edge9\">\n",
       "<title>B--6</title>\n",
       "<path d=\"M145.5262,-107.2752C132.9748,-107.1653 109.7763,-106.9622 100.8698,-106.8842\" fill=\"none\" stroke=\"#000000\"/>\n",
       "</g>\n",
       "<!-- 9 -->\n",
       "<g class=\"node\" id=\"node10\">\n",
       "<title>9</title>\n",
       "<ellipse cx=\"206.7435\" cy=\"-103.0244\" fill=\"#deb887\" rx=\"3.6\" ry=\"3.6\" stroke=\"#deb887\"/>\n",
       "</g>\n",
       "<!-- B&#45;&#45;9 -->\n",
       "<g class=\"edge\" id=\"edge8\">\n",
       "<title>B--9</title>\n",
       "<path d=\"M162.1409,-106.6728C173.7562,-105.7227 194.4458,-104.0303 202.9418,-103.3354\" fill=\"none\" stroke=\"#000000\"/>\n",
       "</g>\n",
       "<!-- C -->\n",
       "<g class=\"node\" id=\"node3\">\n",
       "<title>C</title>\n",
       "<polygon fill=\"#ff7f50\" points=\"67.9094,-162.4276 51.9094,-162.4276 51.9094,-141.4276 67.9094,-141.4276 67.9094,-162.4276\" stroke=\"#ff7f50\"/>\n",
       "<text fill=\"#000000\" font-family=\"Times,serif\" font-size=\"14.00\" text-anchor=\"middle\" x=\"59.9094\" y=\"-148.2276\">C</text>\n",
       "</g>\n",
       "<!-- C&#45;&#45;6 -->\n",
       "<g class=\"edge\" id=\"edge2\">\n",
       "<title>C--6</title>\n",
       "<path d=\"M68.1983,-141.924C76.7944,-131.5494 89.6956,-115.9792 94.9286,-109.6637\" fill=\"none\" stroke=\"#000000\"/>\n",
       "</g>\n",
       "<!-- 7 -->\n",
       "<g class=\"node\" id=\"node8\">\n",
       "<title>7</title>\n",
       "<ellipse cx=\"3.6\" cy=\"-145.2709\" fill=\"#deb887\" rx=\"3.6\" ry=\"3.6\" stroke=\"#deb887\"/>\n",
       "</g>\n",
       "<!-- C&#45;&#45;7 -->\n",
       "<g class=\"edge\" id=\"edge1\">\n",
       "<title>C--7</title>\n",
       "<path d=\"M51.6008,-150.9454C39.119,-149.4698 16.0491,-146.7426 7.1919,-145.6955\" fill=\"none\" stroke=\"#000000\"/>\n",
       "</g>\n",
       "<!-- 8 -->\n",
       "<g class=\"node\" id=\"node9\">\n",
       "<title>8</title>\n",
       "<ellipse cx=\"59.576\" cy=\"-207.7429\" fill=\"#deb887\" rx=\"3.6\" ry=\"3.6\" stroke=\"#deb887\"/>\n",
       "</g>\n",
       "<!-- C&#45;&#45;8 -->\n",
       "<g class=\"edge\" id=\"edge4\">\n",
       "<title>C--8</title>\n",
       "<path d=\"M59.8451,-162.6893C59.7694,-175.3606 59.6477,-195.7315 59.5981,-204.0374\" fill=\"none\" stroke=\"#000000\"/>\n",
       "</g>\n",
       "<!-- D -->\n",
       "<g class=\"node\" id=\"node4\">\n",
       "<title>D</title>\n",
       "<polygon fill=\"#ff7f50\" points=\"54.7441,-269.1711 37.7441,-269.1711 37.7441,-248.1711 54.7441,-248.1711 54.7441,-269.1711\" stroke=\"#ff7f50\"/>\n",
       "<text fill=\"#000000\" font-family=\"Times,serif\" font-size=\"14.00\" text-anchor=\"middle\" x=\"46.2441\" y=\"-254.9711\">D</text>\n",
       "</g>\n",
       "<!-- D&#45;&#45;8 -->\n",
       "<g class=\"edge\" id=\"edge5\">\n",
       "<title>D--8</title>\n",
       "<path d=\"M49.0715,-247.8706C52.0677,-236.4248 56.6335,-218.9832 58.6091,-211.4362\" fill=\"none\" stroke=\"#000000\"/>\n",
       "</g>\n",
       "<!-- E -->\n",
       "<g class=\"node\" id=\"node5\">\n",
       "<title>E</title>\n",
       "<polygon fill=\"#ff7f50\" points=\"265.8225,-111.8674 250.8225,-111.8674 250.8225,-90.8674 265.8225,-90.8674 265.8225,-111.8674\" stroke=\"#ff7f50\"/>\n",
       "<text fill=\"#000000\" font-family=\"Times,serif\" font-size=\"14.00\" text-anchor=\"middle\" x=\"258.3225\" y=\"-97.6674\">E</text>\n",
       "</g>\n",
       "<!-- E&#45;&#45;9 -->\n",
       "<g class=\"edge\" id=\"edge3\">\n",
       "<title>E--9</title>\n",
       "<path d=\"M250.7118,-101.6119C239.5028,-101.972 218.9717,-102.6316 210.5258,-102.9029\" fill=\"none\" stroke=\"#000000\"/>\n",
       "</g>\n",
       "</g>\n",
       "</svg>"
      ],
      "text/plain": [
       "<IPython.core.display.SVG object>"
      ]
     },
     "execution_count": 2,
     "metadata": {},
     "output_type": "execute_result"
    }
   ],
   "source": [
    "# construction de bn en forme d'un arbre\n",
    "bn_tree=gum.fastBN(\"A->B<-C->D->E<-B\")\n",
    "bn_tree.eraseArc(\"D\",\"E\")\n",
    "gnb.showBN(bn_tree)\n",
    "# construction de factor graph\n",
    "gf_tree = FactorGraph();\n",
    "gf_tree.build(bn_tree);\n",
    "# show\n",
    "g=dot.graph_from_dot_data(gf_tree.show())\n",
    "SVG(g.create_svg())"
   ]
  },
  {
   "cell_type": "code",
   "execution_count": 4,
   "metadata": {},
   "outputs": [
    {
     "data": {
      "image/svg+xml": [
       "<svg height=\"188pt\" viewBox=\"0.00 0.00 134.00 188.00\" width=\"134pt\" xmlns=\"http://www.w3.org/2000/svg\" xmlns:xlink=\"http://www.w3.org/1999/xlink\">\n",
       "<g class=\"graph\" id=\"graph0\" transform=\"scale(1 1) rotate(0) translate(4 184)\">\n",
       "<title>G</title>\n",
       "<!-- A -->\n",
       "<g class=\"node\" id=\"node1\">\n",
       "<title>A</title>\n",
       "<g id=\"a_node1\"><a xlink:title=\"(0) A\">\n",
       "<ellipse cx=\"27\" cy=\"-162\" fill=\"#404040\" rx=\"27\" ry=\"18\" stroke=\"#000000\"/>\n",
       "<text fill=\"#ffffff\" font-family=\"Times,serif\" font-size=\"14.00\" text-anchor=\"middle\" x=\"27\" y=\"-158.3\">A</text>\n",
       "</a>\n",
       "</g>\n",
       "</g>\n",
       "<!-- B -->\n",
       "<g class=\"node\" id=\"node2\">\n",
       "<title>B</title>\n",
       "<g id=\"a_node2\"><a xlink:title=\"(1) B\">\n",
       "<ellipse cx=\"27\" cy=\"-90\" fill=\"#404040\" rx=\"27\" ry=\"18\" stroke=\"#000000\"/>\n",
       "<text fill=\"#ffffff\" font-family=\"Times,serif\" font-size=\"14.00\" text-anchor=\"middle\" x=\"27\" y=\"-86.3\">B</text>\n",
       "</a>\n",
       "</g>\n",
       "</g>\n",
       "<!-- A&#45;&gt;B -->\n",
       "<g class=\"edge\" id=\"edge1\">\n",
       "<title>A-&gt;B</title>\n",
       "<g id=\"a_edge1\"><a xlink:title=\"(0, 1) : \">\n",
       "<path d=\"M27,-143.8314C27,-136.131 27,-126.9743 27,-118.4166\" fill=\"none\" stroke=\"#4a4a4a\"/>\n",
       "<polygon fill=\"#4a4a4a\" points=\"30.5001,-118.4132 27,-108.4133 23.5001,-118.4133 30.5001,-118.4132\" stroke=\"#4a4a4a\"/>\n",
       "</a>\n",
       "</g>\n",
       "</g>\n",
       "<!-- E -->\n",
       "<g class=\"node\" id=\"node5\">\n",
       "<title>E</title>\n",
       "<g id=\"a_node5\"><a xlink:title=\"(4) E\">\n",
       "<ellipse cx=\"63\" cy=\"-18\" fill=\"#404040\" rx=\"27\" ry=\"18\" stroke=\"#000000\"/>\n",
       "<text fill=\"#ffffff\" font-family=\"Times,serif\" font-size=\"14.00\" text-anchor=\"middle\" x=\"63\" y=\"-14.3\">E</text>\n",
       "</a>\n",
       "</g>\n",
       "</g>\n",
       "<!-- B&#45;&gt;E -->\n",
       "<g class=\"edge\" id=\"edge2\">\n",
       "<title>B-&gt;E</title>\n",
       "<g id=\"a_edge2\"><a xlink:title=\"(1, 4) : \">\n",
       "<path d=\"M35.7146,-72.5708C39.9597,-64.0807 45.1536,-53.6929 49.8663,-44.2674\" fill=\"none\" stroke=\"#4a4a4a\"/>\n",
       "<polygon fill=\"#4a4a4a\" points=\"53.024,-45.7782 54.3657,-35.2687 46.763,-42.6477 53.024,-45.7782\" stroke=\"#4a4a4a\"/>\n",
       "</a>\n",
       "</g>\n",
       "</g>\n",
       "<!-- C -->\n",
       "<g class=\"node\" id=\"node3\">\n",
       "<title>C</title>\n",
       "<g id=\"a_node3\"><a xlink:title=\"(2) C\">\n",
       "<ellipse cx=\"99\" cy=\"-162\" fill=\"#404040\" rx=\"27\" ry=\"18\" stroke=\"#000000\"/>\n",
       "<text fill=\"#ffffff\" font-family=\"Times,serif\" font-size=\"14.00\" text-anchor=\"middle\" x=\"99\" y=\"-158.3\">C</text>\n",
       "</a>\n",
       "</g>\n",
       "</g>\n",
       "<!-- C&#45;&gt;B -->\n",
       "<g class=\"edge\" id=\"edge3\">\n",
       "<title>C-&gt;B</title>\n",
       "<g id=\"a_edge3\"><a xlink:title=\"(2, 1) : \">\n",
       "<path d=\"M83.7307,-146.7307C73.803,-136.803 60.6847,-123.6847 49.5637,-112.5637\" fill=\"none\" stroke=\"#4a4a4a\"/>\n",
       "<polygon fill=\"#4a4a4a\" points=\"51.7933,-109.8436 42.2473,-105.2473 46.8436,-114.7933 51.7933,-109.8436\" stroke=\"#4a4a4a\"/>\n",
       "</a>\n",
       "</g>\n",
       "</g>\n",
       "<!-- D -->\n",
       "<g class=\"node\" id=\"node4\">\n",
       "<title>D</title>\n",
       "<g id=\"a_node4\"><a xlink:title=\"(3) D\">\n",
       "<ellipse cx=\"99\" cy=\"-90\" fill=\"#404040\" rx=\"27\" ry=\"18\" stroke=\"#000000\"/>\n",
       "<text fill=\"#ffffff\" font-family=\"Times,serif\" font-size=\"14.00\" text-anchor=\"middle\" x=\"99\" y=\"-86.3\">D</text>\n",
       "</a>\n",
       "</g>\n",
       "</g>\n",
       "<!-- C&#45;&gt;D -->\n",
       "<g class=\"edge\" id=\"edge4\">\n",
       "<title>C-&gt;D</title>\n",
       "<g id=\"a_edge4\"><a xlink:title=\"(2, 3) : \">\n",
       "<path d=\"M99,-143.8314C99,-136.131 99,-126.9743 99,-118.4166\" fill=\"none\" stroke=\"#4a4a4a\"/>\n",
       "<polygon fill=\"#4a4a4a\" points=\"102.5001,-118.4132 99,-108.4133 95.5001,-118.4133 102.5001,-118.4132\" stroke=\"#4a4a4a\"/>\n",
       "</a>\n",
       "</g>\n",
       "</g>\n",
       "<!-- D&#45;&gt;E -->\n",
       "<g class=\"edge\" id=\"edge5\">\n",
       "<title>D-&gt;E</title>\n",
       "<g id=\"a_edge5\"><a xlink:title=\"(3, 4) : \">\n",
       "<path d=\"M90.2854,-72.5708C86.0403,-64.0807 80.8464,-53.6929 76.1337,-44.2674\" fill=\"none\" stroke=\"#4a4a4a\"/>\n",
       "<polygon fill=\"#4a4a4a\" points=\"79.237,-42.6477 71.6343,-35.2687 72.976,-45.7782 79.237,-42.6477\" stroke=\"#4a4a4a\"/>\n",
       "</a>\n",
       "</g>\n",
       "</g>\n",
       "</g>\n",
       "</svg>"
      ],
      "text/plain": [
       "<IPython.core.display.SVG object>"
      ]
     },
     "metadata": {},
     "output_type": "display_data"
    },
    {
     "data": {
      "image/svg+xml": [
       "<svg height=\"228pt\" viewBox=\"0.00 0.00 243.93 227.55\" width=\"244pt\" xmlns=\"http://www.w3.org/2000/svg\" xmlns:xlink=\"http://www.w3.org/1999/xlink\">\n",
       "<g class=\"graph\" id=\"graph0\" transform=\"scale(1 1) rotate(0) translate(4 223.5458)\">\n",
       "<title>FG</title>\n",
       "<polygon fill=\"#ffffff\" points=\"-4,4 -4,-223.5458 239.9303,-223.5458 239.9303,4 -4,4\" stroke=\"transparent\"/>\n",
       "<!-- A -->\n",
       "<g class=\"node\" id=\"node1\">\n",
       "<title>A</title>\n",
       "<polygon fill=\"#ff7f50\" points=\"62.5233,-129.0588 45.5233,-129.0588 45.5233,-108.0588 62.5233,-108.0588 62.5233,-129.0588\" stroke=\"#ff7f50\"/>\n",
       "<text fill=\"#000000\" font-family=\"Times,serif\" font-size=\"14.00\" text-anchor=\"middle\" x=\"54.0233\" y=\"-114.8588\">A</text>\n",
       "</g>\n",
       "<!-- 5 -->\n",
       "<g class=\"node\" id=\"node6\">\n",
       "<title>5</title>\n",
       "<ellipse cx=\"3.6\" cy=\"-132.3415\" fill=\"#deb887\" rx=\"3.6\" ry=\"3.6\" stroke=\"#deb887\"/>\n",
       "</g>\n",
       "<!-- A&#45;&#45;5 -->\n",
       "<g class=\"edge\" id=\"edge8\">\n",
       "<title>A--5</title>\n",
       "<path d=\"M45.2402,-120.9596C33.9538,-124.0446 14.8872,-129.2562 7.0857,-131.3887\" fill=\"none\" stroke=\"#000000\"/>\n",
       "</g>\n",
       "<!-- 6 -->\n",
       "<g class=\"node\" id=\"node7\">\n",
       "<title>6</title>\n",
       "<ellipse cx=\"108.6162\" cy=\"-108.9556\" fill=\"#deb887\" rx=\"3.6\" ry=\"3.6\" stroke=\"#deb887\"/>\n",
       "</g>\n",
       "<!-- A&#45;&#45;6 -->\n",
       "<g class=\"edge\" id=\"edge6\">\n",
       "<title>A--6</title>\n",
       "<path d=\"M62.5534,-117.0583C74.6689,-114.9271 96.3442,-111.1143 104.9494,-109.6006\" fill=\"none\" stroke=\"#000000\"/>\n",
       "</g>\n",
       "<!-- B -->\n",
       "<g class=\"node\" id=\"node2\">\n",
       "<title>B</title>\n",
       "<polygon fill=\"#ff7f50\" points=\"151.308,-166.5512 135.308,-166.5512 135.308,-145.5512 151.308,-145.5512 151.308,-166.5512\" stroke=\"#ff7f50\"/>\n",
       "<text fill=\"#000000\" font-family=\"Times,serif\" font-size=\"14.00\" text-anchor=\"middle\" x=\"143.308\" y=\"-152.3512\">B</text>\n",
       "</g>\n",
       "<!-- B&#45;&#45;6 -->\n",
       "<g class=\"edge\" id=\"edge10\">\n",
       "<title>B--6</title>\n",
       "<path d=\"M135.2618,-145.1281C127.4155,-134.4764 115.9647,-118.9314 111.0281,-112.2298\" fill=\"none\" stroke=\"#000000\"/>\n",
       "</g>\n",
       "<!-- 9 -->\n",
       "<g class=\"node\" id=\"node10\">\n",
       "<title>9</title>\n",
       "<ellipse cx=\"200.181\" cy=\"-162.4776\" fill=\"#deb887\" rx=\"3.6\" ry=\"3.6\" stroke=\"#deb887\"/>\n",
       "</g>\n",
       "<!-- B&#45;&#45;9 -->\n",
       "<g class=\"edge\" id=\"edge9\">\n",
       "<title>B--9</title>\n",
       "<path d=\"M151.6998,-156.9995C164.3065,-158.424 187.6073,-161.0569 196.5531,-162.0677\" fill=\"none\" stroke=\"#000000\"/>\n",
       "</g>\n",
       "<!-- C -->\n",
       "<g class=\"node\" id=\"node3\">\n",
       "<title>C</title>\n",
       "<polygon fill=\"#ff7f50\" points=\"145.8165,-68.0751 129.8165,-68.0751 129.8165,-47.0751 145.8165,-47.0751 145.8165,-68.0751\" stroke=\"#ff7f50\"/>\n",
       "<text fill=\"#000000\" font-family=\"Times,serif\" font-size=\"14.00\" text-anchor=\"middle\" x=\"137.8165\" y=\"-53.8751\">C</text>\n",
       "</g>\n",
       "<!-- C&#45;&#45;6 -->\n",
       "<g class=\"edge\" id=\"edge2\">\n",
       "<title>C--6</title>\n",
       "<path d=\"M131.6238,-68.4716C124.9274,-80.2546 114.6514,-98.3361 110.4761,-105.6829\" fill=\"none\" stroke=\"#000000\"/>\n",
       "</g>\n",
       "<!-- 7 -->\n",
       "<g class=\"node\" id=\"node8\">\n",
       "<title>7</title>\n",
       "<ellipse cx=\"125.8255\" cy=\"-3.6\" fill=\"#deb887\" rx=\"3.6\" ry=\"3.6\" stroke=\"#deb887\"/>\n",
       "</g>\n",
       "<!-- C&#45;&#45;7 -->\n",
       "<g class=\"edge\" id=\"edge1\">\n",
       "<title>C--7</title>\n",
       "<path d=\"M135.4474,-46.9114C132.7173,-34.6223 128.3803,-15.0997 126.6134,-7.1467\" fill=\"none\" stroke=\"#000000\"/>\n",
       "</g>\n",
       "<!-- 8 -->\n",
       "<g class=\"node\" id=\"node9\">\n",
       "<title>8</title>\n",
       "<ellipse cx=\"195.7591\" cy=\"-64.2795\" fill=\"#deb887\" rx=\"3.6\" ry=\"3.6\" stroke=\"#deb887\"/>\n",
       "</g>\n",
       "<!-- C&#45;&#45;8 -->\n",
       "<g class=\"edge\" id=\"edge4\">\n",
       "<title>C--8</title>\n",
       "<path d=\"M145.8731,-58.5073C158.5602,-59.9753 182.7054,-62.7691 191.9909,-63.8435\" fill=\"none\" stroke=\"#000000\"/>\n",
       "</g>\n",
       "<!-- D -->\n",
       "<g class=\"node\" id=\"node4\">\n",
       "<title>D</title>\n",
       "<polygon fill=\"#ff7f50\" points=\"235.9303,-121.6756 218.9303,-121.6756 218.9303,-100.6756 235.9303,-100.6756 235.9303,-121.6756\" stroke=\"#ff7f50\"/>\n",
       "<text fill=\"#000000\" font-family=\"Times,serif\" font-size=\"14.00\" text-anchor=\"middle\" x=\"227.4303\" y=\"-107.4756\">D</text>\n",
       "</g>\n",
       "<!-- D&#45;&#45;8 -->\n",
       "<g class=\"edge\" id=\"edge5\">\n",
       "<title>D--8</title>\n",
       "<path d=\"M220.0847,-100.2989C212.9215,-89.6922 202.4678,-74.2131 197.9611,-67.5399\" fill=\"none\" stroke=\"#000000\"/>\n",
       "</g>\n",
       "<!-- D&#45;&#45;9 -->\n",
       "<g class=\"edge\" id=\"edge7\">\n",
       "<title>D--9</title>\n",
       "<path d=\"M221.6514,-122.0555C215.4024,-133.8205 205.813,-151.8744 201.9166,-159.21\" fill=\"none\" stroke=\"#000000\"/>\n",
       "</g>\n",
       "<!-- E -->\n",
       "<g class=\"node\" id=\"node5\">\n",
       "<title>E</title>\n",
       "<polygon fill=\"#ff7f50\" points=\"235.521,-219.5458 220.521,-219.5458 220.521,-198.5458 235.521,-198.5458 235.521,-219.5458\" stroke=\"#ff7f50\"/>\n",
       "<text fill=\"#000000\" font-family=\"Times,serif\" font-size=\"14.00\" text-anchor=\"middle\" x=\"228.021\" y=\"-205.3458\">E</text>\n",
       "</g>\n",
       "<!-- E&#45;&#45;9 -->\n",
       "<g class=\"edge\" id=\"edge3\">\n",
       "<title>E--9</title>\n",
       "<path d=\"M221.564,-198.2451C215.2673,-187.7126 206.0781,-172.3418 202.1166,-165.7152\" fill=\"none\" stroke=\"#000000\"/>\n",
       "</g>\n",
       "</g>\n",
       "</svg>"
      ],
      "text/plain": [
       "<IPython.core.display.SVG object>"
      ]
     },
     "execution_count": 4,
     "metadata": {},
     "output_type": "execute_result"
    }
   ],
   "source": [
    "bn=gum.fastBN(\"A->B<-C->D->E<-B\")\n",
    "gnb.showBN(bn)\n",
    "# construction de factor graph\n",
    "gf = FactorGraph();\n",
    "gf.build(bn);\n",
    "\n",
    "# show\n",
    "g=dot.graph_from_dot_data(gf.show())\n",
    "SVG(g.create_svg())"
   ]
  },
  {
   "cell_type": "markdown",
   "metadata": {},
   "source": [
    "### TreeSumProductInference"
   ]
  },
  {
   "cell_type": "code",
   "execution_count": 5,
   "metadata": {},
   "outputs": [
    {
     "data": {
      "text/html": [
       "<table style=\"border-style: hidden; border-collapse: collapse;\" width=\"100%\"><tr><td style=\"border-top:hidden;border-bottom:hidden;\"><div align=\"center\" style=\"\"><table style=\"border:1px solid black;\">\n",
       "<tr style='border:1px solid black;color:black;background-color:#808080'><th colspan='2'><center>D</center></th></tr>\n",
       "<tr><th style='border:1px solid black;border-bottom-style: double;color:black;background-color:#BBBBBB'><center>0</center></th><th style='border:1px solid black;border-bottom-style: double;color:black;background-color:#BBBBBB'><center>1</center></th></tr>\n",
       "<tr><td style='color:black;background-color:#cbb264;text-align:right;'>0.3992</td><td style='color:black;background-color:#b2cb64;text-align:right;'>0.6008</td></tr>\n",
       "</table></div></td><td style=\"border-top:hidden;border-bottom:hidden;\"><div align=\"center\" style=\"\"><table style=\"border:1px solid black;\">\n",
       "<tr style='border:1px solid black;color:black;background-color:#808080'><th colspan='2'><center>D</center></th></tr>\n",
       "<tr><th style='border:1px solid black;border-bottom-style: double;color:black;background-color:#BBBBBB'><center>0</center></th><th style='border:1px solid black;border-bottom-style: double;color:black;background-color:#BBBBBB'><center>1</center></th></tr>\n",
       "<tr><td style='color:black;background-color:#cbb264;text-align:right;'>0.3992</td><td style='color:black;background-color:#b2cb64;text-align:right;'>0.6008</td></tr>\n",
       "</table></div></td></tr><tr><td style=\"border-top:hidden;border-bottom:hidden;\"><div align=\"center\"><small>TreeSumProductInference</small></div></td><td style=\"border-top:hidden;border-bottom:hidden;\"><div align=\"center\"><small>bn.LazyPropagation</small></div></td></tr></table>"
      ],
      "text/plain": [
       "<IPython.core.display.HTML object>"
      ]
     },
     "metadata": {},
     "output_type": "display_data"
    }
   ],
   "source": [
    "%reload_ext autoreload\n",
    "%autoreload 2\n",
    "\n",
    "# TreeSumProductInference\n",
    "spi=TreeSumProductInference(gf_tree) # Crée une instance d'inférence\n",
    "spi.makeInference()         # effectue les calculs de tous les messages\n",
    "\n",
    "# LazyPropagation\n",
    "ie=gum.LazyPropagation(bn_tree)\n",
    "ie.makeInference()\n",
    "\n",
    "# affichage\n",
    "gnb.sideBySide(spi.posterior(3),ie.posterior(3),\n",
    "              captions=[\"TreeSumProductInference\",\"bn.LazyPropagation\"])"
   ]
  },
  {
   "cell_type": "markdown",
   "metadata": {},
   "source": [
    "### TreeSumProductInference addEvidence"
   ]
  },
  {
   "cell_type": "code",
   "execution_count": 6,
   "metadata": {},
   "outputs": [
    {
     "name": "stdout",
     "output_type": "stream",
     "text": [
      "Inference avec evidence:\n"
     ]
    },
    {
     "data": {
      "text/html": [
       "<table style=\"border-style: hidden; border-collapse: collapse;\" width=\"100%\"><tr><td style=\"border-top:hidden;border-bottom:hidden;\"><div align=\"center\" style=\"\"><table style=\"border:1px solid black;\">\n",
       "<tr style='border:1px solid black;color:black;background-color:#808080'><th colspan='2'><center>E</center></th></tr>\n",
       "<tr><th style='border:1px solid black;border-bottom-style: double;color:black;background-color:#BBBBBB'><center>0</center></th><th style='border:1px solid black;border-bottom-style: double;color:black;background-color:#BBBBBB'><center>1</center></th></tr>\n",
       "<tr><td style='color:black;background-color:#acd164;text-align:right;'>0.6445</td><td style='color:black;background-color:#d1ac64;text-align:right;'>0.3555</td></tr>\n",
       "</table></div></td><td style=\"border-top:hidden;border-bottom:hidden;\"><div align=\"center\" style=\"\"><table style=\"border:1px solid black;\">\n",
       "<tr style='border:1px solid black;color:black;background-color:#808080'><th colspan='2'><center>E</center></th></tr>\n",
       "<tr><th style='border:1px solid black;border-bottom-style: double;color:black;background-color:#BBBBBB'><center>0</center></th><th style='border:1px solid black;border-bottom-style: double;color:black;background-color:#BBBBBB'><center>1</center></th></tr>\n",
       "<tr><td style='color:black;background-color:#acd164;text-align:right;'>0.6445</td><td style='color:black;background-color:#d1ac64;text-align:right;'>0.3555</td></tr>\n",
       "</table></div></td></tr><tr><td style=\"border-top:hidden;border-bottom:hidden;\"><div align=\"center\"><small>TreeSumProductInference</small></div></td><td style=\"border-top:hidden;border-bottom:hidden;\"><div align=\"center\"><small>bn.LazyPropagation</small></div></td></tr></table>"
      ],
      "text/plain": [
       "<IPython.core.display.HTML object>"
      ]
     },
     "metadata": {},
     "output_type": "display_data"
    }
   ],
   "source": [
    "print(\"Inference avec evidence:\")\n",
    "# pour comparer\n",
    "ie=gum.LazyPropagation(bn_tree)\n",
    "ie.addEvidence(2,1)\n",
    "ie.addEvidence(3,0)\n",
    "ie.makeInference()\n",
    "#gnb.showPotential(ie.posterior(4))\n",
    "\n",
    "%reload_ext autoreload\n",
    "%autoreload 2\n",
    "\n",
    "spi=TreeSumProductInference(gf_tree) # Crée une instance d'inférence\n",
    "spi.addEvidence({\"C\":1,\"D\":0})\n",
    "spi.makeInference()         # effectue les calculs de tous les messages\n",
    "#gnb.showPotential(spi.posterior(4))\n",
    "\n",
    "# affichage\n",
    "gnb.sideBySide(spi.posterior(4),ie.posterior(4),\n",
    "              captions=[\"TreeSumProductInference\",\"bn.LazyPropagation\"])"
   ]
  },
  {
   "cell_type": "markdown",
   "metadata": {},
   "source": [
    "### LBPSumProductInference "
   ]
  },
  {
   "cell_type": "code",
   "execution_count": 7,
   "metadata": {},
   "outputs": [
    {
     "data": {
      "text/html": [
       "<table style=\"border-style: hidden; border-collapse: collapse;\" width=\"100%\"><tr><td style=\"border-top:hidden;border-bottom:hidden;\"><div align=\"center\" style=\"\"><table style=\"border:1px solid black;\">\n",
       "<tr style='border:1px solid black;color:black;background-color:#808080'><th colspan='2'><center>D</center></th></tr>\n",
       "<tr><th style='border:1px solid black;border-bottom-style: double;color:black;background-color:#BBBBBB'><center>0</center></th><th style='border:1px solid black;border-bottom-style: double;color:black;background-color:#BBBBBB'><center>1</center></th></tr>\n",
       "<tr><td style='color:black;background-color:#acd164;text-align:right;'>0.6444</td><td style='color:black;background-color:#d1ac64;text-align:right;'>0.3556</td></tr>\n",
       "</table></div></td><td style=\"border-top:hidden;border-bottom:hidden;\"><div align=\"center\" style=\"\"><table style=\"border:1px solid black;\">\n",
       "<tr style='border:1px solid black;color:black;background-color:#808080'><th colspan='2'><center>D</center></th></tr>\n",
       "<tr><th style='border:1px solid black;border-bottom-style: double;color:black;background-color:#BBBBBB'><center>0</center></th><th style='border:1px solid black;border-bottom-style: double;color:black;background-color:#BBBBBB'><center>1</center></th></tr>\n",
       "<tr><td style='color:black;background-color:#acd164;text-align:right;'>0.6444</td><td style='color:black;background-color:#d1ac64;text-align:right;'>0.3556</td></tr>\n",
       "</table></div></td></tr><tr><td style=\"border-top:hidden;border-bottom:hidden;\"><div align=\"center\"><small>gum.LoopyBeliefPropagation</small></div></td><td style=\"border-top:hidden;border-bottom:hidden;\"><div align=\"center\"><small>LBPSumProductInference</small></div></td></tr></table>"
      ],
      "text/plain": [
       "<IPython.core.display.HTML object>"
      ]
     },
     "metadata": {},
     "output_type": "display_data"
    }
   ],
   "source": [
    "%reload_ext autoreload\n",
    "%autoreload 2\n",
    "\n",
    "\n",
    "ie=gum.LoopyBeliefPropagation(bn)\n",
    "ie.makeInference()\n",
    "\n",
    "spi=LBPSumProductInference(gf) # Crée une instance d'inférence\n",
    "spi.makeInference()         # effectue les calculs de tous les messages\n",
    "\n",
    "gnb.sideBySide(ie.posterior(3),spi.posterior(3),captions=[\"gum.LoopyBeliefPropagation\",\"LBPSumProductInference\"])"
   ]
  },
  {
   "cell_type": "markdown",
   "metadata": {},
   "source": [
    "### LBPSumProductInference  AddEvidence"
   ]
  },
  {
   "cell_type": "code",
   "execution_count": 9,
   "metadata": {
    "scrolled": true
   },
   "outputs": [
    {
     "name": "stdout",
     "output_type": "stream",
     "text": [
      "Inference LBP dans PyAgrum:\n",
      "Exo LBPSumproductInference:\n"
     ]
    },
    {
     "data": {
      "text/html": [
       "<table style=\"border-style: hidden; border-collapse: collapse;\" width=\"100%\"><tr><td style=\"border-top:hidden;border-bottom:hidden;\"><div align=\"center\" style=\"\"><table style=\"border:1px solid black;\">\n",
       "<tr style='border:1px solid black;color:black;background-color:#808080'><th colspan='2'><center>E</center></th></tr>\n",
       "<tr><th style='border:1px solid black;border-bottom-style: double;color:black;background-color:#BBBBBB'><center>0</center></th><th style='border:1px solid black;border-bottom-style: double;color:black;background-color:#BBBBBB'><center>1</center></th></tr>\n",
       "<tr><td style='color:black;background-color:#c5b864;text-align:right;'>0.4466</td><td style='color:black;background-color:#b8c564;text-align:right;'>0.5534</td></tr>\n",
       "</table></div></td><td style=\"border-top:hidden;border-bottom:hidden;\"><div align=\"center\" style=\"\"><table style=\"border:1px solid black;\">\n",
       "<tr style='border:1px solid black;color:black;background-color:#808080'><th colspan='2'><center>E</center></th></tr>\n",
       "<tr><th style='border:1px solid black;border-bottom-style: double;color:black;background-color:#BBBBBB'><center>0</center></th><th style='border:1px solid black;border-bottom-style: double;color:black;background-color:#BBBBBB'><center>1</center></th></tr>\n",
       "<tr><td style='text-align:right;'>0.0000</td><td style='text-align:right;'>0.0000</td></tr>\n",
       "</table></div></td></tr><tr><td style=\"border-top:hidden;border-bottom:hidden;\"><div align=\"center\"><small>gum.LoopyBeliefPropagation</small></div></td><td style=\"border-top:hidden;border-bottom:hidden;\"><div align=\"center\"><small>LBPSumProductInference</small></div></td></tr></table>"
      ],
      "text/plain": [
       "<IPython.core.display.HTML object>"
      ]
     },
     "metadata": {},
     "output_type": "display_data"
    }
   ],
   "source": [
    "# pour comparer\n",
    "print(\"Inference LBP dans PyAgrum:\")\n",
    "ie=gum.LoopyBeliefPropagation(bn)\n",
    "ie.addEvidence(2,1)\n",
    "ie.addEvidence(3,0)\n",
    "ie.makeInference()\n",
    "\n",
    "print(\"Exo LBPSumproductInference:\")\n",
    "spi=LBPSumProductInference(gf) # Crée une instance d'inférence\n",
    "spi.addEvidence({\"C\":1,\"D\":0})\n",
    "spi.makeInference()         # effectue les calculs de tous les messages\n",
    "\n",
    "gnb.sideBySide(ie.posterior(4),spi.posterior(4),captions=[\"gum.LoopyBeliefPropagation\",\"LBPSumProductInference\"])"
   ]
  },
  {
   "cell_type": "markdown",
   "metadata": {},
   "source": [
    "### TreeMaxProductInference"
   ]
  },
  {
   "cell_type": "code",
   "execution_count": 8,
   "metadata": {},
   "outputs": [
    {
     "data": {
      "text/plain": [
       "{'A': 1, 'B': 1, 'C': 0, 'D': 0, 'E': 0}"
      ]
     },
     "execution_count": 8,
     "metadata": {},
     "output_type": "execute_result"
    }
   ],
   "source": [
    "%reload_ext autoreload\n",
    "%autoreload 2\n",
    "\n",
    "spi=TreeMaxProductInference(gf_tree) # Crée une instance d'inférence\n",
    "spi.makeInference()         # effectue les calculs de tous les messages\n",
    "spi.argmax()"
   ]
  },
  {
   "cell_type": "markdown",
   "metadata": {},
   "source": [
    "### TreeMaxSumInference"
   ]
  },
  {
   "cell_type": "markdown",
   "metadata": {},
   "source": [
    "### TreeMaxSumInference"
   ]
  }
 ],
 "metadata": {
  "kernelspec": {
   "display_name": "Python 3",
   "language": "python",
   "name": "python3"
  },
  "language_info": {
   "codemirror_mode": {
    "name": "ipython",
    "version": 3
   },
   "file_extension": ".py",
   "mimetype": "text/x-python",
   "name": "python",
   "nbconvert_exporter": "python",
   "pygments_lexer": "ipython3",
   "version": "3.7.3"
  }
 },
 "nbformat": 4,
 "nbformat_minor": 2
}
