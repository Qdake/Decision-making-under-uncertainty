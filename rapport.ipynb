{
 "cells": [
  {
   "cell_type": "markdown",
   "metadata": {},
   "source": [
    "# Compte rendu du projet MADI\n",
    "\n",
    "\n",
    "Seddar mohand oubelaid\n",
    "## Création de la classe Factor Graph :\n",
    "\n",
    "Dans cette partie nous avons créé une classe Factor Graph, cette classe représente un **Factor Graph** , et qui est initilisé à travers un objet de type **Réseau Bayésien**, cette classe contient des noeuds de type **variable** ainsi, que des noeuds de type **Factor** pour stocker les tableaux de potentiel.\n"
   ]
  },
  {
   "cell_type": "code",
   "execution_count": 1,
   "metadata": {},
   "outputs": [],
   "source": [
    "%reload_ext autoreload\n",
    "%autoreload 2\n",
    "from projet_madi import *\n",
    "import pyAgrum as gum\n",
    "import pyAgrum.lib.notebook as gnb\n",
    "import pydotplus as dot\n",
    "from IPython.display import SVG\n",
    "import numpy as np\n"
   ]
  },
  {
   "cell_type": "markdown",
   "metadata": {},
   "source": [
    "### Factor Graph"
   ]
  },
  {
   "cell_type": "code",
   "execution_count": 2,
   "metadata": {},
   "outputs": [
    {
     "data": {
      "image/svg+xml": [
       "<svg height=\"188pt\" viewBox=\"0.00 0.00 134.00 188.00\" width=\"134pt\" xmlns=\"http://www.w3.org/2000/svg\" xmlns:xlink=\"http://www.w3.org/1999/xlink\">\n",
       "<g class=\"graph\" id=\"graph0\" transform=\"scale(1 1) rotate(0) translate(4 184)\">\n",
       "<title>G</title>\n",
       "<!-- A -->\n",
       "<g class=\"node\" id=\"node1\">\n",
       "<title>A</title>\n",
       "<g id=\"a_node1\"><a xlink:title=\"(0) A\">\n",
       "<ellipse cx=\"27\" cy=\"-162\" fill=\"#404040\" rx=\"27\" ry=\"18\" stroke=\"#000000\"/>\n",
       "<text fill=\"#ffffff\" font-family=\"Times,serif\" font-size=\"14.00\" text-anchor=\"middle\" x=\"27\" y=\"-158.3\">A</text>\n",
       "</a>\n",
       "</g>\n",
       "</g>\n",
       "<!-- B -->\n",
       "<g class=\"node\" id=\"node2\">\n",
       "<title>B</title>\n",
       "<g id=\"a_node2\"><a xlink:title=\"(1) B\">\n",
       "<ellipse cx=\"27\" cy=\"-90\" fill=\"#404040\" rx=\"27\" ry=\"18\" stroke=\"#000000\"/>\n",
       "<text fill=\"#ffffff\" font-family=\"Times,serif\" font-size=\"14.00\" text-anchor=\"middle\" x=\"27\" y=\"-86.3\">B</text>\n",
       "</a>\n",
       "</g>\n",
       "</g>\n",
       "<!-- A&#45;&gt;B -->\n",
       "<g class=\"edge\" id=\"edge1\">\n",
       "<title>A-&gt;B</title>\n",
       "<g id=\"a_edge1\"><a xlink:title=\"(0, 1) : \">\n",
       "<path d=\"M27,-143.8314C27,-136.131 27,-126.9743 27,-118.4166\" fill=\"none\" stroke=\"#4a4a4a\"/>\n",
       "<polygon fill=\"#4a4a4a\" points=\"30.5001,-118.4132 27,-108.4133 23.5001,-118.4133 30.5001,-118.4132\" stroke=\"#4a4a4a\"/>\n",
       "</a>\n",
       "</g>\n",
       "</g>\n",
       "<!-- E -->\n",
       "<g class=\"node\" id=\"node5\">\n",
       "<title>E</title>\n",
       "<g id=\"a_node5\"><a xlink:title=\"(4) E\">\n",
       "<ellipse cx=\"27\" cy=\"-18\" fill=\"#404040\" rx=\"27\" ry=\"18\" stroke=\"#000000\"/>\n",
       "<text fill=\"#ffffff\" font-family=\"Times,serif\" font-size=\"14.00\" text-anchor=\"middle\" x=\"27\" y=\"-14.3\">E</text>\n",
       "</a>\n",
       "</g>\n",
       "</g>\n",
       "<!-- B&#45;&gt;E -->\n",
       "<g class=\"edge\" id=\"edge2\">\n",
       "<title>B-&gt;E</title>\n",
       "<g id=\"a_edge2\"><a xlink:title=\"(1, 4) : \">\n",
       "<path d=\"M27,-71.8314C27,-64.131 27,-54.9743 27,-46.4166\" fill=\"none\" stroke=\"#4a4a4a\"/>\n",
       "<polygon fill=\"#4a4a4a\" points=\"30.5001,-46.4132 27,-36.4133 23.5001,-46.4133 30.5001,-46.4132\" stroke=\"#4a4a4a\"/>\n",
       "</a>\n",
       "</g>\n",
       "</g>\n",
       "<!-- C -->\n",
       "<g class=\"node\" id=\"node3\">\n",
       "<title>C</title>\n",
       "<g id=\"a_node3\"><a xlink:title=\"(2) C\">\n",
       "<ellipse cx=\"99\" cy=\"-162\" fill=\"#404040\" rx=\"27\" ry=\"18\" stroke=\"#000000\"/>\n",
       "<text fill=\"#ffffff\" font-family=\"Times,serif\" font-size=\"14.00\" text-anchor=\"middle\" x=\"99\" y=\"-158.3\">C</text>\n",
       "</a>\n",
       "</g>\n",
       "</g>\n",
       "<!-- C&#45;&gt;B -->\n",
       "<g class=\"edge\" id=\"edge4\">\n",
       "<title>C-&gt;B</title>\n",
       "<g id=\"a_edge4\"><a xlink:title=\"(2, 1) : \">\n",
       "<path d=\"M83.7307,-146.7307C73.803,-136.803 60.6847,-123.6847 49.5637,-112.5637\" fill=\"none\" stroke=\"#4a4a4a\"/>\n",
       "<polygon fill=\"#4a4a4a\" points=\"51.7933,-109.8436 42.2473,-105.2473 46.8436,-114.7933 51.7933,-109.8436\" stroke=\"#4a4a4a\"/>\n",
       "</a>\n",
       "</g>\n",
       "</g>\n",
       "<!-- D -->\n",
       "<g class=\"node\" id=\"node4\">\n",
       "<title>D</title>\n",
       "<g id=\"a_node4\"><a xlink:title=\"(3) D\">\n",
       "<ellipse cx=\"99\" cy=\"-90\" fill=\"#404040\" rx=\"27\" ry=\"18\" stroke=\"#000000\"/>\n",
       "<text fill=\"#ffffff\" font-family=\"Times,serif\" font-size=\"14.00\" text-anchor=\"middle\" x=\"99\" y=\"-86.3\">D</text>\n",
       "</a>\n",
       "</g>\n",
       "</g>\n",
       "<!-- C&#45;&gt;D -->\n",
       "<g class=\"edge\" id=\"edge3\">\n",
       "<title>C-&gt;D</title>\n",
       "<g id=\"a_edge3\"><a xlink:title=\"(2, 3) : \">\n",
       "<path d=\"M99,-143.8314C99,-136.131 99,-126.9743 99,-118.4166\" fill=\"none\" stroke=\"#4a4a4a\"/>\n",
       "<polygon fill=\"#4a4a4a\" points=\"102.5001,-118.4132 99,-108.4133 95.5001,-118.4133 102.5001,-118.4132\" stroke=\"#4a4a4a\"/>\n",
       "</a>\n",
       "</g>\n",
       "</g>\n",
       "</g>\n",
       "</svg>"
      ],
      "text/plain": [
       "<IPython.core.display.SVG object>"
      ]
     },
     "metadata": {},
     "output_type": "display_data"
    },
    {
     "data": {
      "image/svg+xml": [
       "<svg height=\"277pt\" viewBox=\"0.00 0.00 273.82 277.17\" width=\"274pt\" xmlns=\"http://www.w3.org/2000/svg\" xmlns:xlink=\"http://www.w3.org/1999/xlink\">\n",
       "<g class=\"graph\" id=\"graph0\" transform=\"scale(1 1) rotate(0) translate(4 273.1711)\">\n",
       "<title>FG</title>\n",
       "<polygon fill=\"#ffffff\" points=\"-4,4 -4,-273.1711 269.8225,-273.1711 269.8225,4 -4,4\" stroke=\"transparent\"/>\n",
       "<!-- A -->\n",
       "<g class=\"node\" id=\"node1\">\n",
       "<title>A</title>\n",
       "<polygon fill=\"#ff7f50\" points=\"85.8907,-63.5531 68.8907,-63.5531 68.8907,-42.5531 85.8907,-42.5531 85.8907,-63.5531\" stroke=\"#ff7f50\"/>\n",
       "<text fill=\"#000000\" font-family=\"Times,serif\" font-size=\"14.00\" text-anchor=\"middle\" x=\"77.3907\" y=\"-49.3531\">A</text>\n",
       "</g>\n",
       "<!-- 5 -->\n",
       "<g class=\"node\" id=\"node6\">\n",
       "<title>5</title>\n",
       "<ellipse cx=\"57.5794\" cy=\"-3.6\" fill=\"#deb887\" rx=\"3.6\" ry=\"3.6\" stroke=\"#deb887\"/>\n",
       "</g>\n",
       "<!-- A&#45;&#45;5 -->\n",
       "<g class=\"edge\" id=\"edge7\">\n",
       "<title>A--5</title>\n",
       "<path d=\"M72.994,-42.0779C68.5253,-30.9233 61.8635,-14.2941 58.9863,-7.112\" fill=\"none\" stroke=\"#000000\"/>\n",
       "</g>\n",
       "<!-- 6 -->\n",
       "<g class=\"node\" id=\"node7\">\n",
       "<title>6</title>\n",
       "<ellipse cx=\"97.2578\" cy=\"-106.8526\" fill=\"#deb887\" rx=\"3.6\" ry=\"3.6\" stroke=\"#deb887\"/>\n",
       "</g>\n",
       "<!-- A&#45;&#45;6 -->\n",
       "<g class=\"edge\" id=\"edge6\">\n",
       "<title>A--6</title>\n",
       "<path d=\"M81.3158,-63.6822C85.8392,-75.9312 93.025,-95.3903 95.9524,-103.3175\" fill=\"none\" stroke=\"#000000\"/>\n",
       "</g>\n",
       "<!-- B -->\n",
       "<g class=\"node\" id=\"node2\">\n",
       "<title>B</title>\n",
       "<polygon fill=\"#ff7f50\" points=\"161.8812,-117.8484 145.8812,-117.8484 145.8812,-96.8484 161.8812,-96.8484 161.8812,-117.8484\" stroke=\"#ff7f50\"/>\n",
       "<text fill=\"#000000\" font-family=\"Times,serif\" font-size=\"14.00\" text-anchor=\"middle\" x=\"153.8812\" y=\"-103.6484\">B</text>\n",
       "</g>\n",
       "<!-- B&#45;&#45;6 -->\n",
       "<g class=\"edge\" id=\"edge9\">\n",
       "<title>B--6</title>\n",
       "<path d=\"M145.5262,-107.2752C132.9748,-107.1653 109.7763,-106.9622 100.8698,-106.8842\" fill=\"none\" stroke=\"#000000\"/>\n",
       "</g>\n",
       "<!-- 9 -->\n",
       "<g class=\"node\" id=\"node10\">\n",
       "<title>9</title>\n",
       "<ellipse cx=\"206.7435\" cy=\"-103.0244\" fill=\"#deb887\" rx=\"3.6\" ry=\"3.6\" stroke=\"#deb887\"/>\n",
       "</g>\n",
       "<!-- B&#45;&#45;9 -->\n",
       "<g class=\"edge\" id=\"edge8\">\n",
       "<title>B--9</title>\n",
       "<path d=\"M162.1409,-106.6728C173.7562,-105.7227 194.4458,-104.0303 202.9418,-103.3354\" fill=\"none\" stroke=\"#000000\"/>\n",
       "</g>\n",
       "<!-- C -->\n",
       "<g class=\"node\" id=\"node3\">\n",
       "<title>C</title>\n",
       "<polygon fill=\"#ff7f50\" points=\"67.9094,-162.4276 51.9094,-162.4276 51.9094,-141.4276 67.9094,-141.4276 67.9094,-162.4276\" stroke=\"#ff7f50\"/>\n",
       "<text fill=\"#000000\" font-family=\"Times,serif\" font-size=\"14.00\" text-anchor=\"middle\" x=\"59.9094\" y=\"-148.2276\">C</text>\n",
       "</g>\n",
       "<!-- C&#45;&#45;6 -->\n",
       "<g class=\"edge\" id=\"edge2\">\n",
       "<title>C--6</title>\n",
       "<path d=\"M68.1983,-141.924C76.7944,-131.5494 89.6956,-115.9792 94.9286,-109.6637\" fill=\"none\" stroke=\"#000000\"/>\n",
       "</g>\n",
       "<!-- 7 -->\n",
       "<g class=\"node\" id=\"node8\">\n",
       "<title>7</title>\n",
       "<ellipse cx=\"3.6\" cy=\"-145.2709\" fill=\"#deb887\" rx=\"3.6\" ry=\"3.6\" stroke=\"#deb887\"/>\n",
       "</g>\n",
       "<!-- C&#45;&#45;7 -->\n",
       "<g class=\"edge\" id=\"edge1\">\n",
       "<title>C--7</title>\n",
       "<path d=\"M51.6008,-150.9454C39.119,-149.4698 16.0491,-146.7426 7.1919,-145.6955\" fill=\"none\" stroke=\"#000000\"/>\n",
       "</g>\n",
       "<!-- 8 -->\n",
       "<g class=\"node\" id=\"node9\">\n",
       "<title>8</title>\n",
       "<ellipse cx=\"59.576\" cy=\"-207.7429\" fill=\"#deb887\" rx=\"3.6\" ry=\"3.6\" stroke=\"#deb887\"/>\n",
       "</g>\n",
       "<!-- C&#45;&#45;8 -->\n",
       "<g class=\"edge\" id=\"edge4\">\n",
       "<title>C--8</title>\n",
       "<path d=\"M59.8451,-162.6893C59.7694,-175.3606 59.6477,-195.7315 59.5981,-204.0374\" fill=\"none\" stroke=\"#000000\"/>\n",
       "</g>\n",
       "<!-- D -->\n",
       "<g class=\"node\" id=\"node4\">\n",
       "<title>D</title>\n",
       "<polygon fill=\"#ff7f50\" points=\"54.7441,-269.1711 37.7441,-269.1711 37.7441,-248.1711 54.7441,-248.1711 54.7441,-269.1711\" stroke=\"#ff7f50\"/>\n",
       "<text fill=\"#000000\" font-family=\"Times,serif\" font-size=\"14.00\" text-anchor=\"middle\" x=\"46.2441\" y=\"-254.9711\">D</text>\n",
       "</g>\n",
       "<!-- D&#45;&#45;8 -->\n",
       "<g class=\"edge\" id=\"edge5\">\n",
       "<title>D--8</title>\n",
       "<path d=\"M49.0715,-247.8706C52.0677,-236.4248 56.6335,-218.9832 58.6091,-211.4362\" fill=\"none\" stroke=\"#000000\"/>\n",
       "</g>\n",
       "<!-- E -->\n",
       "<g class=\"node\" id=\"node5\">\n",
       "<title>E</title>\n",
       "<polygon fill=\"#ff7f50\" points=\"265.8225,-111.8674 250.8225,-111.8674 250.8225,-90.8674 265.8225,-90.8674 265.8225,-111.8674\" stroke=\"#ff7f50\"/>\n",
       "<text fill=\"#000000\" font-family=\"Times,serif\" font-size=\"14.00\" text-anchor=\"middle\" x=\"258.3225\" y=\"-97.6674\">E</text>\n",
       "</g>\n",
       "<!-- E&#45;&#45;9 -->\n",
       "<g class=\"edge\" id=\"edge3\">\n",
       "<title>E--9</title>\n",
       "<path d=\"M250.7118,-101.6119C239.5028,-101.972 218.9717,-102.6316 210.5258,-102.9029\" fill=\"none\" stroke=\"#000000\"/>\n",
       "</g>\n",
       "</g>\n",
       "</svg>"
      ],
      "text/plain": [
       "<IPython.core.display.SVG object>"
      ]
     },
     "execution_count": 2,
     "metadata": {},
     "output_type": "execute_result"
    }
   ],
   "source": [
    "# construction de bn en forme d'un arbre\n",
    "bn_tree=gum.fastBN(\"A->B<-C->D->E<-B\")\n",
    "bn_tree.eraseArc(\"D\",\"E\")\n",
    "gnb.showBN(bn_tree)\n",
    "# construction de factor graph\n",
    "gf_tree = FactorGraph();\n",
    "gf_tree.build(bn_tree);\n",
    "# show\n",
    "g=dot.graph_from_dot_data(gf_tree.show())\n",
    "SVG(g.create_svg())"
   ]
  },
  {
   "cell_type": "code",
   "execution_count": 3,
   "metadata": {},
   "outputs": [
    {
     "data": {
      "image/svg+xml": [
       "<svg height=\"188pt\" viewBox=\"0.00 0.00 134.00 188.00\" width=\"134pt\" xmlns=\"http://www.w3.org/2000/svg\" xmlns:xlink=\"http://www.w3.org/1999/xlink\">\n",
       "<g class=\"graph\" id=\"graph0\" transform=\"scale(1 1) rotate(0) translate(4 184)\">\n",
       "<title>G</title>\n",
       "<!-- A -->\n",
       "<g class=\"node\" id=\"node1\">\n",
       "<title>A</title>\n",
       "<g id=\"a_node1\"><a xlink:title=\"(0) A\">\n",
       "<ellipse cx=\"27\" cy=\"-162\" fill=\"#404040\" rx=\"27\" ry=\"18\" stroke=\"#000000\"/>\n",
       "<text fill=\"#ffffff\" font-family=\"Times,serif\" font-size=\"14.00\" text-anchor=\"middle\" x=\"27\" y=\"-158.3\">A</text>\n",
       "</a>\n",
       "</g>\n",
       "</g>\n",
       "<!-- B -->\n",
       "<g class=\"node\" id=\"node2\">\n",
       "<title>B</title>\n",
       "<g id=\"a_node2\"><a xlink:title=\"(1) B\">\n",
       "<ellipse cx=\"27\" cy=\"-90\" fill=\"#404040\" rx=\"27\" ry=\"18\" stroke=\"#000000\"/>\n",
       "<text fill=\"#ffffff\" font-family=\"Times,serif\" font-size=\"14.00\" text-anchor=\"middle\" x=\"27\" y=\"-86.3\">B</text>\n",
       "</a>\n",
       "</g>\n",
       "</g>\n",
       "<!-- A&#45;&gt;B -->\n",
       "<g class=\"edge\" id=\"edge1\">\n",
       "<title>A-&gt;B</title>\n",
       "<g id=\"a_edge1\"><a xlink:title=\"(0, 1) : \">\n",
       "<path d=\"M27,-143.8314C27,-136.131 27,-126.9743 27,-118.4166\" fill=\"none\" stroke=\"#4a4a4a\"/>\n",
       "<polygon fill=\"#4a4a4a\" points=\"30.5001,-118.4132 27,-108.4133 23.5001,-118.4133 30.5001,-118.4132\" stroke=\"#4a4a4a\"/>\n",
       "</a>\n",
       "</g>\n",
       "</g>\n",
       "<!-- E -->\n",
       "<g class=\"node\" id=\"node5\">\n",
       "<title>E</title>\n",
       "<g id=\"a_node5\"><a xlink:title=\"(4) E\">\n",
       "<ellipse cx=\"63\" cy=\"-18\" fill=\"#404040\" rx=\"27\" ry=\"18\" stroke=\"#000000\"/>\n",
       "<text fill=\"#ffffff\" font-family=\"Times,serif\" font-size=\"14.00\" text-anchor=\"middle\" x=\"63\" y=\"-14.3\">E</text>\n",
       "</a>\n",
       "</g>\n",
       "</g>\n",
       "<!-- B&#45;&gt;E -->\n",
       "<g class=\"edge\" id=\"edge2\">\n",
       "<title>B-&gt;E</title>\n",
       "<g id=\"a_edge2\"><a xlink:title=\"(1, 4) : \">\n",
       "<path d=\"M35.7146,-72.5708C39.9597,-64.0807 45.1536,-53.6929 49.8663,-44.2674\" fill=\"none\" stroke=\"#4a4a4a\"/>\n",
       "<polygon fill=\"#4a4a4a\" points=\"53.024,-45.7782 54.3657,-35.2687 46.763,-42.6477 53.024,-45.7782\" stroke=\"#4a4a4a\"/>\n",
       "</a>\n",
       "</g>\n",
       "</g>\n",
       "<!-- C -->\n",
       "<g class=\"node\" id=\"node3\">\n",
       "<title>C</title>\n",
       "<g id=\"a_node3\"><a xlink:title=\"(2) C\">\n",
       "<ellipse cx=\"99\" cy=\"-162\" fill=\"#404040\" rx=\"27\" ry=\"18\" stroke=\"#000000\"/>\n",
       "<text fill=\"#ffffff\" font-family=\"Times,serif\" font-size=\"14.00\" text-anchor=\"middle\" x=\"99\" y=\"-158.3\">C</text>\n",
       "</a>\n",
       "</g>\n",
       "</g>\n",
       "<!-- C&#45;&gt;B -->\n",
       "<g class=\"edge\" id=\"edge3\">\n",
       "<title>C-&gt;B</title>\n",
       "<g id=\"a_edge3\"><a xlink:title=\"(2, 1) : \">\n",
       "<path d=\"M83.7307,-146.7307C73.803,-136.803 60.6847,-123.6847 49.5637,-112.5637\" fill=\"none\" stroke=\"#4a4a4a\"/>\n",
       "<polygon fill=\"#4a4a4a\" points=\"51.7933,-109.8436 42.2473,-105.2473 46.8436,-114.7933 51.7933,-109.8436\" stroke=\"#4a4a4a\"/>\n",
       "</a>\n",
       "</g>\n",
       "</g>\n",
       "<!-- D -->\n",
       "<g class=\"node\" id=\"node4\">\n",
       "<title>D</title>\n",
       "<g id=\"a_node4\"><a xlink:title=\"(3) D\">\n",
       "<ellipse cx=\"99\" cy=\"-90\" fill=\"#404040\" rx=\"27\" ry=\"18\" stroke=\"#000000\"/>\n",
       "<text fill=\"#ffffff\" font-family=\"Times,serif\" font-size=\"14.00\" text-anchor=\"middle\" x=\"99\" y=\"-86.3\">D</text>\n",
       "</a>\n",
       "</g>\n",
       "</g>\n",
       "<!-- C&#45;&gt;D -->\n",
       "<g class=\"edge\" id=\"edge4\">\n",
       "<title>C-&gt;D</title>\n",
       "<g id=\"a_edge4\"><a xlink:title=\"(2, 3) : \">\n",
       "<path d=\"M99,-143.8314C99,-136.131 99,-126.9743 99,-118.4166\" fill=\"none\" stroke=\"#4a4a4a\"/>\n",
       "<polygon fill=\"#4a4a4a\" points=\"102.5001,-118.4132 99,-108.4133 95.5001,-118.4133 102.5001,-118.4132\" stroke=\"#4a4a4a\"/>\n",
       "</a>\n",
       "</g>\n",
       "</g>\n",
       "<!-- D&#45;&gt;E -->\n",
       "<g class=\"edge\" id=\"edge5\">\n",
       "<title>D-&gt;E</title>\n",
       "<g id=\"a_edge5\"><a xlink:title=\"(3, 4) : \">\n",
       "<path d=\"M90.2854,-72.5708C86.0403,-64.0807 80.8464,-53.6929 76.1337,-44.2674\" fill=\"none\" stroke=\"#4a4a4a\"/>\n",
       "<polygon fill=\"#4a4a4a\" points=\"79.237,-42.6477 71.6343,-35.2687 72.976,-45.7782 79.237,-42.6477\" stroke=\"#4a4a4a\"/>\n",
       "</a>\n",
       "</g>\n",
       "</g>\n",
       "</g>\n",
       "</svg>"
      ],
      "text/plain": [
       "<IPython.core.display.SVG object>"
      ]
     },
     "metadata": {},
     "output_type": "display_data"
    },
    {
     "data": {
      "image/svg+xml": [
       "<svg height=\"228pt\" viewBox=\"0.00 0.00 243.93 227.55\" width=\"244pt\" xmlns=\"http://www.w3.org/2000/svg\" xmlns:xlink=\"http://www.w3.org/1999/xlink\">\n",
       "<g class=\"graph\" id=\"graph0\" transform=\"scale(1 1) rotate(0) translate(4 223.5458)\">\n",
       "<title>FG</title>\n",
       "<polygon fill=\"#ffffff\" points=\"-4,4 -4,-223.5458 239.9303,-223.5458 239.9303,4 -4,4\" stroke=\"transparent\"/>\n",
       "<!-- A -->\n",
       "<g class=\"node\" id=\"node1\">\n",
       "<title>A</title>\n",
       "<polygon fill=\"#ff7f50\" points=\"62.5233,-129.0588 45.5233,-129.0588 45.5233,-108.0588 62.5233,-108.0588 62.5233,-129.0588\" stroke=\"#ff7f50\"/>\n",
       "<text fill=\"#000000\" font-family=\"Times,serif\" font-size=\"14.00\" text-anchor=\"middle\" x=\"54.0233\" y=\"-114.8588\">A</text>\n",
       "</g>\n",
       "<!-- 5 -->\n",
       "<g class=\"node\" id=\"node6\">\n",
       "<title>5</title>\n",
       "<ellipse cx=\"3.6\" cy=\"-132.3415\" fill=\"#deb887\" rx=\"3.6\" ry=\"3.6\" stroke=\"#deb887\"/>\n",
       "</g>\n",
       "<!-- A&#45;&#45;5 -->\n",
       "<g class=\"edge\" id=\"edge8\">\n",
       "<title>A--5</title>\n",
       "<path d=\"M45.2402,-120.9596C33.9538,-124.0446 14.8872,-129.2562 7.0857,-131.3887\" fill=\"none\" stroke=\"#000000\"/>\n",
       "</g>\n",
       "<!-- 6 -->\n",
       "<g class=\"node\" id=\"node7\">\n",
       "<title>6</title>\n",
       "<ellipse cx=\"108.6162\" cy=\"-108.9556\" fill=\"#deb887\" rx=\"3.6\" ry=\"3.6\" stroke=\"#deb887\"/>\n",
       "</g>\n",
       "<!-- A&#45;&#45;6 -->\n",
       "<g class=\"edge\" id=\"edge6\">\n",
       "<title>A--6</title>\n",
       "<path d=\"M62.5534,-117.0583C74.6689,-114.9271 96.3442,-111.1143 104.9494,-109.6006\" fill=\"none\" stroke=\"#000000\"/>\n",
       "</g>\n",
       "<!-- B -->\n",
       "<g class=\"node\" id=\"node2\">\n",
       "<title>B</title>\n",
       "<polygon fill=\"#ff7f50\" points=\"151.308,-166.5512 135.308,-166.5512 135.308,-145.5512 151.308,-145.5512 151.308,-166.5512\" stroke=\"#ff7f50\"/>\n",
       "<text fill=\"#000000\" font-family=\"Times,serif\" font-size=\"14.00\" text-anchor=\"middle\" x=\"143.308\" y=\"-152.3512\">B</text>\n",
       "</g>\n",
       "<!-- B&#45;&#45;6 -->\n",
       "<g class=\"edge\" id=\"edge10\">\n",
       "<title>B--6</title>\n",
       "<path d=\"M135.2618,-145.1281C127.4155,-134.4764 115.9647,-118.9314 111.0281,-112.2298\" fill=\"none\" stroke=\"#000000\"/>\n",
       "</g>\n",
       "<!-- 9 -->\n",
       "<g class=\"node\" id=\"node10\">\n",
       "<title>9</title>\n",
       "<ellipse cx=\"200.181\" cy=\"-162.4776\" fill=\"#deb887\" rx=\"3.6\" ry=\"3.6\" stroke=\"#deb887\"/>\n",
       "</g>\n",
       "<!-- B&#45;&#45;9 -->\n",
       "<g class=\"edge\" id=\"edge9\">\n",
       "<title>B--9</title>\n",
       "<path d=\"M151.6998,-156.9995C164.3065,-158.424 187.6073,-161.0569 196.5531,-162.0677\" fill=\"none\" stroke=\"#000000\"/>\n",
       "</g>\n",
       "<!-- C -->\n",
       "<g class=\"node\" id=\"node3\">\n",
       "<title>C</title>\n",
       "<polygon fill=\"#ff7f50\" points=\"145.8165,-68.0751 129.8165,-68.0751 129.8165,-47.0751 145.8165,-47.0751 145.8165,-68.0751\" stroke=\"#ff7f50\"/>\n",
       "<text fill=\"#000000\" font-family=\"Times,serif\" font-size=\"14.00\" text-anchor=\"middle\" x=\"137.8165\" y=\"-53.8751\">C</text>\n",
       "</g>\n",
       "<!-- C&#45;&#45;6 -->\n",
       "<g class=\"edge\" id=\"edge2\">\n",
       "<title>C--6</title>\n",
       "<path d=\"M131.6238,-68.4716C124.9274,-80.2546 114.6514,-98.3361 110.4761,-105.6829\" fill=\"none\" stroke=\"#000000\"/>\n",
       "</g>\n",
       "<!-- 7 -->\n",
       "<g class=\"node\" id=\"node8\">\n",
       "<title>7</title>\n",
       "<ellipse cx=\"125.8255\" cy=\"-3.6\" fill=\"#deb887\" rx=\"3.6\" ry=\"3.6\" stroke=\"#deb887\"/>\n",
       "</g>\n",
       "<!-- C&#45;&#45;7 -->\n",
       "<g class=\"edge\" id=\"edge1\">\n",
       "<title>C--7</title>\n",
       "<path d=\"M135.4474,-46.9114C132.7173,-34.6223 128.3803,-15.0997 126.6134,-7.1467\" fill=\"none\" stroke=\"#000000\"/>\n",
       "</g>\n",
       "<!-- 8 -->\n",
       "<g class=\"node\" id=\"node9\">\n",
       "<title>8</title>\n",
       "<ellipse cx=\"195.7591\" cy=\"-64.2795\" fill=\"#deb887\" rx=\"3.6\" ry=\"3.6\" stroke=\"#deb887\"/>\n",
       "</g>\n",
       "<!-- C&#45;&#45;8 -->\n",
       "<g class=\"edge\" id=\"edge4\">\n",
       "<title>C--8</title>\n",
       "<path d=\"M145.8731,-58.5073C158.5602,-59.9753 182.7054,-62.7691 191.9909,-63.8435\" fill=\"none\" stroke=\"#000000\"/>\n",
       "</g>\n",
       "<!-- D -->\n",
       "<g class=\"node\" id=\"node4\">\n",
       "<title>D</title>\n",
       "<polygon fill=\"#ff7f50\" points=\"235.9303,-121.6756 218.9303,-121.6756 218.9303,-100.6756 235.9303,-100.6756 235.9303,-121.6756\" stroke=\"#ff7f50\"/>\n",
       "<text fill=\"#000000\" font-family=\"Times,serif\" font-size=\"14.00\" text-anchor=\"middle\" x=\"227.4303\" y=\"-107.4756\">D</text>\n",
       "</g>\n",
       "<!-- D&#45;&#45;8 -->\n",
       "<g class=\"edge\" id=\"edge5\">\n",
       "<title>D--8</title>\n",
       "<path d=\"M220.0847,-100.2989C212.9215,-89.6922 202.4678,-74.2131 197.9611,-67.5399\" fill=\"none\" stroke=\"#000000\"/>\n",
       "</g>\n",
       "<!-- D&#45;&#45;9 -->\n",
       "<g class=\"edge\" id=\"edge7\">\n",
       "<title>D--9</title>\n",
       "<path d=\"M221.6514,-122.0555C215.4024,-133.8205 205.813,-151.8744 201.9166,-159.21\" fill=\"none\" stroke=\"#000000\"/>\n",
       "</g>\n",
       "<!-- E -->\n",
       "<g class=\"node\" id=\"node5\">\n",
       "<title>E</title>\n",
       "<polygon fill=\"#ff7f50\" points=\"235.521,-219.5458 220.521,-219.5458 220.521,-198.5458 235.521,-198.5458 235.521,-219.5458\" stroke=\"#ff7f50\"/>\n",
       "<text fill=\"#000000\" font-family=\"Times,serif\" font-size=\"14.00\" text-anchor=\"middle\" x=\"228.021\" y=\"-205.3458\">E</text>\n",
       "</g>\n",
       "<!-- E&#45;&#45;9 -->\n",
       "<g class=\"edge\" id=\"edge3\">\n",
       "<title>E--9</title>\n",
       "<path d=\"M221.564,-198.2451C215.2673,-187.7126 206.0781,-172.3418 202.1166,-165.7152\" fill=\"none\" stroke=\"#000000\"/>\n",
       "</g>\n",
       "</g>\n",
       "</svg>"
      ],
      "text/plain": [
       "<IPython.core.display.SVG object>"
      ]
     },
     "execution_count": 3,
     "metadata": {},
     "output_type": "execute_result"
    }
   ],
   "source": [
    "bn=gum.fastBN(\"A->B<-C->D->E<-B\")\n",
    "gnb.showBN(bn)\n",
    "# construction de factor graph\n",
    "gf = FactorGraph();\n",
    "gf.build(bn);\n",
    "\n",
    "# show\n",
    "g=dot.graph_from_dot_data(gf.show())\n",
    "SVG(g.create_svg())\n"
   ]
  },
  {
   "cell_type": "markdown",
   "metadata": {},
   "source": [
    "### TreeSumProductInference"
   ]
  },
  {
   "cell_type": "code",
   "execution_count": 4,
   "metadata": {},
   "outputs": [
    {
     "name": "stdout",
     "output_type": "stream",
     "text": [
      "bn.LazyPropagation:\n"
     ]
    },
    {
     "data": {
      "text/html": [
       "<table style=\"border-style: hidden; border-collapse: collapse;\" width=\"100%\"><tr><td style=\"border-top:hidden;border-bottom:hidden;\"><div align=\"center\" style=\"\"><table style=\"border:1px solid black;\">\n",
       "<tr style='border:1px solid black;color:black;background-color:#808080'><th colspan='2'><center>A</center></th></tr>\n",
       "<tr><th style='border:1px solid black;border-bottom-style: double;color:black;background-color:#BBBBBB'><center>0</center></th><th style='border:1px solid black;border-bottom-style: double;color:black;background-color:#BBBBBB'><center>1</center></th></tr>\n",
       "<tr><td style='color:black;background-color:#a4d964;text-align:right;'>0.7105</td><td style='color:black;background-color:#d9a464;text-align:right;'>0.2895</td></tr>\n",
       "</table></div></td><td style=\"border-top:hidden;border-bottom:hidden;\"><div align=\"center\" style=\"\"><table style=\"border:1px solid black;\">\n",
       "<tr style='border:1px solid black;color:black;background-color:#808080'><th colspan='2'><center>B</center></th></tr>\n",
       "<tr><th style='border:1px solid black;border-bottom-style: double;color:black;background-color:#BBBBBB'><center>0</center></th><th style='border:1px solid black;border-bottom-style: double;color:black;background-color:#BBBBBB'><center>1</center></th></tr>\n",
       "<tr><td style='color:black;background-color:#c7b664;text-align:right;'>0.4323</td><td style='color:black;background-color:#b6c764;text-align:right;'>0.5677</td></tr>\n",
       "</table></div></td><td style=\"border-top:hidden;border-bottom:hidden;\"><div align=\"center\" style=\"\"><table style=\"border:1px solid black;\">\n",
       "<tr style='border:1px solid black;color:black;background-color:#808080'><th colspan='2'><center>C</center></th></tr>\n",
       "<tr><th style='border:1px solid black;border-bottom-style: double;color:black;background-color:#BBBBBB'><center>0</center></th><th style='border:1px solid black;border-bottom-style: double;color:black;background-color:#BBBBBB'><center>1</center></th></tr>\n",
       "<tr><td style='color:black;background-color:#aecf64;text-align:right;'>0.6316</td><td style='color:black;background-color:#cfae64;text-align:right;'>0.3684</td></tr>\n",
       "</table></div></td><td style=\"border-top:hidden;border-bottom:hidden;\"><div align=\"center\" style=\"\"><table style=\"border:1px solid black;\">\n",
       "<tr style='border:1px solid black;color:black;background-color:#808080'><th colspan='2'><center>D</center></th></tr>\n",
       "<tr><th style='border:1px solid black;border-bottom-style: double;color:black;background-color:#BBBBBB'><center>0</center></th><th style='border:1px solid black;border-bottom-style: double;color:black;background-color:#BBBBBB'><center>1</center></th></tr>\n",
       "<tr><td style='color:black;background-color:#a6d764;text-align:right;'>0.6908</td><td style='color:black;background-color:#d7a664;text-align:right;'>0.3092</td></tr>\n",
       "</table></div></td><td style=\"border-top:hidden;border-bottom:hidden;\"><div align=\"center\" style=\"\"><table style=\"border:1px solid black;\">\n",
       "<tr style='border:1px solid black;color:black;background-color:#808080'><th colspan='2'><center>E</center></th></tr>\n",
       "<tr><th style='border:1px solid black;border-bottom-style: double;color:black;background-color:#BBBBBB'><center>0</center></th><th style='border:1px solid black;border-bottom-style: double;color:black;background-color:#BBBBBB'><center>1</center></th></tr>\n",
       "<tr><td style='color:black;background-color:#e19c64;text-align:right;'>0.2302</td><td style='color:black;background-color:#9ce164;text-align:right;'>0.7698</td></tr>\n",
       "</table></div></td></tr></table>"
      ],
      "text/plain": [
       "<IPython.core.display.HTML object>"
      ]
     },
     "metadata": {},
     "output_type": "display_data"
    },
    {
     "name": "stdout",
     "output_type": "stream",
     "text": [
      "Tree Sum Product Inference, argmax = {'A': 0, 'B': 1, 'C': 0, 'D': 0, 'E': 1}\n"
     ]
    },
    {
     "data": {
      "text/html": [
       "<table style=\"border-style: hidden; border-collapse: collapse;\" width=\"100%\"><tr><td style=\"border-top:hidden;border-bottom:hidden;\"><div align=\"center\" style=\"\"><table style=\"border:1px solid black;\">\n",
       "<tr style='border:1px solid black;color:black;background-color:#808080'><th colspan='2'><center>A</center></th></tr>\n",
       "<tr><th style='border:1px solid black;border-bottom-style: double;color:black;background-color:#BBBBBB'><center>0</center></th><th style='border:1px solid black;border-bottom-style: double;color:black;background-color:#BBBBBB'><center>1</center></th></tr>\n",
       "<tr><td style='color:black;background-color:#a4d964;text-align:right;'>0.7105</td><td style='color:black;background-color:#d9a464;text-align:right;'>0.2895</td></tr>\n",
       "</table></div></td><td style=\"border-top:hidden;border-bottom:hidden;\"><div align=\"center\" style=\"\"><table style=\"border:1px solid black;\">\n",
       "<tr style='border:1px solid black;color:black;background-color:#808080'><th colspan='2'><center>B</center></th></tr>\n",
       "<tr><th style='border:1px solid black;border-bottom-style: double;color:black;background-color:#BBBBBB'><center>0</center></th><th style='border:1px solid black;border-bottom-style: double;color:black;background-color:#BBBBBB'><center>1</center></th></tr>\n",
       "<tr><td style='color:black;background-color:#c7b664;text-align:right;'>0.4323</td><td style='color:black;background-color:#b6c764;text-align:right;'>0.5677</td></tr>\n",
       "</table></div></td><td style=\"border-top:hidden;border-bottom:hidden;\"><div align=\"center\" style=\"\"><table style=\"border:1px solid black;\">\n",
       "<tr style='border:1px solid black;color:black;background-color:#808080'><th colspan='2'><center>C</center></th></tr>\n",
       "<tr><th style='border:1px solid black;border-bottom-style: double;color:black;background-color:#BBBBBB'><center>0</center></th><th style='border:1px solid black;border-bottom-style: double;color:black;background-color:#BBBBBB'><center>1</center></th></tr>\n",
       "<tr><td style='color:black;background-color:#aecf64;text-align:right;'>0.6316</td><td style='color:black;background-color:#cfae64;text-align:right;'>0.3684</td></tr>\n",
       "</table></div></td><td style=\"border-top:hidden;border-bottom:hidden;\"><div align=\"center\" style=\"\"><table style=\"border:1px solid black;\">\n",
       "<tr style='border:1px solid black;color:black;background-color:#808080'><th colspan='2'><center>D</center></th></tr>\n",
       "<tr><th style='border:1px solid black;border-bottom-style: double;color:black;background-color:#BBBBBB'><center>0</center></th><th style='border:1px solid black;border-bottom-style: double;color:black;background-color:#BBBBBB'><center>1</center></th></tr>\n",
       "<tr><td style='color:black;background-color:#a6d764;text-align:right;'>0.6908</td><td style='color:black;background-color:#d7a664;text-align:right;'>0.3092</td></tr>\n",
       "</table></div></td><td style=\"border-top:hidden;border-bottom:hidden;\"><div align=\"center\" style=\"\"><table style=\"border:1px solid black;\">\n",
       "<tr style='border:1px solid black;color:black;background-color:#808080'><th colspan='2'><center>E</center></th></tr>\n",
       "<tr><th style='border:1px solid black;border-bottom-style: double;color:black;background-color:#BBBBBB'><center>0</center></th><th style='border:1px solid black;border-bottom-style: double;color:black;background-color:#BBBBBB'><center>1</center></th></tr>\n",
       "<tr><td style='color:black;background-color:#e19c64;text-align:right;'>0.2302</td><td style='color:black;background-color:#9ce164;text-align:right;'>0.7698</td></tr>\n",
       "</table></div></td></tr></table>"
      ],
      "text/plain": [
       "<IPython.core.display.HTML object>"
      ]
     },
     "metadata": {},
     "output_type": "display_data"
    }
   ],
   "source": [
    "%reload_ext autoreload\n",
    "%autoreload 2\n",
    "\n",
    "# TreeSumProductInference\n",
    "spi=TreeSumProductInference(gf_tree) # Crée une instance d'inférence\n",
    "spi.makeInference()         # effectue les calculs de tous les messages\n",
    "\n",
    "# LazyPropagation\n",
    "ie=gum.LazyPropagation(bn_tree)\n",
    "ie.makeInference()\n",
    "\n",
    "print(\"bn.LazyPropagation:\")\n",
    "gnb.sideBySide(ie.posterior(0),ie.posterior(1),ie.posterior(2),ie.posterior(3),ie.posterior(4))\n",
    "print(\"Tree Sum Product Inference, argmax =\", spi.argmax())\n",
    "gnb.sideBySide(spi.posterior(0),spi.posterior(1),spi.posterior(2),spi.posterior(3),spi.posterior(4))\n"
   ]
  },
  {
   "cell_type": "markdown",
   "metadata": {},
   "source": [
    "### TreeSumProductInference addEvidence"
   ]
  },
  {
   "cell_type": "code",
   "execution_count": 5,
   "metadata": {},
   "outputs": [
    {
     "name": "stdout",
     "output_type": "stream",
     "text": [
      "Inference avec evidence:\n",
      "bn.LazyPropagation:\n"
     ]
    },
    {
     "data": {
      "text/html": [
       "<table style=\"border-style: hidden; border-collapse: collapse;\" width=\"100%\"><tr><td style=\"border-top:hidden;border-bottom:hidden;\"><div align=\"center\" style=\"\"><table style=\"border:1px solid black;\">\n",
       "<tr style='border:1px solid black;color:black;background-color:#808080'><th colspan='2'><center>A</center></th></tr>\n",
       "<tr><th style='border:1px solid black;border-bottom-style: double;color:black;background-color:#BBBBBB'><center>0</center></th><th style='border:1px solid black;border-bottom-style: double;color:black;background-color:#BBBBBB'><center>1</center></th></tr>\n",
       "<tr><td style='color:black;background-color:#a4d964;text-align:right;'>0.7105</td><td style='color:black;background-color:#d9a464;text-align:right;'>0.2895</td></tr>\n",
       "</table></div></td><td style=\"border-top:hidden;border-bottom:hidden;\"><div align=\"center\" style=\"\"><table style=\"border:1px solid black;\">\n",
       "<tr style='border:1px solid black;color:black;background-color:#808080'><th colspan='2'><center>B</center></th></tr>\n",
       "<tr><th style='border:1px solid black;border-bottom-style: double;color:black;background-color:#BBBBBB'><center>0</center></th><th style='border:1px solid black;border-bottom-style: double;color:black;background-color:#BBBBBB'><center>1</center></th></tr>\n",
       "<tr><td style='color:black;background-color:#dba264;text-align:right;'>0.2736</td><td style='color:black;background-color:#a2db64;text-align:right;'>0.7264</td></tr>\n",
       "</table></div></td><td style=\"border-top:hidden;border-bottom:hidden;\"><div align=\"center\" style=\"\"><table style=\"border:1px solid black;\">\n",
       "<tr style='border:1px solid black;color:black;background-color:#808080'><th colspan='2'><center>C</center></th></tr>\n",
       "<tr><th style='border:1px solid black;border-bottom-style: double;color:black;background-color:#BBBBBB'><center>0</center></th><th style='border:1px solid black;border-bottom-style: double;color:black;background-color:#BBBBBB'><center>1</center></th></tr>\n",
       "<tr><td style='color:black;background-color:#ff7f64;text-align:right;'>0.0000</td><td style='color:black;background-color:#7fff64;text-align:right;'>1.0000</td></tr>\n",
       "</table></div></td><td style=\"border-top:hidden;border-bottom:hidden;\"><div align=\"center\" style=\"\"><table style=\"border:1px solid black;\">\n",
       "<tr style='border:1px solid black;color:black;background-color:#808080'><th colspan='2'><center>D</center></th></tr>\n",
       "<tr><th style='border:1px solid black;border-bottom-style: double;color:black;background-color:#BBBBBB'><center>0</center></th><th style='border:1px solid black;border-bottom-style: double;color:black;background-color:#BBBBBB'><center>1</center></th></tr>\n",
       "<tr><td style='color:black;background-color:#7fff64;text-align:right;'>1.0000</td><td style='color:black;background-color:#ff7f64;text-align:right;'>0.0000</td></tr>\n",
       "</table></div></td><td style=\"border-top:hidden;border-bottom:hidden;\"><div align=\"center\" style=\"\"><table style=\"border:1px solid black;\">\n",
       "<tr style='border:1px solid black;color:black;background-color:#808080'><th colspan='2'><center>E</center></th></tr>\n",
       "<tr><th style='border:1px solid black;border-bottom-style: double;color:black;background-color:#BBBBBB'><center>0</center></th><th style='border:1px solid black;border-bottom-style: double;color:black;background-color:#BBBBBB'><center>1</center></th></tr>\n",
       "<tr><td style='color:black;background-color:#ea9364;text-align:right;'>0.1605</td><td style='color:black;background-color:#93ea64;text-align:right;'>0.8395</td></tr>\n",
       "</table></div></td></tr></table>"
      ],
      "text/plain": [
       "<IPython.core.display.HTML object>"
      ]
     },
     "metadata": {},
     "output_type": "display_data"
    },
    {
     "name": "stdout",
     "output_type": "stream",
     "text": [
      "Tree Sum Product Inference, argmax = {'A': 0, 'B': 1, 'C': 1, 'D': 0, 'E': 1}\n"
     ]
    },
    {
     "data": {
      "text/html": [
       "<table style=\"border-style: hidden; border-collapse: collapse;\" width=\"100%\"><tr><td style=\"border-top:hidden;border-bottom:hidden;\"><div align=\"center\" style=\"\"><table style=\"border:1px solid black;\">\n",
       "<tr style='border:1px solid black;color:black;background-color:#808080'><th colspan='2'><center>A</center></th></tr>\n",
       "<tr><th style='border:1px solid black;border-bottom-style: double;color:black;background-color:#BBBBBB'><center>0</center></th><th style='border:1px solid black;border-bottom-style: double;color:black;background-color:#BBBBBB'><center>1</center></th></tr>\n",
       "<tr><td style='color:black;background-color:#a4d964;text-align:right;'>0.7105</td><td style='color:black;background-color:#d9a464;text-align:right;'>0.2895</td></tr>\n",
       "</table></div></td><td style=\"border-top:hidden;border-bottom:hidden;\"><div align=\"center\" style=\"\"><table style=\"border:1px solid black;\">\n",
       "<tr style='border:1px solid black;color:black;background-color:#808080'><th colspan='2'><center>B</center></th></tr>\n",
       "<tr><th style='border:1px solid black;border-bottom-style: double;color:black;background-color:#BBBBBB'><center>0</center></th><th style='border:1px solid black;border-bottom-style: double;color:black;background-color:#BBBBBB'><center>1</center></th></tr>\n",
       "<tr><td style='color:black;background-color:#dba264;text-align:right;'>0.2736</td><td style='color:black;background-color:#a2db64;text-align:right;'>0.7264</td></tr>\n",
       "</table></div></td><td style=\"border-top:hidden;border-bottom:hidden;\"><div align=\"center\" style=\"\"><table style=\"border:1px solid black;\">\n",
       "<tr style='border:1px solid black;color:black;background-color:#808080'><th colspan='2'><center>C</center></th></tr>\n",
       "<tr><th style='border:1px solid black;border-bottom-style: double;color:black;background-color:#BBBBBB'><center>0</center></th><th style='border:1px solid black;border-bottom-style: double;color:black;background-color:#BBBBBB'><center>1</center></th></tr>\n",
       "<tr><td style='color:black;background-color:#ff7f64;text-align:right;'>0.0000</td><td style='color:black;background-color:#7fff64;text-align:right;'>1.0000</td></tr>\n",
       "</table></div></td><td style=\"border-top:hidden;border-bottom:hidden;\"><div align=\"center\" style=\"\"><table style=\"border:1px solid black;\">\n",
       "<tr style='border:1px solid black;color:black;background-color:#808080'><th colspan='2'><center>D</center></th></tr>\n",
       "<tr><th style='border:1px solid black;border-bottom-style: double;color:black;background-color:#BBBBBB'><center>0</center></th><th style='border:1px solid black;border-bottom-style: double;color:black;background-color:#BBBBBB'><center>1</center></th></tr>\n",
       "<tr><td style='color:black;background-color:#7fff64;text-align:right;'>1.0000</td><td style='color:black;background-color:#ff7f64;text-align:right;'>0.0000</td></tr>\n",
       "</table></div></td><td style=\"border-top:hidden;border-bottom:hidden;\"><div align=\"center\" style=\"\"><table style=\"border:1px solid black;\">\n",
       "<tr style='border:1px solid black;color:black;background-color:#808080'><th colspan='2'><center>E</center></th></tr>\n",
       "<tr><th style='border:1px solid black;border-bottom-style: double;color:black;background-color:#BBBBBB'><center>0</center></th><th style='border:1px solid black;border-bottom-style: double;color:black;background-color:#BBBBBB'><center>1</center></th></tr>\n",
       "<tr><td style='color:black;background-color:#ea9364;text-align:right;'>0.1605</td><td style='color:black;background-color:#93ea64;text-align:right;'>0.8395</td></tr>\n",
       "</table></div></td></tr></table>"
      ],
      "text/plain": [
       "<IPython.core.display.HTML object>"
      ]
     },
     "metadata": {},
     "output_type": "display_data"
    }
   ],
   "source": [
    "%reload_ext autoreload\n",
    "%autoreload 2\n",
    "\n",
    "print(\"Inference avec evidence:\")\n",
    "# pour comparer\n",
    "ie=gum.LazyPropagation(bn_tree)\n",
    "ie.addEvidence(2,1)\n",
    "ie.addEvidence(3,0)\n",
    "ie.makeInference()\n",
    "#gnb.showPotential(ie.posterior(4))\n",
    "\n",
    "spi=TreeSumProductInference(gf_tree) # Crée une instance d'inférence\n",
    "spi.addEvidence({\"C\":1,\"D\":0})\n",
    "spi.makeInference()         # effectue les calculs de tous les messages\n",
    "#gnb.showPotential(spi.posterior(4))\n",
    "\n",
    "print(\"bn.LazyPropagation:\")\n",
    "gnb.sideBySide(ie.posterior(0),ie.posterior(1),ie.posterior(2),ie.posterior(3),ie.posterior(4))\n",
    "print(\"Tree Sum Product Inference, argmax =\", spi.argmax())\n",
    "gnb.sideBySide(spi.posterior(0),spi.posterior(1),spi.posterior(2),spi.posterior(3),spi.posterior(4))\n"
   ]
  },
  {
   "cell_type": "markdown",
   "metadata": {},
   "source": [
    "### LBPSumProductInference "
   ]
  },
  {
   "cell_type": "code",
   "execution_count": 6,
   "metadata": {},
   "outputs": [
    {
     "name": "stdout",
     "output_type": "stream",
     "text": [
      "gum. Loopy Belief Propagation:\n"
     ]
    },
    {
     "data": {
      "text/html": [
       "<table style=\"border-style: hidden; border-collapse: collapse;\" width=\"100%\"><tr><td style=\"border-top:hidden;border-bottom:hidden;\"><div align=\"center\" style=\"\"><table style=\"border:1px solid black;\">\n",
       "<tr style='border:1px solid black;color:black;background-color:#808080'><th colspan='2'><center>A</center></th></tr>\n",
       "<tr><th style='border:1px solid black;border-bottom-style: double;color:black;background-color:#BBBBBB'><center>0</center></th><th style='border:1px solid black;border-bottom-style: double;color:black;background-color:#BBBBBB'><center>1</center></th></tr>\n",
       "<tr><td style='color:black;background-color:#b7c664;text-align:right;'>0.5623</td><td style='color:black;background-color:#c6b764;text-align:right;'>0.4377</td></tr>\n",
       "</table></div></td><td style=\"border-top:hidden;border-bottom:hidden;\"><div align=\"center\" style=\"\"><table style=\"border:1px solid black;\">\n",
       "<tr style='border:1px solid black;color:black;background-color:#808080'><th colspan='2'><center>B</center></th></tr>\n",
       "<tr><th style='border:1px solid black;border-bottom-style: double;color:black;background-color:#BBBBBB'><center>0</center></th><th style='border:1px solid black;border-bottom-style: double;color:black;background-color:#BBBBBB'><center>1</center></th></tr>\n",
       "<tr><td style='color:black;background-color:#d1ac64;text-align:right;'>0.3558</td><td style='color:black;background-color:#acd164;text-align:right;'>0.6442</td></tr>\n",
       "</table></div></td><td style=\"border-top:hidden;border-bottom:hidden;\"><div align=\"center\" style=\"\"><table style=\"border:1px solid black;\">\n",
       "<tr style='border:1px solid black;color:black;background-color:#808080'><th colspan='2'><center>C</center></th></tr>\n",
       "<tr><th style='border:1px solid black;border-bottom-style: double;color:black;background-color:#BBBBBB'><center>0</center></th><th style='border:1px solid black;border-bottom-style: double;color:black;background-color:#BBBBBB'><center>1</center></th></tr>\n",
       "<tr><td style='color:black;background-color:#d3aa64;text-align:right;'>0.3411</td><td style='color:black;background-color:#aad364;text-align:right;'>0.6589</td></tr>\n",
       "</table></div></td><td style=\"border-top:hidden;border-bottom:hidden;\"><div align=\"center\" style=\"\"><table style=\"border:1px solid black;\">\n",
       "<tr style='border:1px solid black;color:black;background-color:#808080'><th colspan='2'><center>D</center></th></tr>\n",
       "<tr><th style='border:1px solid black;border-bottom-style: double;color:black;background-color:#BBBBBB'><center>0</center></th><th style='border:1px solid black;border-bottom-style: double;color:black;background-color:#BBBBBB'><center>1</center></th></tr>\n",
       "<tr><td style='color:black;background-color:#a6d764;text-align:right;'>0.6942</td><td style='color:black;background-color:#d7a664;text-align:right;'>0.3058</td></tr>\n",
       "</table></div></td><td style=\"border-top:hidden;border-bottom:hidden;\"><div align=\"center\" style=\"\"><table style=\"border:1px solid black;\">\n",
       "<tr style='border:1px solid black;color:black;background-color:#808080'><th colspan='2'><center>E</center></th></tr>\n",
       "<tr><th style='border:1px solid black;border-bottom-style: double;color:black;background-color:#BBBBBB'><center>0</center></th><th style='border:1px solid black;border-bottom-style: double;color:black;background-color:#BBBBBB'><center>1</center></th></tr>\n",
       "<tr><td style='color:black;background-color:#bac364;text-align:right;'>0.5317</td><td style='color:black;background-color:#c3ba64;text-align:right;'>0.4683</td></tr>\n",
       "</table></div></td></tr></table>"
      ],
      "text/plain": [
       "<IPython.core.display.HTML object>"
      ]
     },
     "metadata": {},
     "output_type": "display_data"
    },
    {
     "name": "stdout",
     "output_type": "stream",
     "text": [
      "LBP Sum Product Inference, argmax = {'A': 0, 'B': 1, 'C': 1, 'D': 0, 'E': 0}\n"
     ]
    },
    {
     "data": {
      "text/html": [
       "<table style=\"border-style: hidden; border-collapse: collapse;\" width=\"100%\"><tr><td style=\"border-top:hidden;border-bottom:hidden;\"><div align=\"center\" style=\"\"><table style=\"border:1px solid black;\">\n",
       "<tr style='border:1px solid black;color:black;background-color:#808080'><th colspan='2'><center>A</center></th></tr>\n",
       "<tr><th style='border:1px solid black;border-bottom-style: double;color:black;background-color:#BBBBBB'><center>0</center></th><th style='border:1px solid black;border-bottom-style: double;color:black;background-color:#BBBBBB'><center>1</center></th></tr>\n",
       "<tr><td style='color:black;background-color:#b7c664;text-align:right;'>0.5623</td><td style='color:black;background-color:#c6b764;text-align:right;'>0.4377</td></tr>\n",
       "</table></div></td><td style=\"border-top:hidden;border-bottom:hidden;\"><div align=\"center\" style=\"\"><table style=\"border:1px solid black;\">\n",
       "<tr style='border:1px solid black;color:black;background-color:#808080'><th colspan='2'><center>B</center></th></tr>\n",
       "<tr><th style='border:1px solid black;border-bottom-style: double;color:black;background-color:#BBBBBB'><center>0</center></th><th style='border:1px solid black;border-bottom-style: double;color:black;background-color:#BBBBBB'><center>1</center></th></tr>\n",
       "<tr><td style='color:black;background-color:#d1ac64;text-align:right;'>0.3558</td><td style='color:black;background-color:#acd164;text-align:right;'>0.6442</td></tr>\n",
       "</table></div></td><td style=\"border-top:hidden;border-bottom:hidden;\"><div align=\"center\" style=\"\"><table style=\"border:1px solid black;\">\n",
       "<tr style='border:1px solid black;color:black;background-color:#808080'><th colspan='2'><center>C</center></th></tr>\n",
       "<tr><th style='border:1px solid black;border-bottom-style: double;color:black;background-color:#BBBBBB'><center>0</center></th><th style='border:1px solid black;border-bottom-style: double;color:black;background-color:#BBBBBB'><center>1</center></th></tr>\n",
       "<tr><td style='color:black;background-color:#d3aa64;text-align:right;'>0.3411</td><td style='color:black;background-color:#aad364;text-align:right;'>0.6589</td></tr>\n",
       "</table></div></td><td style=\"border-top:hidden;border-bottom:hidden;\"><div align=\"center\" style=\"\"><table style=\"border:1px solid black;\">\n",
       "<tr style='border:1px solid black;color:black;background-color:#808080'><th colspan='2'><center>D</center></th></tr>\n",
       "<tr><th style='border:1px solid black;border-bottom-style: double;color:black;background-color:#BBBBBB'><center>0</center></th><th style='border:1px solid black;border-bottom-style: double;color:black;background-color:#BBBBBB'><center>1</center></th></tr>\n",
       "<tr><td style='color:black;background-color:#a6d764;text-align:right;'>0.6942</td><td style='color:black;background-color:#d7a664;text-align:right;'>0.3058</td></tr>\n",
       "</table></div></td><td style=\"border-top:hidden;border-bottom:hidden;\"><div align=\"center\" style=\"\"><table style=\"border:1px solid black;\">\n",
       "<tr style='border:1px solid black;color:black;background-color:#808080'><th colspan='2'><center>E</center></th></tr>\n",
       "<tr><th style='border:1px solid black;border-bottom-style: double;color:black;background-color:#BBBBBB'><center>0</center></th><th style='border:1px solid black;border-bottom-style: double;color:black;background-color:#BBBBBB'><center>1</center></th></tr>\n",
       "<tr><td style='color:black;background-color:#bac364;text-align:right;'>0.5317</td><td style='color:black;background-color:#c3ba64;text-align:right;'>0.4683</td></tr>\n",
       "</table></div></td></tr></table>"
      ],
      "text/plain": [
       "<IPython.core.display.HTML object>"
      ]
     },
     "metadata": {},
     "output_type": "display_data"
    }
   ],
   "source": [
    "%reload_ext autoreload\n",
    "%autoreload 2\n",
    "\n",
    "ie=gum.LoopyBeliefPropagation(bn)\n",
    "ie.makeInference()\n",
    "\n",
    "spi=LBPSumProductInference(gf) # Crée une instance d'inférence\n",
    "spi.makeInference()         # effectue les calculs de tous les messages\n",
    "\n",
    "print(\"gum. Loopy Belief Propagation:\")\n",
    "gnb.sideBySide(ie.posterior(0),ie.posterior(1),ie.posterior(2),ie.posterior(3),ie.posterior(4))\n",
    "print(\"LBP Sum Product Inference, argmax =\", spi.argmax())\n",
    "gnb.sideBySide(spi.posterior(0),spi.posterior(1),spi.posterior(2),spi.posterior(3),spi.posterior(4))\n"
   ]
  },
  {
   "cell_type": "markdown",
   "metadata": {},
   "source": [
    "### LBPSumProductInference  AddEvidence"
   ]
  },
  {
   "cell_type": "code",
   "execution_count": 8,
   "metadata": {
    "scrolled": true
   },
   "outputs": [
    {
     "name": "stdout",
     "output_type": "stream",
     "text": [
      "Inference LBP dans PyAgrum:\n"
     ]
    },
    {
     "data": {
      "text/html": [
       "<table style=\"border-style: hidden; border-collapse: collapse;\" width=\"100%\"><tr><td style=\"border-top:hidden;border-bottom:hidden;\"><div align=\"center\" style=\"\"><table style=\"border:1px solid black;\">\n",
       "<tr style='border:1px solid black;color:black;background-color:#808080'><th colspan='2'><center>A</center></th></tr>\n",
       "<tr><th style='border:1px solid black;border-bottom-style: double;color:black;background-color:#BBBBBB'><center>0</center></th><th style='border:1px solid black;border-bottom-style: double;color:black;background-color:#BBBBBB'><center>1</center></th></tr>\n",
       "<tr><td style='color:black;background-color:#b7c664;text-align:right;'>0.5623</td><td style='color:black;background-color:#c6b764;text-align:right;'>0.4377</td></tr>\n",
       "</table></div></td><td style=\"border-top:hidden;border-bottom:hidden;\"><div align=\"center\" style=\"\"><table style=\"border:1px solid black;\">\n",
       "<tr style='border:1px solid black;color:black;background-color:#808080'><th colspan='2'><center>B</center></th></tr>\n",
       "<tr><th style='border:1px solid black;border-bottom-style: double;color:black;background-color:#BBBBBB'><center>0</center></th><th style='border:1px solid black;border-bottom-style: double;color:black;background-color:#BBBBBB'><center>1</center></th></tr>\n",
       "<tr><td style='color:black;background-color:#cdb064;text-align:right;'>0.3836</td><td style='color:black;background-color:#b0cd64;text-align:right;'>0.6164</td></tr>\n",
       "</table></div></td><td style=\"border-top:hidden;border-bottom:hidden;\"><div align=\"center\" style=\"\"><table style=\"border:1px solid black;\">\n",
       "<tr style='border:1px solid black;color:black;background-color:#808080'><th colspan='2'><center>C</center></th></tr>\n",
       "<tr><th style='border:1px solid black;border-bottom-style: double;color:black;background-color:#BBBBBB'><center>0</center></th><th style='border:1px solid black;border-bottom-style: double;color:black;background-color:#BBBBBB'><center>1</center></th></tr>\n",
       "<tr><td style='color:black;background-color:#ff7f64;text-align:right;'>0.0000</td><td style='color:black;background-color:#7fff64;text-align:right;'>1.0000</td></tr>\n",
       "</table></div></td><td style=\"border-top:hidden;border-bottom:hidden;\"><div align=\"center\" style=\"\"><table style=\"border:1px solid black;\">\n",
       "<tr style='border:1px solid black;color:black;background-color:#808080'><th colspan='2'><center>D</center></th></tr>\n",
       "<tr><th style='border:1px solid black;border-bottom-style: double;color:black;background-color:#BBBBBB'><center>0</center></th><th style='border:1px solid black;border-bottom-style: double;color:black;background-color:#BBBBBB'><center>1</center></th></tr>\n",
       "<tr><td style='color:black;background-color:#7fff64;text-align:right;'>1.0000</td><td style='color:black;background-color:#ff7f64;text-align:right;'>0.0000</td></tr>\n",
       "</table></div></td><td style=\"border-top:hidden;border-bottom:hidden;\"><div align=\"center\" style=\"\"><table style=\"border:1px solid black;\">\n",
       "<tr style='border:1px solid black;color:black;background-color:#808080'><th colspan='2'><center>E</center></th></tr>\n",
       "<tr><th style='border:1px solid black;border-bottom-style: double;color:black;background-color:#BBBBBB'><center>0</center></th><th style='border:1px solid black;border-bottom-style: double;color:black;background-color:#BBBBBB'><center>1</center></th></tr>\n",
       "<tr><td style='color:black;background-color:#c8b564;text-align:right;'>0.4264</td><td style='color:black;background-color:#b5c864;text-align:right;'>0.5736</td></tr>\n",
       "</table></div></td></tr></table>"
      ],
      "text/plain": [
       "<IPython.core.display.HTML object>"
      ]
     },
     "metadata": {},
     "output_type": "display_data"
    },
    {
     "data": {
      "text/html": [
       "<table style=\"border-style: hidden; border-collapse: collapse;\" width=\"100%\"><tr><td style=\"border-top:hidden;border-bottom:hidden;\"><div align=\"center\" style=\"\"><table style=\"border:1px solid black;\">\n",
       "<tr style='border:1px solid black;color:black;background-color:#808080'><th colspan='2'><center>A</center></th></tr>\n",
       "<tr><th style='border:1px solid black;border-bottom-style: double;color:black;background-color:#BBBBBB'><center>0</center></th><th style='border:1px solid black;border-bottom-style: double;color:black;background-color:#BBBBBB'><center>1</center></th></tr>\n",
       "<tr><td style='text-align:right;'>0.0000</td><td style='text-align:right;'>0.0000</td></tr>\n",
       "</table></div></td><td style=\"border-top:hidden;border-bottom:hidden;\"><div align=\"center\" style=\"\"><table style=\"border:1px solid black;\">\n",
       "<tr style='border:1px solid black;color:black;background-color:#808080'><th colspan='2'><center>B</center></th></tr>\n",
       "<tr><th style='border:1px solid black;border-bottom-style: double;color:black;background-color:#BBBBBB'><center>0</center></th><th style='border:1px solid black;border-bottom-style: double;color:black;background-color:#BBBBBB'><center>1</center></th></tr>\n",
       "<tr><td style='text-align:right;'>0.0000</td><td style='text-align:right;'>0.0000</td></tr>\n",
       "</table></div></td><td style=\"border-top:hidden;border-bottom:hidden;\"><div align=\"center\" style=\"\"><table style=\"border:1px solid black;\">\n",
       "<tr style='border:1px solid black;color:black;background-color:#808080'><th colspan='2'><center>C</center></th></tr>\n",
       "<tr><th style='border:1px solid black;border-bottom-style: double;color:black;background-color:#BBBBBB'><center>0</center></th><th style='border:1px solid black;border-bottom-style: double;color:black;background-color:#BBBBBB'><center>1</center></th></tr>\n",
       "<tr><td style='text-align:right;'>0.0000</td><td style='text-align:right;'>0.0000</td></tr>\n",
       "</table></div></td><td style=\"border-top:hidden;border-bottom:hidden;\"><div align=\"center\" style=\"\"><table style=\"border:1px solid black;\">\n",
       "<tr style='border:1px solid black;color:black;background-color:#808080'><th colspan='2'><center>D</center></th></tr>\n",
       "<tr><th style='border:1px solid black;border-bottom-style: double;color:black;background-color:#BBBBBB'><center>0</center></th><th style='border:1px solid black;border-bottom-style: double;color:black;background-color:#BBBBBB'><center>1</center></th></tr>\n",
       "<tr><td style='text-align:right;'>0.0000</td><td style='text-align:right;'>0.0000</td></tr>\n",
       "</table></div></td><td style=\"border-top:hidden;border-bottom:hidden;\"><div align=\"center\" style=\"\"><table style=\"border:1px solid black;\">\n",
       "<tr style='border:1px solid black;color:black;background-color:#808080'><th colspan='2'><center>E</center></th></tr>\n",
       "<tr><th style='border:1px solid black;border-bottom-style: double;color:black;background-color:#BBBBBB'><center>0</center></th><th style='border:1px solid black;border-bottom-style: double;color:black;background-color:#BBBBBB'><center>1</center></th></tr>\n",
       "<tr><td style='text-align:right;'>0.0000</td><td style='text-align:right;'>0.0000</td></tr>\n",
       "</table></div></td></tr></table>"
      ],
      "text/plain": [
       "<IPython.core.display.HTML object>"
      ]
     },
     "metadata": {},
     "output_type": "display_data"
    }
   ],
   "source": [
    "%reload_ext autoreload\n",
    "%autoreload 2\n",
    "\n",
    "# pour comparer\n",
    "print(\"Inference LBP dans PyAgrum:\")\n",
    "ie=gum.LoopyBeliefPropagation(bn)\n",
    "ie.addEvidence(2,1)\n",
    "ie.addEvidence(3,0)\n",
    "ie.makeInference()\n",
    "\n",
    "spi=LBPSumProductInference(gf) # Crée une instance d'inférence\n",
    "spi.addEvidence({\"C\":1,\"D\":0})\n",
    "spi.makeInference()         # effectue les calculs de tous les messages\n",
    "\n",
    "\n",
    "gnb.sideBySide(ie.posterior(0),ie.posterior(1),ie.posterior(2),ie.posterior(3),ie.posterior(4))\n",
    "gnb.sideBySide(spi.posterior(0),spi.posterior(1),spi.posterior(2),spi.posterior(3),spi.posterior(4))"
   ]
  },
  {
   "cell_type": "markdown",
   "metadata": {},
   "source": [
    "### TreeMaxProductInference\n",
    "Pour vérifier cette méthode, on invente une instance où le argmax p(X) n'est pas egal aux {argmax p(X1),argmax p(x2),...}"
   ]
  },
  {
   "cell_type": "code",
   "execution_count": 12,
   "metadata": {},
   "outputs": [
    {
     "data": {
      "image/svg+xml": [
       "<svg height=\"116pt\" viewBox=\"0.00 0.00 62.00 116.00\" width=\"62pt\" xmlns=\"http://www.w3.org/2000/svg\" xmlns:xlink=\"http://www.w3.org/1999/xlink\">\n",
       "<g class=\"graph\" id=\"graph0\" transform=\"scale(1 1) rotate(0) translate(4 112)\">\n",
       "<title>G</title>\n",
       "<!-- A -->\n",
       "<g class=\"node\" id=\"node1\">\n",
       "<title>A</title>\n",
       "<g id=\"a_node1\"><a xlink:title=\"(0) A\">\n",
       "<ellipse cx=\"27\" cy=\"-90\" fill=\"#404040\" rx=\"27\" ry=\"18\" stroke=\"#000000\"/>\n",
       "<text fill=\"#ffffff\" font-family=\"Times,serif\" font-size=\"14.00\" text-anchor=\"middle\" x=\"27\" y=\"-86.3\">A</text>\n",
       "</a>\n",
       "</g>\n",
       "</g>\n",
       "<!-- B -->\n",
       "<g class=\"node\" id=\"node2\">\n",
       "<title>B</title>\n",
       "<g id=\"a_node2\"><a xlink:title=\"(1) B\">\n",
       "<ellipse cx=\"27\" cy=\"-18\" fill=\"#404040\" rx=\"27\" ry=\"18\" stroke=\"#000000\"/>\n",
       "<text fill=\"#ffffff\" font-family=\"Times,serif\" font-size=\"14.00\" text-anchor=\"middle\" x=\"27\" y=\"-14.3\">B</text>\n",
       "</a>\n",
       "</g>\n",
       "</g>\n",
       "<!-- A&#45;&gt;B -->\n",
       "<g class=\"edge\" id=\"edge1\">\n",
       "<title>A-&gt;B</title>\n",
       "<g id=\"a_edge1\"><a xlink:title=\"(0, 1) : \">\n",
       "<path d=\"M27,-71.8314C27,-64.131 27,-54.9743 27,-46.4166\" fill=\"none\" stroke=\"#4a4a4a\"/>\n",
       "<polygon fill=\"#4a4a4a\" points=\"30.5001,-46.4132 27,-36.4133 23.5001,-46.4133 30.5001,-46.4132\" stroke=\"#4a4a4a\"/>\n",
       "</a>\n",
       "</g>\n",
       "</g>\n",
       "</g>\n",
       "</svg>"
      ],
      "text/plain": [
       "<IPython.core.display.SVG object>"
      ]
     },
     "metadata": {},
     "output_type": "display_data"
    },
    {
     "data": {
      "text/html": [
       "<table style=\"border-style: hidden; border-collapse: collapse;\" width=\"100%\"><tr><td style=\"border-top:hidden;border-bottom:hidden;\"><div align=\"center\" style=\"\"><table style=\"border:1px solid black;\">\n",
       "<tr style='border:1px solid black;color:black;background-color:#808080'><th colspan='2'><center>A</center></th></tr>\n",
       "<tr><th style='border:1px solid black;border-bottom-style: double;color:black;background-color:#BBBBBB'><center>0</center></th><th style='border:1px solid black;border-bottom-style: double;color:black;background-color:#BBBBBB'><center>1</center></th></tr>\n",
       "<tr><td style='text-align:right;'>1.0000</td><td style='text-align:right;'>1.0000</td></tr>\n",
       "</table></div></td><td style=\"border-top:hidden;border-bottom:hidden;\"><div align=\"center\" style=\"\"><table style=\"border:1px solid black;\">\n",
       "<tr><th colspan='1'></th><th colspan='2' style='border:1px solid black;color:black;background-color:#808080;'><center>B</center></th></tr>\n",
       "<tr><th style='border:1px solid black;color:black;background-color:#808080'><center>A</center></th><th style='border:1px solid black;border-bottom-style: double;color:black;background-color:#BBBBBB'><center>0</center></th><th style='border:1px solid black;border-bottom-style: double;color:black;background-color:#BBBBBB'><center>1</center></th></tr>\n",
       "<tr><th style='border:1px solid black;color:black;background-color:#BBBBBB'><center>0</center></th><td style='text-align:right;'>0.4000</td><td style='text-align:right;'>0.3000</td></tr>\n",
       "<tr><th style='border:1px solid black;color:black;background-color:#BBBBBB'><center>1</center></th><td style='text-align:right;'>0.0100</td><td style='text-align:right;'>0.1900</td></tr>\n",
       "</table></div></td></tr></table>"
      ],
      "text/plain": [
       "<IPython.core.display.HTML object>"
      ]
     },
     "metadata": {},
     "output_type": "display_data"
    },
    {
     "data": {
      "image/svg+xml": [
       "<svg height=\"145pt\" viewBox=\"0.00 0.00 104.71 145.32\" width=\"105pt\" xmlns=\"http://www.w3.org/2000/svg\" xmlns:xlink=\"http://www.w3.org/1999/xlink\">\n",
       "<g class=\"graph\" id=\"graph0\" transform=\"scale(1 1) rotate(0) translate(4 141.321)\">\n",
       "<title>FG</title>\n",
       "<polygon fill=\"#ffffff\" points=\"-4,4 -4,-141.321 100.7124,-141.321 100.7124,4 -4,4\" stroke=\"transparent\"/>\n",
       "<!-- A -->\n",
       "<g class=\"node\" id=\"node1\">\n",
       "<title>A</title>\n",
       "<polygon fill=\"#ff7f50\" points=\"32.0302,-60.5915 15.0302,-60.5915 15.0302,-39.5915 32.0302,-39.5915 32.0302,-60.5915\" stroke=\"#ff7f50\"/>\n",
       "<text fill=\"#000000\" font-family=\"Times,serif\" font-size=\"14.00\" text-anchor=\"middle\" x=\"23.5302\" y=\"-46.3915\">A</text>\n",
       "</g>\n",
       "<!-- 2 -->\n",
       "<g class=\"node\" id=\"node3\">\n",
       "<title>2</title>\n",
       "<ellipse cx=\"3.6\" cy=\"-3.6\" fill=\"#deb887\" rx=\"3.6\" ry=\"3.6\" stroke=\"#deb887\"/>\n",
       "</g>\n",
       "<!-- A&#45;&#45;2 -->\n",
       "<g class=\"edge\" id=\"edge3\">\n",
       "<title>A--2</title>\n",
       "<path d=\"M18.9077,-39.3086C14.492,-29.008 8.0893,-14.0722 5.1639,-7.2481\" fill=\"none\" stroke=\"#000000\"/>\n",
       "</g>\n",
       "<!-- 3 -->\n",
       "<g class=\"node\" id=\"node4\">\n",
       "<title>3</title>\n",
       "<ellipse cx=\"52.2963\" cy=\"-91.7287\" fill=\"#deb887\" rx=\"3.6\" ry=\"3.6\" stroke=\"#deb887\"/>\n",
       "</g>\n",
       "<!-- A&#45;&#45;3 -->\n",
       "<g class=\"edge\" id=\"edge1\">\n",
       "<title>A--3</title>\n",
       "<path d=\"M30.7891,-60.5983C37.1804,-69.8493 46.0826,-82.7347 50.1342,-88.5991\" fill=\"none\" stroke=\"#000000\"/>\n",
       "</g>\n",
       "<!-- B -->\n",
       "<g class=\"node\" id=\"node2\">\n",
       "<title>B</title>\n",
       "<polygon fill=\"#ff7f50\" points=\"96.7124,-137.321 80.7124,-137.321 80.7124,-116.321 96.7124,-116.321 96.7124,-137.321\" stroke=\"#ff7f50\"/>\n",
       "<text fill=\"#000000\" font-family=\"Times,serif\" font-size=\"14.00\" text-anchor=\"middle\" x=\"88.7124\" y=\"-123.121\">B</text>\n",
       "</g>\n",
       "<!-- B&#45;&#45;3 -->\n",
       "<g class=\"edge\" id=\"edge2\">\n",
       "<title>B--3</title>\n",
       "<path d=\"M80.6305,-119.0329C72.5842,-111.279 60.6694,-99.7974 55.2149,-94.5411\" fill=\"none\" stroke=\"#000000\"/>\n",
       "</g>\n",
       "</g>\n",
       "</svg>"
      ],
      "text/plain": [
       "<IPython.core.display.SVG object>"
      ]
     },
     "execution_count": 12,
     "metadata": {},
     "output_type": "execute_result"
    }
   ],
   "source": [
    "# construction de bn en forme d'un arbre\n",
    "bn_tree1=gum.fastBN(\"A->B\")\n",
    "gnb.showBN(bn_tree1)\n",
    "bn_tree1.cpt(0).fillWith(1)\n",
    "bn_tree1.cpt(1).fillWith([0.4,0.3,0.01,0.19])\n",
    "gnb.sideBySide(bn_tree1.cpt(0),bn_tree1.cpt(1))\n",
    "# construction de factor graph\n",
    "gf_tree1 = FactorGraph();\n",
    "gf_tree1.build(bn_tree1);\n",
    "# show\n",
    "g=dot.graph_from_dot_data(gf_tree1.show())\n",
    "SVG(g.create_svg())"
   ]
  },
  {
   "cell_type": "code",
   "execution_count": 14,
   "metadata": {},
   "outputs": [
    {
     "name": "stdout",
     "output_type": "stream",
     "text": [
      "Probabilite jointe\n"
     ]
    },
    {
     "data": {
      "text/html": [
       "<table style=\"border:1px solid black;\"><tr><th colspan='1'></th><th colspan='2' style='border:1px solid black;color:black;background-color:#808080;'><center>B</center></th></tr><tr><th style='border:1px solid black;color:black;background-color:#808080'><center>A</center></th><th style='border:1px solid black;border-bottom-style: double;color:black;background-color:#BBBBBB'><center>0</center></th><th style='border:1px solid black;border-bottom-style: double;color:black;background-color:#BBBBBB'><center>1</center></th></tr><tr><th style='border:1px solid black;color:black;background-color:#BBBBBB'><center>0</center></th><td style='color:black;background-color:#ea9364;text-align:right;'>0.1600</td><td style='color:black;background-color:#ef8e64;text-align:right;'>0.1200</td></tr><tr><th style='border:1px solid black;color:black;background-color:#BBBBBB'><center>1</center></th><td style='color:black;background-color:#f58864;text-align:right;'>0.0760</td><td style='color:black;background-color:#f78664;text-align:right;'>0.0570</td></tr></table>"
      ],
      "text/plain": [
       "<IPython.core.display.HTML object>"
      ]
     },
     "metadata": {},
     "output_type": "display_data"
    },
    {
     "name": "stdout",
     "output_type": "stream",
     "text": [
      "pX.argmax() =  [{'B': 0, 'A': 0}]\n",
      "px.max() =  0.16000000000000003\n",
      "Tree Max Product Inference, argmax = {'A': 0, 'B': 0}\n"
     ]
    },
    {
     "data": {
      "text/html": [
       "<table style=\"border-style: hidden; border-collapse: collapse;\" width=\"100%\"><tr><td style=\"border-top:hidden;border-bottom:hidden;\"><div align=\"center\" style=\"\"><table style=\"border:1px solid black;\">\n",
       "<tr style='border:1px solid black;color:black;background-color:#808080'><th colspan='2'><center>A</center></th></tr>\n",
       "<tr><th style='border:1px solid black;border-bottom-style: double;color:black;background-color:#BBBBBB'><center>0</center></th><th style='border:1px solid black;border-bottom-style: double;color:black;background-color:#BBBBBB'><center>1</center></th></tr>\n",
       "<tr><td style='text-align:right;'>0.4000</td><td style='text-align:right;'>0.1900</td></tr>\n",
       "</table></div></td><td style=\"border-top:hidden;border-bottom:hidden;\"><div align=\"center\" style=\"\"><table style=\"border:1px solid black;\">\n",
       "<tr style='border:1px solid black;color:black;background-color:#808080'><th colspan='2'><center>B</center></th></tr>\n",
       "<tr><th style='border:1px solid black;border-bottom-style: double;color:black;background-color:#BBBBBB'><center>0</center></th><th style='border:1px solid black;border-bottom-style: double;color:black;background-color:#BBBBBB'><center>1</center></th></tr>\n",
       "<tr><td style='text-align:right;'>0.4000</td><td style='text-align:right;'>0.3000</td></tr>\n",
       "</table></div></td></tr></table>"
      ],
      "text/plain": [
       "<IPython.core.display.HTML object>"
      ]
     },
     "metadata": {},
     "output_type": "display_data"
    },
    {
     "name": "stdout",
     "output_type": "stream",
     "text": [
      "Tree Sum Product Inference, argmax = {'A': 0, 'B': 1}\n"
     ]
    },
    {
     "data": {
      "text/html": [
       "<table style=\"border-style: hidden; border-collapse: collapse;\" width=\"100%\"><tr><td style=\"border-top:hidden;border-bottom:hidden;\"><div align=\"center\" style=\"\"><table style=\"border:1px solid black;\">\n",
       "<tr style='border:1px solid black;color:black;background-color:#808080'><th colspan='2'><center>A</center></th></tr>\n",
       "<tr><th style='border:1px solid black;border-bottom-style: double;color:black;background-color:#BBBBBB'><center>0</center></th><th style='border:1px solid black;border-bottom-style: double;color:black;background-color:#BBBBBB'><center>1</center></th></tr>\n",
       "<tr><td style='color:black;background-color:#9be264;text-align:right;'>0.7778</td><td style='color:black;background-color:#e29b64;text-align:right;'>0.2222</td></tr>\n",
       "</table></div></td><td style=\"border-top:hidden;border-bottom:hidden;\"><div align=\"center\" style=\"\"><table style=\"border:1px solid black;\">\n",
       "<tr style='border:1px solid black;color:black;background-color:#808080'><th colspan='2'><center>B</center></th></tr>\n",
       "<tr><th style='border:1px solid black;border-bottom-style: double;color:black;background-color:#BBBBBB'><center>0</center></th><th style='border:1px solid black;border-bottom-style: double;color:black;background-color:#BBBBBB'><center>1</center></th></tr>\n",
       "<tr><td style='color:black;background-color:#c4b964;text-align:right;'>0.4556</td><td style='color:black;background-color:#b9c464;text-align:right;'>0.5444</td></tr>\n",
       "</table></div></td></tr></table>"
      ],
      "text/plain": [
       "<IPython.core.display.HTML object>"
      ]
     },
     "metadata": {},
     "output_type": "display_data"
    }
   ],
   "source": [
    "%reload_ext autoreload\n",
    "%autoreload 2\n",
    "\n",
    "print(\"Probabilite jointe\")\n",
    "pX = spi.posterior(0)*spi.posterior(1)\n",
    "gnb.showPotential(pX)\n",
    "print(\"pX.argmax() = \",pX.argmax())\n",
    "print(\"px.max() = \",pX.max())\n",
    "\n",
    "spi=TreeMaxProductInference(gf_tree1) # Crée une instance d'inférence\n",
    "spi.makeInference()         # effectue les calculs de tous les messages\n",
    "spi.argmax()\n",
    "\n",
    "print(\"Tree Max Product Inference, argmax =\", spi.argmax())\n",
    "gnb.sideBySide(spi.posterior(0),spi.posterior(1))\n",
    "\n",
    "\n",
    "# TreeSumProductInference\n",
    "ie=TreeSumProductInference(gf_tree1) # Crée une instance d'inférence\n",
    "ie.makeInference()         # effectue les calculs de tous les messages\n",
    "\n",
    "print(\"Tree Sum Product Inference, argmax =\", ie.argmax())\n",
    "gnb.sideBySide(ie.posterior(0),ie.posterior(1));#ie.posterior(2),ie.posterior(3),ie.posterior(4))\n",
    "\n",
    "\n",
    "\n",
    "#print(\"test\")\n",
    "#for key,cpt in spi.dict_dict_cpt[0].items():\n",
    "#    gnb.showPotential(cpt)"
   ]
  },
  {
   "cell_type": "markdown",
   "metadata": {},
   "source": [
    "### TreeMaxSumInference\n",
    "On utilise la meme instance precedente."
   ]
  },
  {
   "cell_type": "code",
   "execution_count": null,
   "metadata": {},
   "outputs": [],
   "source": [
    "%reload_ext autoreload\n",
    "%autoreload 2\n",
    "print(\"Probabilite jointe\")\n",
    "gnb.showPotential(gf_tree1.bn.cpt(0)*gf_tree1.bn.cpt(1))\n",
    "\n",
    "# TreeSumProductInference\n",
    "ie=TreeSumProductInference(gf_tree1) # Crée une instance d'inférence\n",
    "ie.makeInference()         # effectue les calculs de tous les messages\n",
    "\n",
    "spi = TreeMaxSumInference(gf_tree1)\n",
    "spi.makeInference()\n",
    "print(\"Tree Max Sum Inference, argmax =\", spi.argmax())\n",
    "gnb.sideBySide(spi.posterior(0),spi.posterior(1));\n"
   ]
  },
  {
   "cell_type": "markdown",
   "metadata": {},
   "source": [
    "### LBPMaxSumInference"
   ]
  },
  {
   "cell_type": "code",
   "execution_count": null,
   "metadata": {},
   "outputs": [],
   "source": [
    "%reload_ext autoreload\n",
    "%autoreload 2\n",
    "\n",
    "print(\"Probabilite jointe\")\n",
    "gnb.showPotential(gf_tree1.bn.cpt(0)*gf_tree1.bn.cpt(1))\n",
    "\n",
    "spi = LBPMaxSumInference(gf_tree1)\n",
    "spi.makeInference()\n",
    "print(\"Tree Max Sum Inference, argmax =\", spi.argmax())\n",
    "gnb.sideBySide(spi.posterior(0),spi.posterior(1));"
   ]
  },
  {
   "cell_type": "code",
   "execution_count": null,
   "metadata": {},
   "outputs": [],
   "source": []
  }
 ],
 "metadata": {
  "kernelspec": {
   "display_name": "Python 3",
   "language": "python",
   "name": "python3"
  },
  "language_info": {
   "codemirror_mode": {
    "name": "ipython",
    "version": 3
   },
   "file_extension": ".py",
   "mimetype": "text/x-python",
   "name": "python",
   "nbconvert_exporter": "python",
   "pygments_lexer": "ipython3",
   "version": "3.7.3"
  }
 },
 "nbformat": 4,
 "nbformat_minor": 2
}
