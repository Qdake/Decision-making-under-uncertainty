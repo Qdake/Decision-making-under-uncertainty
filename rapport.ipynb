{
 "cells": [
  {
   "cell_type": "code",
   "execution_count": 29,
   "metadata": {},
   "outputs": [],
   "source": [
    "%reload_ext autoreload\n",
    "%autoreload 2\n",
    "from projet_madi import *\n",
    "import pyAgrum as gum\n",
    "import pyAgrum.lib.notebook as gnb\n",
    "import pydotplus as dot\n",
    "from IPython.display import SVG\n",
    "from projet_madi import *"
   ]
  },
  {
   "cell_type": "code",
   "execution_count": 30,
   "metadata": {},
   "outputs": [
    {
     "data": {
      "image/svg+xml": [
       "<svg height=\"188pt\" viewBox=\"0.00 0.00 134.00 188.00\" width=\"134pt\" xmlns=\"http://www.w3.org/2000/svg\" xmlns:xlink=\"http://www.w3.org/1999/xlink\">\n",
       "<g class=\"graph\" id=\"graph0\" transform=\"scale(1 1) rotate(0) translate(4 184)\">\n",
       "<title>G</title>\n",
       "<!-- A -->\n",
       "<g class=\"node\" id=\"node1\">\n",
       "<title>A</title>\n",
       "<g id=\"a_node1\"><a xlink:title=\"(0) A\">\n",
       "<ellipse cx=\"27\" cy=\"-162\" fill=\"#404040\" rx=\"27\" ry=\"18\" stroke=\"#000000\"/>\n",
       "<text fill=\"#ffffff\" font-family=\"Times,serif\" font-size=\"14.00\" text-anchor=\"middle\" x=\"27\" y=\"-158.3\">A</text>\n",
       "</a>\n",
       "</g>\n",
       "</g>\n",
       "<!-- B -->\n",
       "<g class=\"node\" id=\"node2\">\n",
       "<title>B</title>\n",
       "<g id=\"a_node2\"><a xlink:title=\"(1) B\">\n",
       "<ellipse cx=\"27\" cy=\"-90\" fill=\"#404040\" rx=\"27\" ry=\"18\" stroke=\"#000000\"/>\n",
       "<text fill=\"#ffffff\" font-family=\"Times,serif\" font-size=\"14.00\" text-anchor=\"middle\" x=\"27\" y=\"-86.3\">B</text>\n",
       "</a>\n",
       "</g>\n",
       "</g>\n",
       "<!-- A&#45;&gt;B -->\n",
       "<g class=\"edge\" id=\"edge1\">\n",
       "<title>A-&gt;B</title>\n",
       "<g id=\"a_edge1\"><a xlink:title=\"(0, 1) : \">\n",
       "<path d=\"M27,-143.8314C27,-136.131 27,-126.9743 27,-118.4166\" fill=\"none\" stroke=\"#4a4a4a\"/>\n",
       "<polygon fill=\"#4a4a4a\" points=\"30.5001,-118.4132 27,-108.4133 23.5001,-118.4133 30.5001,-118.4132\" stroke=\"#4a4a4a\"/>\n",
       "</a>\n",
       "</g>\n",
       "</g>\n",
       "<!-- E -->\n",
       "<g class=\"node\" id=\"node5\">\n",
       "<title>E</title>\n",
       "<g id=\"a_node5\"><a xlink:title=\"(4) E\">\n",
       "<ellipse cx=\"27\" cy=\"-18\" fill=\"#404040\" rx=\"27\" ry=\"18\" stroke=\"#000000\"/>\n",
       "<text fill=\"#ffffff\" font-family=\"Times,serif\" font-size=\"14.00\" text-anchor=\"middle\" x=\"27\" y=\"-14.3\">E</text>\n",
       "</a>\n",
       "</g>\n",
       "</g>\n",
       "<!-- B&#45;&gt;E -->\n",
       "<g class=\"edge\" id=\"edge2\">\n",
       "<title>B-&gt;E</title>\n",
       "<g id=\"a_edge2\"><a xlink:title=\"(1, 4) : \">\n",
       "<path d=\"M27,-71.8314C27,-64.131 27,-54.9743 27,-46.4166\" fill=\"none\" stroke=\"#4a4a4a\"/>\n",
       "<polygon fill=\"#4a4a4a\" points=\"30.5001,-46.4132 27,-36.4133 23.5001,-46.4133 30.5001,-46.4132\" stroke=\"#4a4a4a\"/>\n",
       "</a>\n",
       "</g>\n",
       "</g>\n",
       "<!-- C -->\n",
       "<g class=\"node\" id=\"node3\">\n",
       "<title>C</title>\n",
       "<g id=\"a_node3\"><a xlink:title=\"(2) C\">\n",
       "<ellipse cx=\"99\" cy=\"-162\" fill=\"#404040\" rx=\"27\" ry=\"18\" stroke=\"#000000\"/>\n",
       "<text fill=\"#ffffff\" font-family=\"Times,serif\" font-size=\"14.00\" text-anchor=\"middle\" x=\"99\" y=\"-158.3\">C</text>\n",
       "</a>\n",
       "</g>\n",
       "</g>\n",
       "<!-- C&#45;&gt;B -->\n",
       "<g class=\"edge\" id=\"edge4\">\n",
       "<title>C-&gt;B</title>\n",
       "<g id=\"a_edge4\"><a xlink:title=\"(2, 1) : \">\n",
       "<path d=\"M83.7307,-146.7307C73.803,-136.803 60.6847,-123.6847 49.5637,-112.5637\" fill=\"none\" stroke=\"#4a4a4a\"/>\n",
       "<polygon fill=\"#4a4a4a\" points=\"51.7933,-109.8436 42.2473,-105.2473 46.8436,-114.7933 51.7933,-109.8436\" stroke=\"#4a4a4a\"/>\n",
       "</a>\n",
       "</g>\n",
       "</g>\n",
       "<!-- D -->\n",
       "<g class=\"node\" id=\"node4\">\n",
       "<title>D</title>\n",
       "<g id=\"a_node4\"><a xlink:title=\"(3) D\">\n",
       "<ellipse cx=\"99\" cy=\"-90\" fill=\"#404040\" rx=\"27\" ry=\"18\" stroke=\"#000000\"/>\n",
       "<text fill=\"#ffffff\" font-family=\"Times,serif\" font-size=\"14.00\" text-anchor=\"middle\" x=\"99\" y=\"-86.3\">D</text>\n",
       "</a>\n",
       "</g>\n",
       "</g>\n",
       "<!-- C&#45;&gt;D -->\n",
       "<g class=\"edge\" id=\"edge3\">\n",
       "<title>C-&gt;D</title>\n",
       "<g id=\"a_edge3\"><a xlink:title=\"(2, 3) : \">\n",
       "<path d=\"M99,-143.8314C99,-136.131 99,-126.9743 99,-118.4166\" fill=\"none\" stroke=\"#4a4a4a\"/>\n",
       "<polygon fill=\"#4a4a4a\" points=\"102.5001,-118.4132 99,-108.4133 95.5001,-118.4133 102.5001,-118.4132\" stroke=\"#4a4a4a\"/>\n",
       "</a>\n",
       "</g>\n",
       "</g>\n",
       "</g>\n",
       "</svg>"
      ],
      "text/plain": [
       "<IPython.core.display.SVG object>"
      ]
     },
     "metadata": {},
     "output_type": "display_data"
    }
   ],
   "source": [
    "%reload_ext autoreload\n",
    "%autoreload 2\n",
    "bn=gum.fastBN(\"A->B<-C->D->E<-B\")\n",
    "bn.eraseArc(\"D\",\"E\")\n",
    "gnb.showBN(bn)"
   ]
  },
  {
   "cell_type": "code",
   "execution_count": 31,
   "metadata": {
    "scrolled": true
   },
   "outputs": [
    {
     "name": "stdout",
     "output_type": "stream",
     "text": [
      "variable 0 : A[0,1]\n",
      "variable 1 : B[0,1]\n",
      "variable 2 : C[0,1]\n",
      "variable 3 : D[0,1]\n",
      "variable 4 : E[0,1]\n",
      "\n",
      "cpt 0 : <A:0> :: 0.520393 /<A:1> :: 0.479607\n",
      "cpt 1 : <B:0|A:0|C:0> :: 0.453607 /<B:1|A:0|C:0> :: 0.546393 /<B:0|A:1|C:0> :: 0.420867 /<B:1|A:1|C:0> :: 0.579133 /<B:0|A:0|C:1> :: 0.177529 /<B:1|A:0|C:1> :: 0.822471 /<B:0|A:1|C:1> :: 0.889351 /<B:1|A:1|C:1> :: 0.110649\n",
      "cpt 2 : <C:0> :: 0.352271 /<C:1> :: 0.647729\n",
      "cpt 3 : <D:0|C:0> :: 0.531199 /<D:1|C:0> :: 0.468801 /<D:0|C:1> :: 0.178343 /<D:1|C:1> :: 0.821657\n",
      "cpt 4 : <E:0|B:0> :: 0.27767 /<E:1|B:0> :: 0.72233 /<E:0|B:1> :: 0.370293 /<E:1|B:1> :: 0.629707\n"
     ]
    }
   ],
   "source": [
    "%reload_ext autoreload\n",
    "%autoreload 2\n",
    "for i in bn.nodes():\n",
    "    print(\"variable {} : {}\".format(i,bn.variable(i)))\n",
    "print()\n",
    "for i in bn.nodes():\n",
    "    print(\"cpt {} : {}\".format(i,bn.cpt(i)))"
   ]
  },
  {
   "cell_type": "code",
   "execution_count": 32,
   "metadata": {},
   "outputs": [
    {
     "data": {
      "text/html": [
       "<table style=\"border:1px solid black;\">\n",
       "<tr><th colspan='1'></th><th colspan='2' style='border:1px solid black;color:black;background-color:#808080;'><center>D</center></th></tr>\n",
       "<tr><th style='border:1px solid black;color:black;background-color:#808080'><center>C</center></th><th style='border:1px solid black;border-bottom-style: double;color:black;background-color:#BBBBBB'><center>0</center></th><th style='border:1px solid black;border-bottom-style: double;color:black;background-color:#BBBBBB'><center>1</center></th></tr>\n",
       "<tr><th style='border:1px solid black;color:black;background-color:#BBBBBB'><center>0</center></th><td style='color:black;background-color:#bbc264;text-align:right;'>0.5312</td><td style='color:black;background-color:#c2bb64;text-align:right;'>0.4688</td></tr>\n",
       "<tr><th style='border:1px solid black;color:black;background-color:#BBBBBB'><center>1</center></th><td style='color:black;background-color:#e89564;text-align:right;'>0.1783</td><td style='color:black;background-color:#95e864;text-align:right;'>0.8217</td></tr>\n",
       "</table>"
      ],
      "text/plain": [
       "(gum::Potential<double>@0x7f9ddb7935f0) <D:0|C:0> :: 0.531199 /<D:1|C:0> :: 0.468801 /<D:0|C:1> :: 0.178343 /<D:1|C:1> :: 0.821657"
      ]
     },
     "execution_count": 32,
     "metadata": {},
     "output_type": "execute_result"
    }
   ],
   "source": [
    "bn.cpt(3)\n",
    "#cpt = gum.Potential(bn.cpt(3));\n",
    "#cpt.fillWith(0);\n",
    "#cpt[0] = 1;\n",
    "#gnb.showPotential(cpt)\n",
    "\n"
   ]
  },
  {
   "cell_type": "code",
   "execution_count": 33,
   "metadata": {},
   "outputs": [
    {
     "data": {
      "image/svg+xml": [
       "<svg height=\"277pt\" viewBox=\"0.00 0.00 273.82 277.17\" width=\"274pt\" xmlns=\"http://www.w3.org/2000/svg\" xmlns:xlink=\"http://www.w3.org/1999/xlink\">\n",
       "<g class=\"graph\" id=\"graph0\" transform=\"scale(1 1) rotate(0) translate(4 273.1711)\">\n",
       "<title>FG</title>\n",
       "<polygon fill=\"#ffffff\" points=\"-4,4 -4,-273.1711 269.8225,-273.1711 269.8225,4 -4,4\" stroke=\"transparent\"/>\n",
       "<!-- A -->\n",
       "<g class=\"node\" id=\"node1\">\n",
       "<title>A</title>\n",
       "<polygon fill=\"#ff7f50\" points=\"85.8907,-63.5531 68.8907,-63.5531 68.8907,-42.5531 85.8907,-42.5531 85.8907,-63.5531\" stroke=\"#ff7f50\"/>\n",
       "<text fill=\"#000000\" font-family=\"Times,serif\" font-size=\"14.00\" text-anchor=\"middle\" x=\"77.3907\" y=\"-49.3531\">A</text>\n",
       "</g>\n",
       "<!-- 5 -->\n",
       "<g class=\"node\" id=\"node6\">\n",
       "<title>5</title>\n",
       "<ellipse cx=\"57.5794\" cy=\"-3.6\" fill=\"#deb887\" rx=\"3.6\" ry=\"3.6\" stroke=\"#deb887\"/>\n",
       "</g>\n",
       "<!-- A&#45;&#45;5 -->\n",
       "<g class=\"edge\" id=\"edge7\">\n",
       "<title>A--5</title>\n",
       "<path d=\"M72.994,-42.0779C68.5253,-30.9233 61.8635,-14.2941 58.9863,-7.112\" fill=\"none\" stroke=\"#000000\"/>\n",
       "</g>\n",
       "<!-- 6 -->\n",
       "<g class=\"node\" id=\"node7\">\n",
       "<title>6</title>\n",
       "<ellipse cx=\"97.2578\" cy=\"-106.8526\" fill=\"#deb887\" rx=\"3.6\" ry=\"3.6\" stroke=\"#deb887\"/>\n",
       "</g>\n",
       "<!-- A&#45;&#45;6 -->\n",
       "<g class=\"edge\" id=\"edge6\">\n",
       "<title>A--6</title>\n",
       "<path d=\"M81.3158,-63.6822C85.8392,-75.9312 93.025,-95.3903 95.9524,-103.3175\" fill=\"none\" stroke=\"#000000\"/>\n",
       "</g>\n",
       "<!-- B -->\n",
       "<g class=\"node\" id=\"node2\">\n",
       "<title>B</title>\n",
       "<polygon fill=\"#ff7f50\" points=\"161.8812,-117.8484 145.8812,-117.8484 145.8812,-96.8484 161.8812,-96.8484 161.8812,-117.8484\" stroke=\"#ff7f50\"/>\n",
       "<text fill=\"#000000\" font-family=\"Times,serif\" font-size=\"14.00\" text-anchor=\"middle\" x=\"153.8812\" y=\"-103.6484\">B</text>\n",
       "</g>\n",
       "<!-- B&#45;&#45;6 -->\n",
       "<g class=\"edge\" id=\"edge9\">\n",
       "<title>B--6</title>\n",
       "<path d=\"M145.5262,-107.2752C132.9748,-107.1653 109.7763,-106.9622 100.8698,-106.8842\" fill=\"none\" stroke=\"#000000\"/>\n",
       "</g>\n",
       "<!-- 9 -->\n",
       "<g class=\"node\" id=\"node10\">\n",
       "<title>9</title>\n",
       "<ellipse cx=\"206.7435\" cy=\"-103.0244\" fill=\"#deb887\" rx=\"3.6\" ry=\"3.6\" stroke=\"#deb887\"/>\n",
       "</g>\n",
       "<!-- B&#45;&#45;9 -->\n",
       "<g class=\"edge\" id=\"edge8\">\n",
       "<title>B--9</title>\n",
       "<path d=\"M162.1409,-106.6728C173.7562,-105.7227 194.4458,-104.0303 202.9418,-103.3354\" fill=\"none\" stroke=\"#000000\"/>\n",
       "</g>\n",
       "<!-- C -->\n",
       "<g class=\"node\" id=\"node3\">\n",
       "<title>C</title>\n",
       "<polygon fill=\"#ff7f50\" points=\"67.9094,-162.4276 51.9094,-162.4276 51.9094,-141.4276 67.9094,-141.4276 67.9094,-162.4276\" stroke=\"#ff7f50\"/>\n",
       "<text fill=\"#000000\" font-family=\"Times,serif\" font-size=\"14.00\" text-anchor=\"middle\" x=\"59.9094\" y=\"-148.2276\">C</text>\n",
       "</g>\n",
       "<!-- C&#45;&#45;6 -->\n",
       "<g class=\"edge\" id=\"edge2\">\n",
       "<title>C--6</title>\n",
       "<path d=\"M68.1983,-141.924C76.7944,-131.5494 89.6956,-115.9792 94.9286,-109.6637\" fill=\"none\" stroke=\"#000000\"/>\n",
       "</g>\n",
       "<!-- 7 -->\n",
       "<g class=\"node\" id=\"node8\">\n",
       "<title>7</title>\n",
       "<ellipse cx=\"3.6\" cy=\"-145.2709\" fill=\"#deb887\" rx=\"3.6\" ry=\"3.6\" stroke=\"#deb887\"/>\n",
       "</g>\n",
       "<!-- C&#45;&#45;7 -->\n",
       "<g class=\"edge\" id=\"edge1\">\n",
       "<title>C--7</title>\n",
       "<path d=\"M51.6008,-150.9454C39.119,-149.4698 16.0491,-146.7426 7.1919,-145.6955\" fill=\"none\" stroke=\"#000000\"/>\n",
       "</g>\n",
       "<!-- 8 -->\n",
       "<g class=\"node\" id=\"node9\">\n",
       "<title>8</title>\n",
       "<ellipse cx=\"59.576\" cy=\"-207.7429\" fill=\"#deb887\" rx=\"3.6\" ry=\"3.6\" stroke=\"#deb887\"/>\n",
       "</g>\n",
       "<!-- C&#45;&#45;8 -->\n",
       "<g class=\"edge\" id=\"edge4\">\n",
       "<title>C--8</title>\n",
       "<path d=\"M59.8451,-162.6893C59.7694,-175.3606 59.6477,-195.7315 59.5981,-204.0374\" fill=\"none\" stroke=\"#000000\"/>\n",
       "</g>\n",
       "<!-- D -->\n",
       "<g class=\"node\" id=\"node4\">\n",
       "<title>D</title>\n",
       "<polygon fill=\"#ff7f50\" points=\"54.7441,-269.1711 37.7441,-269.1711 37.7441,-248.1711 54.7441,-248.1711 54.7441,-269.1711\" stroke=\"#ff7f50\"/>\n",
       "<text fill=\"#000000\" font-family=\"Times,serif\" font-size=\"14.00\" text-anchor=\"middle\" x=\"46.2441\" y=\"-254.9711\">D</text>\n",
       "</g>\n",
       "<!-- D&#45;&#45;8 -->\n",
       "<g class=\"edge\" id=\"edge5\">\n",
       "<title>D--8</title>\n",
       "<path d=\"M49.0715,-247.8706C52.0677,-236.4248 56.6335,-218.9832 58.6091,-211.4362\" fill=\"none\" stroke=\"#000000\"/>\n",
       "</g>\n",
       "<!-- E -->\n",
       "<g class=\"node\" id=\"node5\">\n",
       "<title>E</title>\n",
       "<polygon fill=\"#ff7f50\" points=\"265.8225,-111.8674 250.8225,-111.8674 250.8225,-90.8674 265.8225,-90.8674 265.8225,-111.8674\" stroke=\"#ff7f50\"/>\n",
       "<text fill=\"#000000\" font-family=\"Times,serif\" font-size=\"14.00\" text-anchor=\"middle\" x=\"258.3225\" y=\"-97.6674\">E</text>\n",
       "</g>\n",
       "<!-- E&#45;&#45;9 -->\n",
       "<g class=\"edge\" id=\"edge3\">\n",
       "<title>E--9</title>\n",
       "<path d=\"M250.7118,-101.6119C239.5028,-101.972 218.9717,-102.6316 210.5258,-102.9029\" fill=\"none\" stroke=\"#000000\"/>\n",
       "</g>\n",
       "</g>\n",
       "</svg>"
      ],
      "text/plain": [
       "<IPython.core.display.SVG object>"
      ]
     },
     "execution_count": 33,
     "metadata": {},
     "output_type": "execute_result"
    }
   ],
   "source": [
    "bn=gum.fastBN(\"A->B<-C->D->E<-B\")\n",
    "bn.eraseArc(\"D\",\"E\")\n",
    "gf = FactorGraph();\n",
    "gf.build(bn);\n",
    "g=dot.graph_from_dot_data(gf.show())\n",
    "SVG(g.create_svg())"
   ]
  },
  {
   "cell_type": "code",
   "execution_count": 34,
   "metadata": {},
   "outputs": [],
   "source": [
    "#import pyAgrum as gum\n",
    "#import pyAgrum.lib.notebook as gnb\n",
    "\n",
    "#a,b,c=[gum.LabelizedVariable(s,s,2) for s in \"abc\"]\n",
    "#p1=gum.Potential().add(a).add(b).fillWith([1,2,3,4]).normalize()\n",
    "#p2=gum.Potential().add(b).add(c).fillWith([4,5,2,3]).normalize()\n",
    "\n",
    "#gnb.sideBySide(p1,p2,p1+p2,\n",
    "#              captions=['p1','p2','p1+p2'])"
   ]
  },
  {
   "cell_type": "code",
   "execution_count": 35,
   "metadata": {},
   "outputs": [
    {
     "name": "stdout",
     "output_type": "stream",
     "text": [
      "Exo:\n"
     ]
    },
    {
     "data": {
      "text/html": [
       "<table style=\"border:1px solid black;\"><tr style='border:1px solid black;color:black;background-color:#808080'><th colspan='2'><center>D</center></th></tr><tr><th style='border:1px solid black;border-bottom-style: double;color:black;background-color:#BBBBBB'><center>0</center></th><th style='border:1px solid black;border-bottom-style: double;color:black;background-color:#BBBBBB'><center>1</center></th></tr><tr><td style='color:black;background-color:#cbb264;text-align:right;'>0.4027</td><td style='color:black;background-color:#b2cb64;text-align:right;'>0.5973</td></tr></table>"
      ],
      "text/plain": [
       "<IPython.core.display.HTML object>"
      ]
     },
     "metadata": {},
     "output_type": "display_data"
    },
    {
     "name": "stdout",
     "output_type": "stream",
     "text": [
      "Inference dans PyAgrum:\n"
     ]
    },
    {
     "data": {
      "text/html": [
       "<table style=\"border:1px solid black;\"><tr style='border:1px solid black;color:black;background-color:#808080'><th colspan='2'><center>D</center></th></tr><tr><th style='border:1px solid black;border-bottom-style: double;color:black;background-color:#BBBBBB'><center>0</center></th><th style='border:1px solid black;border-bottom-style: double;color:black;background-color:#BBBBBB'><center>1</center></th></tr><tr><td style='color:black;background-color:#cbb264;text-align:right;'>0.4027</td><td style='color:black;background-color:#b2cb64;text-align:right;'>0.5973</td></tr></table>"
      ],
      "text/plain": [
       "<IPython.core.display.HTML object>"
      ]
     },
     "metadata": {},
     "output_type": "display_data"
    }
   ],
   "source": [
    "%reload_ext autoreload\n",
    "%autoreload 2\n",
    "print(\"Exo:\")\n",
    "spi=TreeSumProductInference(gf) # Crée une instance d'inférence\n",
    "spi.makeInference()         # effectue les calculs de tous les messages\n",
    "gnb.showPotential(spi.posterior(3))\n",
    "#spi.posterior(\"A\")          # retourne la distribution de 'A' sous la forme d'un `gum.Potential`\n",
    "\n",
    "# pour comparer\n",
    "print(\"Inference dans PyAgrum:\")\n",
    "ie=gum.LazyPropagation(bn)\n",
    "ie.makeInference()\n",
    "gnb.showPotential(ie.posterior(3))\n",
    "\n"
   ]
  },
  {
   "cell_type": "markdown",
   "metadata": {},
   "source": [
    "\n",
    "\\\n",
    "\\\n",
    "LBPSumProductInference   ADDEvidence TEST"
   ]
  },
  {
   "cell_type": "code",
   "execution_count": 53,
   "metadata": {},
   "outputs": [
    {
     "name": "stdout",
     "output_type": "stream",
     "text": [
      "Inference dans PyAgrum:\n"
     ]
    },
    {
     "data": {
      "text/html": [
       "<table style=\"border:1px solid black;\"><tr style='border:1px solid black;color:black;background-color:#808080'><th colspan='2'><center>E</center></th></tr><tr><th style='border:1px solid black;border-bottom-style: double;color:black;background-color:#BBBBBB'><center>0</center></th><th style='border:1px solid black;border-bottom-style: double;color:black;background-color:#BBBBBB'><center>1</center></th></tr><tr><td style='color:black;background-color:#b9c464;text-align:right;'>0.5399</td><td style='color:black;background-color:#c4b964;text-align:right;'>0.4601</td></tr></table>"
      ],
      "text/plain": [
       "<IPython.core.display.HTML object>"
      ]
     },
     "metadata": {},
     "output_type": "display_data"
    }
   ],
   "source": [
    "\n",
    "# pour comparer\n",
    "print(\"Inference dans PyAgrum:\")\n",
    "ie=gum.LazyPropagation(bn)\n",
    "ie.addEvidence(2,1)\n",
    "ie.addEvidence(3,0)\n",
    "ie.makeInference()\n",
    "gnb.showPotential(ie.posterior(4))"
   ]
  },
  {
   "cell_type": "code",
   "execution_count": 54,
   "metadata": {},
   "outputs": [
    {
     "name": "stdout",
     "output_type": "stream",
     "text": [
      "name C label 1\n",
      "dingdingding node_id= 2  name = C  \n",
      "name D label 0\n",
      "dingdingding node_id= 3  name = D  \n"
     ]
    },
    {
     "data": {
      "text/html": [
       "<table style=\"border:1px solid black;\"><tr style='border:1px solid black;color:black;background-color:#808080'><th colspan='2'><center>E</center></th></tr><tr><th style='border:1px solid black;border-bottom-style: double;color:black;background-color:#BBBBBB'><center>0</center></th><th style='border:1px solid black;border-bottom-style: double;color:black;background-color:#BBBBBB'><center>1</center></th></tr><tr><td style='color:black;background-color:#b9c464;text-align:right;'>0.5399</td><td style='color:black;background-color:#c4b964;text-align:right;'>0.4601</td></tr></table>"
      ],
      "text/plain": [
       "<IPython.core.display.HTML object>"
      ]
     },
     "metadata": {},
     "output_type": "display_data"
    },
    {
     "name": "stdout",
     "output_type": "stream",
     "text": [
      "graph\n"
     ]
    },
    {
     "data": {
      "image/svg+xml": [
       "<svg height=\"230pt\" viewBox=\"0.00 0.00 374.20 229.82\" width=\"374pt\" xmlns=\"http://www.w3.org/2000/svg\" xmlns:xlink=\"http://www.w3.org/1999/xlink\">\n",
       "<g class=\"graph\" id=\"graph0\" transform=\"scale(1 1) rotate(0) translate(4 225.8233)\">\n",
       "<title>FG</title>\n",
       "<polygon fill=\"#ffffff\" points=\"-4,4 -4,-225.8233 370.1961,-225.8233 370.1961,4 -4,4\" stroke=\"transparent\"/>\n",
       "<!-- A -->\n",
       "<g class=\"node\" id=\"node1\">\n",
       "<title>A</title>\n",
       "<polygon fill=\"#ff7f50\" points=\"188.5724,-176.0826 171.5724,-176.0826 171.5724,-155.0826 188.5724,-155.0826 188.5724,-176.0826\" stroke=\"#ff7f50\"/>\n",
       "<text fill=\"#000000\" font-family=\"Times,serif\" font-size=\"14.00\" text-anchor=\"middle\" x=\"180.0724\" y=\"-161.8826\">A</text>\n",
       "</g>\n",
       "<!-- 5 -->\n",
       "<g class=\"node\" id=\"node6\">\n",
       "<title>5</title>\n",
       "<ellipse cx=\"168.3393\" cy=\"-218.2233\" fill=\"#deb887\" rx=\"3.6\" ry=\"3.6\" stroke=\"#deb887\"/>\n",
       "</g>\n",
       "<!-- A&#45;&#45;5 -->\n",
       "<g class=\"edge\" id=\"edge9\">\n",
       "<title>A--5</title>\n",
       "<path d=\"M177.698,-176.2352C175.0731,-188.0119 170.9817,-206.3682 169.2081,-214.3258\" fill=\"none\" stroke=\"#000000\"/>\n",
       "</g>\n",
       "<!-- 6 -->\n",
       "<g class=\"node\" id=\"node7\">\n",
       "<title>6</title>\n",
       "<ellipse cx=\"197.5352\" cy=\"-110.5121\" fill=\"#deb887\" rx=\"3.6\" ry=\"3.6\" stroke=\"#deb887\"/>\n",
       "</g>\n",
       "<!-- A&#45;&#45;6 -->\n",
       "<g class=\"edge\" id=\"edge8\">\n",
       "<title>A--6</title>\n",
       "<path d=\"M183.4394,-154.9644C187.4039,-142.4622 193.7773,-122.3632 196.3759,-114.1681\" fill=\"none\" stroke=\"#000000\"/>\n",
       "</g>\n",
       "<!-- B -->\n",
       "<g class=\"node\" id=\"node2\">\n",
       "<title>B</title>\n",
       "<polygon fill=\"#ff7f50\" points=\"262.9324,-125.6013 246.9324,-125.6013 246.9324,-104.6013 262.9324,-104.6013 262.9324,-125.6013\" stroke=\"#ff7f50\"/>\n",
       "<text fill=\"#000000\" font-family=\"Times,serif\" font-size=\"14.00\" text-anchor=\"middle\" x=\"254.9324\" y=\"-111.4013\">B</text>\n",
       "</g>\n",
       "<!-- B&#45;&#45;6 -->\n",
       "<g class=\"edge\" id=\"edge11\">\n",
       "<title>B--6</title>\n",
       "<path d=\"M246.4632,-114.4242C233.7403,-113.4069 210.2248,-111.5267 201.1966,-110.8049\" fill=\"none\" stroke=\"#000000\"/>\n",
       "</g>\n",
       "<!-- 9 -->\n",
       "<g class=\"node\" id=\"node10\">\n",
       "<title>9</title>\n",
       "<ellipse cx=\"308.1518\" cy=\"-121.1213\" fill=\"#deb887\" rx=\"3.6\" ry=\"3.6\" stroke=\"#deb887\"/>\n",
       "</g>\n",
       "<!-- B&#45;&#45;9 -->\n",
       "<g class=\"edge\" id=\"edge10\">\n",
       "<title>B--9</title>\n",
       "<path d=\"M263.2479,-116.0419C274.9416,-117.3647 295.7711,-119.7208 304.3244,-120.6884\" fill=\"none\" stroke=\"#000000\"/>\n",
       "</g>\n",
       "<!-- C -->\n",
       "<g class=\"node\" id=\"node3\">\n",
       "<title>C</title>\n",
       "<polygon fill=\"#ff7f50\" points=\"173.0238,-70.0345 157.0238,-70.0345 157.0238,-49.0345 173.0238,-49.0345 173.0238,-70.0345\" stroke=\"#ff7f50\"/>\n",
       "<text fill=\"#000000\" font-family=\"Times,serif\" font-size=\"14.00\" text-anchor=\"middle\" x=\"165.0238\" y=\"-55.8345\">C</text>\n",
       "</g>\n",
       "<!-- C&#45;&#45;6 -->\n",
       "<g class=\"edge\" id=\"edge2\">\n",
       "<title>C--6</title>\n",
       "<path d=\"M171.9186,-70.3455C179.3744,-82.0362 190.8157,-99.9759 195.4645,-107.2652\" fill=\"none\" stroke=\"#000000\"/>\n",
       "</g>\n",
       "<!-- 7 -->\n",
       "<g class=\"node\" id=\"node8\">\n",
       "<title>7</title>\n",
       "<ellipse cx=\"156.162\" cy=\"-3.6\" fill=\"#deb887\" rx=\"3.6\" ry=\"3.6\" stroke=\"#deb887\"/>\n",
       "</g>\n",
       "<!-- C&#45;&#45;7 -->\n",
       "<g class=\"edge\" id=\"edge1\">\n",
       "<title>C--7</title>\n",
       "<path d=\"M163.357,-49.0136C161.3515,-36.3552 158.0881,-15.7573 156.7564,-7.3514\" fill=\"none\" stroke=\"#000000\"/>\n",
       "</g>\n",
       "<!-- 8 -->\n",
       "<g class=\"node\" id=\"node9\">\n",
       "<title>8</title>\n",
       "<ellipse cx=\"107.0822\" cy=\"-60.4222\" fill=\"#deb887\" rx=\"3.6\" ry=\"3.6\" stroke=\"#deb887\"/>\n",
       "</g>\n",
       "<!-- C&#45;&#45;8 -->\n",
       "<g class=\"edge\" id=\"edge4\">\n",
       "<title>C--8</title>\n",
       "<path d=\"M156.9673,-59.6579C144.2804,-59.8523 120.1358,-60.2222 110.8504,-60.3644\" fill=\"none\" stroke=\"#000000\"/>\n",
       "</g>\n",
       "<!-- 10 -->\n",
       "<g class=\"node\" id=\"node11\">\n",
       "<title>10</title>\n",
       "<ellipse cx=\"203.673\" cy=\"-16.7856\" fill=\"#deb887\" rx=\"3.6\" ry=\"3.6\" stroke=\"#deb887\"/>\n",
       "</g>\n",
       "<!-- C&#45;&#45;10 -->\n",
       "<g class=\"edge\" id=\"edge6\">\n",
       "<title>C--10</title>\n",
       "<path d=\"M173.2203,-50.4685C182.0837,-40.665 195.6848,-25.6211 201.2112,-19.5084\" fill=\"none\" stroke=\"#000000\"/>\n",
       "</g>\n",
       "<!-- D -->\n",
       "<g class=\"node\" id=\"node4\">\n",
       "<title>D</title>\n",
       "<polygon fill=\"#ff7f50\" points=\"62.9611,-59.7921 45.9611,-59.7921 45.9611,-38.7921 62.9611,-38.7921 62.9611,-59.7921\" stroke=\"#ff7f50\"/>\n",
       "<text fill=\"#000000\" font-family=\"Times,serif\" font-size=\"14.00\" text-anchor=\"middle\" x=\"54.4611\" y=\"-45.5921\">D</text>\n",
       "</g>\n",
       "<!-- D&#45;&#45;8 -->\n",
       "<g class=\"edge\" id=\"edge7\">\n",
       "<title>D--8</title>\n",
       "<path d=\"M63.1504,-51.13C74.8269,-53.5998 95.0727,-57.882 103.3715,-59.6373\" fill=\"none\" stroke=\"#000000\"/>\n",
       "</g>\n",
       "<!-- 11 -->\n",
       "<g class=\"node\" id=\"node12\">\n",
       "<title>11</title>\n",
       "<ellipse cx=\"3.6\" cy=\"-39.6694\" fill=\"#deb887\" rx=\"3.6\" ry=\"3.6\" stroke=\"#deb887\"/>\n",
       "</g>\n",
       "<!-- D&#45;&#45;11 -->\n",
       "<g class=\"edge\" id=\"edge5\">\n",
       "<title>D--11</title>\n",
       "<path d=\"M45.6018,-47.616C34.445,-45.5052 15.7514,-41.9684 7.6016,-40.4265\" fill=\"none\" stroke=\"#000000\"/>\n",
       "</g>\n",
       "<!-- E -->\n",
       "<g class=\"node\" id=\"node5\">\n",
       "<title>E</title>\n",
       "<polygon fill=\"#ff7f50\" points=\"366.1961,-142.9022 351.1961,-142.9022 351.1961,-121.9022 366.1961,-121.9022 366.1961,-142.9022\" stroke=\"#ff7f50\"/>\n",
       "<text fill=\"#000000\" font-family=\"Times,serif\" font-size=\"14.00\" text-anchor=\"middle\" x=\"358.6961\" y=\"-128.7022\">E</text>\n",
       "</g>\n",
       "<!-- E&#45;&#45;9 -->\n",
       "<g class=\"edge\" id=\"edge3\">\n",
       "<title>E--9</title>\n",
       "<path d=\"M350.7986,-130.6396C339.6927,-128.1609 319.9102,-123.7456 311.7869,-121.9326\" fill=\"none\" stroke=\"#000000\"/>\n",
       "</g>\n",
       "</g>\n",
       "</svg>"
      ],
      "text/plain": [
       "<IPython.core.display.SVG object>"
      ]
     },
     "execution_count": 54,
     "metadata": {},
     "output_type": "execute_result"
    }
   ],
   "source": [
    "spi=TreeSumProductInference(gf) # Crée une instance d'inférence\n",
    "spi.addEvidence({\"C\":1,\"D\":0})\n",
    "\n",
    "spi.makeInference()         # effectue les calculs de tous les messages\n",
    "gnb.showPotential(spi.posterior(4))\n",
    "print(\"graph\")\n",
    "g=dot.graph_from_dot_data(spi.fg.show())\n",
    "SVG(g.create_svg())\n",
    "\n"
   ]
  },
  {
   "cell_type": "markdown",
   "metadata": {},
   "source": [
    "\\ \n",
    "\\\n",
    "\\\n",
    "\\\n",
    "LBPSumProductInference  TEST"
   ]
  },
  {
   "cell_type": "code",
   "execution_count": 61,
   "metadata": {},
   "outputs": [
    {
     "name": "stdout",
     "output_type": "stream",
     "text": [
      "Inference LBP dans PyAgrum:\n"
     ]
    },
    {
     "data": {
      "text/html": [
       "<table style=\"border:1px solid black;\"><tr style='border:1px solid black;color:black;background-color:#808080'><th colspan='2'><center>D</center></th></tr><tr><th style='border:1px solid black;border-bottom-style: double;color:black;background-color:#BBBBBB'><center>0</center></th><th style='border:1px solid black;border-bottom-style: double;color:black;background-color:#BBBBBB'><center>1</center></th></tr><tr><td style='color:black;background-color:#cbb264;text-align:right;'>0.4027</td><td style='color:black;background-color:#b2cb64;text-align:right;'>0.5973</td></tr></table>"
      ],
      "text/plain": [
       "<IPython.core.display.HTML object>"
      ]
     },
     "metadata": {},
     "output_type": "display_data"
    }
   ],
   "source": [
    "# pour comparer\n",
    "print(\"Inference LBP dans PyAgrum:\")\n",
    "ie=gum.LoopyBeliefPropagation(bn)\n",
    "ie.makeInference()\n",
    "gnb.showPotential(ie.posterior(3))"
   ]
  },
  {
   "cell_type": "code",
   "execution_count": 62,
   "metadata": {},
   "outputs": [
    {
     "name": "stdout",
     "output_type": "stream",
     "text": [
      "Exo LBPSumproductInference:\n"
     ]
    },
    {
     "data": {
      "text/html": [
       "<table style=\"border:1px solid black;\"><tr style='border:1px solid black;color:black;background-color:#808080'><th colspan='2'><center>D</center></th></tr><tr><th style='border:1px solid black;border-bottom-style: double;color:black;background-color:#BBBBBB'><center>0</center></th><th style='border:1px solid black;border-bottom-style: double;color:black;background-color:#BBBBBB'><center>1</center></th></tr><tr><td style='color:black;background-color:#cbb264;text-align:right;'>0.4027</td><td style='color:black;background-color:#b2cb64;text-align:right;'>0.5973</td></tr></table>"
      ],
      "text/plain": [
       "<IPython.core.display.HTML object>"
      ]
     },
     "metadata": {},
     "output_type": "display_data"
    }
   ],
   "source": [
    "%reload_ext autoreload\n",
    "%autoreload 2\n",
    "\n",
    "print(\"Exo LBPSumproductInference:\")\n",
    "spi=LBPSumProductInference(gf) # Crée une instance d'inférence\n",
    "spi.makeInference()         # effectue les calculs de tous les messages\n",
    "gnb.showPotential(spi.posterior(3))"
   ]
  },
  {
   "cell_type": "markdown",
   "metadata": {},
   "source": [
    "\\\n",
    "\\\n",
    "\\\n",
    "LBP  TEST"
   ]
  },
  {
   "cell_type": "code",
   "execution_count": 65,
   "metadata": {},
   "outputs": [
    {
     "name": "stdout",
     "output_type": "stream",
     "text": [
      "Inference LBP dans PyAgrum:\n"
     ]
    },
    {
     "data": {
      "text/html": [
       "<table style=\"border:1px solid black;\"><tr style='border:1px solid black;color:black;background-color:#808080'><th colspan='2'><center>E</center></th></tr><tr><th style='border:1px solid black;border-bottom-style: double;color:black;background-color:#BBBBBB'><center>0</center></th><th style='border:1px solid black;border-bottom-style: double;color:black;background-color:#BBBBBB'><center>1</center></th></tr><tr><td style='color:black;background-color:#b9c464;text-align:right;'>0.5399</td><td style='color:black;background-color:#c4b964;text-align:right;'>0.4601</td></tr></table>"
      ],
      "text/plain": [
       "<IPython.core.display.HTML object>"
      ]
     },
     "metadata": {},
     "output_type": "display_data"
    }
   ],
   "source": [
    "# pour comparer\n",
    "print(\"Inference LBP dans PyAgrum:\")\n",
    "ie=gum.LoopyBeliefPropagation(bn)\n",
    "ie.addEvidence(2,1)\n",
    "ie.addEvidence(3,0)\n",
    "ie.makeInference()\n",
    "gnb.showPotential(ie.posterior(4))"
   ]
  },
  {
   "cell_type": "code",
   "execution_count": 70,
   "metadata": {},
   "outputs": [
    {
     "name": "stdout",
     "output_type": "stream",
     "text": [
      "Exo LBPSumproductInference:\n"
     ]
    },
    {
     "data": {
      "text/html": [
       "<table style=\"border:1px solid black;\"><tr style='border:1px solid black;color:black;background-color:#808080'><th colspan='2'><center>E</center></th></tr><tr><th style='border:1px solid black;border-bottom-style: double;color:black;background-color:#BBBBBB'><center>0</center></th><th style='border:1px solid black;border-bottom-style: double;color:black;background-color:#BBBBBB'><center>1</center></th></tr><tr><td style='color:black;background-color:#b9c464;text-align:right;'>0.5399</td><td style='color:black;background-color:#c4b964;text-align:right;'>0.4601</td></tr></table>"
      ],
      "text/plain": [
       "<IPython.core.display.HTML object>"
      ]
     },
     "metadata": {},
     "output_type": "display_data"
    }
   ],
   "source": [
    "%reload_ext autoreload\n",
    "%autoreload 2\n",
    "\n",
    "print(\"Exo LBPSumproductInference:\")\n",
    "spi=LBPSumProductInference(gf) # Crée une instance d'inférence\n",
    "spi.addEvidence({\"C\":1,\"D\":0})\n",
    "spi.makeInference()         # effectue les calculs de tous les messages\n",
    "gnb.showPotential(spi.posterior(4))\n"
   ]
  },
  {
   "cell_type": "code",
   "execution_count": null,
   "metadata": {},
   "outputs": [],
   "source": []
  },
  {
   "cell_type": "code",
   "execution_count": null,
   "metadata": {},
   "outputs": [],
   "source": []
  },
  {
   "cell_type": "code",
   "execution_count": null,
   "metadata": {},
   "outputs": [],
   "source": []
  }
 ],
 "metadata": {
  "kernelspec": {
   "display_name": "Python 3",
   "language": "python",
   "name": "python3"
  },
  "language_info": {
   "codemirror_mode": {
    "name": "ipython",
    "version": 3
   },
   "file_extension": ".py",
   "mimetype": "text/x-python",
   "name": "python",
   "nbconvert_exporter": "python",
   "pygments_lexer": "ipython3",
   "version": "3.7.3"
  }
 },
 "nbformat": 4,
 "nbformat_minor": 2
}
