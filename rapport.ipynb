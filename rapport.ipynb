{
 "cells": [
  {
   "cell_type": "code",
   "execution_count": 28,
   "metadata": {},
   "outputs": [],
   "source": [
    "%reload_ext autoreload\n",
    "%autoreload 2\n",
    "from projet_madi import *\n",
    "import pyAgrum as gum\n",
    "import pyAgrum.lib.notebook as gnb\n",
    "import pydotplus as dot\n",
    "from IPython.display import SVG\n",
    "from projet_madi import *\n",
    "import numpy as np\n",
    "from maxproduct import *"
   ]
  },
  {
   "cell_type": "code",
   "execution_count": 29,
   "metadata": {},
   "outputs": [
    {
     "data": {
      "image/svg+xml": [
       "<svg height=\"188pt\" viewBox=\"0.00 0.00 134.00 188.00\" width=\"134pt\" xmlns=\"http://www.w3.org/2000/svg\" xmlns:xlink=\"http://www.w3.org/1999/xlink\">\n",
       "<g class=\"graph\" id=\"graph0\" transform=\"scale(1 1) rotate(0) translate(4 184)\">\n",
       "<title>G</title>\n",
       "<!-- A -->\n",
       "<g class=\"node\" id=\"node1\"><title>A</title>\n",
       "<g id=\"a_node1\"><a xlink:title=\"(0) A\">\n",
       "<ellipse cx=\"27\" cy=\"-162\" fill=\"#404040\" rx=\"27\" ry=\"18\" stroke=\"black\"/>\n",
       "<text fill=\"white\" font-family=\"Times,serif\" font-size=\"14.00\" text-anchor=\"middle\" x=\"27\" y=\"-158.3\">A</text>\n",
       "</a>\n",
       "</g>\n",
       "</g>\n",
       "<!-- B -->\n",
       "<g class=\"node\" id=\"node2\"><title>B</title>\n",
       "<g id=\"a_node2\"><a xlink:title=\"(1) B\">\n",
       "<ellipse cx=\"27\" cy=\"-90\" fill=\"#404040\" rx=\"27\" ry=\"18\" stroke=\"black\"/>\n",
       "<text fill=\"white\" font-family=\"Times,serif\" font-size=\"14.00\" text-anchor=\"middle\" x=\"27\" y=\"-86.3\">B</text>\n",
       "</a>\n",
       "</g>\n",
       "</g>\n",
       "<!-- A&#45;&gt;B -->\n",
       "<g class=\"edge\" id=\"edge1\"><title>A-&gt;B</title>\n",
       "<g id=\"a_edge1\"><a xlink:title=\"(0, 1) : \">\n",
       "<path d=\"M27,-143.697C27,-135.983 27,-126.712 27,-118.112\" fill=\"none\" stroke=\"#4a4a4a\"/>\n",
       "<polygon fill=\"#4a4a4a\" points=\"30.5001,-118.104 27,-108.104 23.5001,-118.104 30.5001,-118.104\" stroke=\"#4a4a4a\"/>\n",
       "</a>\n",
       "</g>\n",
       "</g>\n",
       "<!-- E -->\n",
       "<g class=\"node\" id=\"node5\"><title>E</title>\n",
       "<g id=\"a_node5\"><a xlink:title=\"(4) E\">\n",
       "<ellipse cx=\"27\" cy=\"-18\" fill=\"#404040\" rx=\"27\" ry=\"18\" stroke=\"black\"/>\n",
       "<text fill=\"white\" font-family=\"Times,serif\" font-size=\"14.00\" text-anchor=\"middle\" x=\"27\" y=\"-14.3\">E</text>\n",
       "</a>\n",
       "</g>\n",
       "</g>\n",
       "<!-- B&#45;&gt;E -->\n",
       "<g class=\"edge\" id=\"edge2\"><title>B-&gt;E</title>\n",
       "<g id=\"a_edge2\"><a xlink:title=\"(1, 4) : \">\n",
       "<path d=\"M27,-71.6966C27,-63.9827 27,-54.7125 27,-46.1124\" fill=\"none\" stroke=\"#4a4a4a\"/>\n",
       "<polygon fill=\"#4a4a4a\" points=\"30.5001,-46.1043 27,-36.1043 23.5001,-46.1044 30.5001,-46.1043\" stroke=\"#4a4a4a\"/>\n",
       "</a>\n",
       "</g>\n",
       "</g>\n",
       "<!-- C -->\n",
       "<g class=\"node\" id=\"node3\"><title>C</title>\n",
       "<g id=\"a_node3\"><a xlink:title=\"(2) C\">\n",
       "<ellipse cx=\"99\" cy=\"-162\" fill=\"#404040\" rx=\"27\" ry=\"18\" stroke=\"black\"/>\n",
       "<text fill=\"white\" font-family=\"Times,serif\" font-size=\"14.00\" text-anchor=\"middle\" x=\"99\" y=\"-158.3\">C</text>\n",
       "</a>\n",
       "</g>\n",
       "</g>\n",
       "<!-- C&#45;&gt;B -->\n",
       "<g class=\"edge\" id=\"edge4\"><title>C-&gt;B</title>\n",
       "<g id=\"a_edge4\"><a xlink:title=\"(2, 1) : \">\n",
       "<path d=\"M84.4297,-146.834C74.2501,-136.938 60.4761,-123.546 48.9694,-112.359\" fill=\"none\" stroke=\"#4a4a4a\"/>\n",
       "<polygon fill=\"#4a4a4a\" points=\"51.4055,-109.846 41.7957,-105.385 46.5259,-114.865 51.4055,-109.846\" stroke=\"#4a4a4a\"/>\n",
       "</a>\n",
       "</g>\n",
       "</g>\n",
       "<!-- D -->\n",
       "<g class=\"node\" id=\"node4\"><title>D</title>\n",
       "<g id=\"a_node4\"><a xlink:title=\"(3) D\">\n",
       "<ellipse cx=\"99\" cy=\"-90\" fill=\"#404040\" rx=\"27\" ry=\"18\" stroke=\"black\"/>\n",
       "<text fill=\"white\" font-family=\"Times,serif\" font-size=\"14.00\" text-anchor=\"middle\" x=\"99\" y=\"-86.3\">D</text>\n",
       "</a>\n",
       "</g>\n",
       "</g>\n",
       "<!-- C&#45;&gt;D -->\n",
       "<g class=\"edge\" id=\"edge3\"><title>C-&gt;D</title>\n",
       "<g id=\"a_edge3\"><a xlink:title=\"(2, 3) : \">\n",
       "<path d=\"M99,-143.697C99,-135.983 99,-126.712 99,-118.112\" fill=\"none\" stroke=\"#4a4a4a\"/>\n",
       "<polygon fill=\"#4a4a4a\" points=\"102.5,-118.104 99,-108.104 95.5001,-118.104 102.5,-118.104\" stroke=\"#4a4a4a\"/>\n",
       "</a>\n",
       "</g>\n",
       "</g>\n",
       "</g>\n",
       "</svg>"
      ],
      "text/plain": [
       "<IPython.core.display.SVG object>"
      ]
     },
     "metadata": {},
     "output_type": "display_data"
    },
    {
     "data": {
      "text/html": [
       "<table style=\"border:1px solid black;\"><tr><th colspan='2'></th><th colspan='2' style='border:1px solid black;color:black;background-color:#808080;'><center>B</center></th></tr><tr><th style='border:1px solid black;color:black;background-color:#808080'><center>C</center></th><th style='border:1px solid black;color:black;background-color:#808080'><center>A</center></th><th style='border:1px solid black;border-bottom-style: double;color:black;background-color:#BBBBBB'><center>0</center></th><th style='border:1px solid black;border-bottom-style: double;color:black;background-color:#BBBBBB'><center>1</center></th></tr><tr><th style='border:1px solid black;color:black;background-color:#BBBBBB;' rowspan = '2'><center>0</center></th><th style='border:1px solid black;color:black;background-color:#BBBBBB'><center>0</center></th><td style='color:black;background-color:#b7c664;text-align:right;'>0.5584</td><td style='color:black;background-color:#c6b764;text-align:right;'>0.4416</td></tr><tr><th style='border:1px solid black;color:black;background-color:#BBBBBB'><center>1</center></th><td style='color:black;background-color:#d2ab64;text-align:right;'>0.3466</td><td style='color:black;background-color:#abd264;text-align:right;'>0.6534</td></tr><tr><th style='border:1px solid black;color:black;background-color:#BBBBBB;' rowspan = '2'><center>1</center></th><th style='border:1px solid black;color:black;background-color:#BBBBBB'><center>0</center></th><td style='color:black;background-color:#c1bc64;text-align:right;'>0.4795</td><td style='color:black;background-color:#bcc164;text-align:right;'>0.5205</td></tr><tr><th style='border:1px solid black;color:black;background-color:#BBBBBB'><center>1</center></th><td style='color:black;background-color:#bcc164;text-align:right;'>0.5219</td><td style='color:black;background-color:#c1bc64;text-align:right;'>0.4781</td></tr></table>"
      ],
      "text/plain": [
       "<IPython.core.display.HTML object>"
      ]
     },
     "metadata": {},
     "output_type": "display_data"
    },
    {
     "data": {
      "text/plain": [
       "[0.5584089070759812, 0.6533688141400874]"
      ]
     },
     "execution_count": 29,
     "metadata": {},
     "output_type": "execute_result"
    }
   ],
   "source": [
    "%reload_ext autoreload\n",
    "%autoreload 2\n",
    "bn=gum.fastBN(\"A->B<-C->D->E<-B\")\n",
    "bn.eraseArc(\"D\",\"E\")\n",
    "gnb.showBN(bn)\n",
    "gnb.showPotential(bn.cpt(\"B\"))\n",
    "[max(bn.cpt(\"B\")[{\"B\":0}].flatten()),max(bn.cpt(\"B\")[{\"B\":1}].flatten())]"
   ]
  },
  {
   "cell_type": "code",
   "execution_count": 30,
   "metadata": {
    "scrolled": true
   },
   "outputs": [
    {
     "name": "stdout",
     "output_type": "stream",
     "text": [
      "variable 0 : A[0,1]\n",
      "variable 1 : B[0,1]\n",
      "variable 2 : C[0,1]\n",
      "variable 3 : D[0,1]\n",
      "variable 4 : E[0,1]\n",
      "\n",
      "cpt 0 : <A:0> :: 0.433398 /<A:1> :: 0.566602\n",
      "cpt 1 : <B:0|A:0|C:0> :: 0.558409 /<B:1|A:0|C:0> :: 0.441591 /<B:0|A:1|C:0> :: 0.346631 /<B:1|A:1|C:0> :: 0.653369 /<B:0|A:0|C:1> :: 0.479452 /<B:1|A:0|C:1> :: 0.520548 /<B:0|A:1|C:1> :: 0.521914 /<B:1|A:1|C:1> :: 0.478086\n",
      "cpt 2 : <C:0> :: 0.399743 /<C:1> :: 0.600257\n",
      "cpt 3 : <D:0|C:0> :: 0.467958 /<D:1|C:0> :: 0.532042 /<D:0|C:1> :: 0.334256 /<D:1|C:1> :: 0.665744\n",
      "cpt 4 : <E:0|B:0> :: 0.865733 /<E:1|B:0> :: 0.134267 /<E:0|B:1> :: 0.962909 /<E:1|B:1> :: 0.0370912\n"
     ]
    }
   ],
   "source": [
    "%reload_ext autoreload\n",
    "%autoreload 2\n",
    "for i in bn.nodes():\n",
    "    print(\"variable {} : {}\".format(i,bn.variable(i)))\n",
    "print()\n",
    "for i in bn.nodes():\n",
    "    print(\"cpt {} : {}\".format(i,bn.cpt(i)))"
   ]
  },
  {
   "cell_type": "code",
   "execution_count": 31,
   "metadata": {},
   "outputs": [
    {
     "data": {
      "text/html": [
       "<table style=\"border:1px solid black;\">\n",
       "<tr><th colspan='1'></th><th colspan='2' style='border:1px solid black;color:black;background-color:#808080;'><center>D</center></th></tr>\n",
       "<tr><th style='border:1px solid black;color:black;background-color:#808080'><center>C</center></th><th style='border:1px solid black;border-bottom-style: double;color:black;background-color:#BBBBBB'><center>0</center></th><th style='border:1px solid black;border-bottom-style: double;color:black;background-color:#BBBBBB'><center>1</center></th></tr>\n",
       "<tr><th style='border:1px solid black;color:black;background-color:#BBBBBB'><center>0</center></th><td style='color:black;background-color:#c3ba64;text-align:right;'>0.4680</td><td style='color:black;background-color:#bac364;text-align:right;'>0.5320</td></tr>\n",
       "<tr><th style='border:1px solid black;color:black;background-color:#BBBBBB'><center>1</center></th><td style='color:black;background-color:#d4a964;text-align:right;'>0.3343</td><td style='color:black;background-color:#a9d464;text-align:right;'>0.6657</td></tr>\n",
       "</table>"
      ],
      "text/plain": [
       "(gum::Potential<double>@0x55fa489dc220) <D:0|C:0> :: 0.467958 /<D:1|C:0> :: 0.532042 /<D:0|C:1> :: 0.334256 /<D:1|C:1> :: 0.665744"
      ]
     },
     "execution_count": 31,
     "metadata": {},
     "output_type": "execute_result"
    }
   ],
   "source": [
    "bn.cpt(3)\n",
    "#cpt = gum.Potential(bn.cpt(3));\n",
    "#cpt.fillWith(0);\n",
    "#cpt[0] = 1;\n",
    "#gnb.showPotential(cpt)\n",
    "\n"
   ]
  },
  {
   "cell_type": "code",
   "execution_count": 32,
   "metadata": {},
   "outputs": [
    {
     "data": {
      "image/svg+xml": [
       "<svg height=\"277pt\" viewBox=\"0.00 0.00 273.82 277.17\" width=\"274pt\" xmlns=\"http://www.w3.org/2000/svg\" xmlns:xlink=\"http://www.w3.org/1999/xlink\">\n",
       "<g class=\"graph\" id=\"graph0\" transform=\"scale(1 1) rotate(0) translate(106.05 149.285)\">\n",
       "<title>FG</title>\n",
       "<polygon fill=\"white\" points=\"-106.05,127.886 -106.05,-149.285 167.772,-149.285 167.772,127.886 -106.05,127.886\" stroke=\"none\"/>\n",
       "<!-- A -->\n",
       "<g class=\"node\" id=\"node1\"><title>A</title>\n",
       "<polygon fill=\"coral\" points=\"-16.6597,60.3327 -32.6597,60.3327 -32.6597,81.3327 -16.6597,81.3327 -16.6597,60.3327\" stroke=\"coral\"/>\n",
       "<text font-family=\"Times,serif\" font-size=\"14.00\" text-anchor=\"middle\" x=\"-24.6597\" y=\"74.5327\">A</text>\n",
       "</g>\n",
       "<!-- 5 -->\n",
       "<g class=\"node\" id=\"node6\"><title>5</title>\n",
       "<ellipse cx=\"-44.4711\" cy=\"120.286\" fill=\"burlywood\" rx=\"3.6\" ry=\"3.6\" stroke=\"burlywood\"/>\n",
       "</g>\n",
       "<!-- A&#45;&#45;5 -->\n",
       "<g class=\"edge\" id=\"edge7\"><title>A--5</title>\n",
       "<path d=\"M-29.0565,81.808C-33.5251,92.9626 -40.1869,109.592 -43.0642,116.774\" fill=\"none\" stroke=\"black\"/>\n",
       "</g>\n",
       "<!-- 6 -->\n",
       "<g class=\"node\" id=\"node7\"><title>6</title>\n",
       "<ellipse cx=\"-4.79266\" cy=\"17.0333\" fill=\"burlywood\" rx=\"3.6\" ry=\"3.6\" stroke=\"burlywood\"/>\n",
       "</g>\n",
       "<!-- A&#45;&#45;6 -->\n",
       "<g class=\"edge\" id=\"edge6\"><title>A--6</title>\n",
       "<path d=\"M-20.7346,60.2037C-16.2113,47.9546 -9.02546,28.4956 -6.09811,20.5684\" fill=\"none\" stroke=\"black\"/>\n",
       "</g>\n",
       "<!-- B -->\n",
       "<g class=\"node\" id=\"node2\"><title>B</title>\n",
       "<polygon fill=\"coral\" points=\"59.8307,6.03746 43.8307,6.03746 43.8307,27.0375 59.8307,27.0375 59.8307,6.03746\" stroke=\"coral\"/>\n",
       "<text font-family=\"Times,serif\" font-size=\"14.00\" text-anchor=\"middle\" x=\"51.8307\" y=\"20.2375\">B</text>\n",
       "</g>\n",
       "<!-- B&#45;&#45;6 -->\n",
       "<g class=\"edge\" id=\"edge9\"><title>B--6</title>\n",
       "<path d=\"M43.4757,16.6106C30.9244,16.7205 7.72584,16.9236 -1.18069,17.0016\" fill=\"none\" stroke=\"black\"/>\n",
       "</g>\n",
       "<!-- 9 -->\n",
       "<g class=\"node\" id=\"node10\"><title>9</title>\n",
       "<ellipse cx=\"104.693\" cy=\"20.8614\" fill=\"burlywood\" rx=\"3.6\" ry=\"3.6\" stroke=\"burlywood\"/>\n",
       "</g>\n",
       "<!-- B&#45;&#45;9 -->\n",
       "<g class=\"edge\" id=\"edge8\"><title>B--9</title>\n",
       "<path d=\"M60.0905,17.2131C71.7057,18.1632 92.3954,19.8555 100.891,20.5504\" fill=\"none\" stroke=\"black\"/>\n",
       "</g>\n",
       "<!-- C -->\n",
       "<g class=\"node\" id=\"node3\"><title>C</title>\n",
       "<polygon fill=\"coral\" points=\"-34.141,-38.5418 -50.141,-38.5418 -50.141,-17.5418 -34.141,-17.5418 -34.141,-38.5418\" stroke=\"coral\"/>\n",
       "<text font-family=\"Times,serif\" font-size=\"14.00\" text-anchor=\"middle\" x=\"-42.141\" y=\"-24.3418\">C</text>\n",
       "</g>\n",
       "<!-- C&#45;&#45;6 -->\n",
       "<g class=\"edge\" id=\"edge2\"><title>C--6</title>\n",
       "<path d=\"M-33.8522,-18.0381C-25.256,-7.66357 -12.3548,7.90661 -7.1219,14.2221\" fill=\"none\" stroke=\"black\"/>\n",
       "</g>\n",
       "<!-- 7 -->\n",
       "<g class=\"node\" id=\"node8\"><title>7</title>\n",
       "<ellipse cx=\"-98.4505\" cy=\"-21.385\" fill=\"burlywood\" rx=\"3.6\" ry=\"3.6\" stroke=\"burlywood\"/>\n",
       "</g>\n",
       "<!-- C&#45;&#45;7 -->\n",
       "<g class=\"edge\" id=\"edge1\"><title>C--7</title>\n",
       "<path d=\"M-50.4497,-27.0595C-62.9315,-25.584 -86.0014,-22.8567 -94.8585,-21.8097\" fill=\"none\" stroke=\"black\"/>\n",
       "</g>\n",
       "<!-- 8 -->\n",
       "<g class=\"node\" id=\"node9\"><title>8</title>\n",
       "<ellipse cx=\"-42.4745\" cy=\"-83.857\" fill=\"burlywood\" rx=\"3.6\" ry=\"3.6\" stroke=\"burlywood\"/>\n",
       "</g>\n",
       "<!-- C&#45;&#45;8 -->\n",
       "<g class=\"edge\" id=\"edge4\"><title>C--8</title>\n",
       "<path d=\"M-42.2053,-38.8035C-42.281,-51.4748 -42.4027,-71.8457 -42.4524,-80.1516\" fill=\"none\" stroke=\"black\"/>\n",
       "</g>\n",
       "<!-- D -->\n",
       "<g class=\"node\" id=\"node4\"><title>D</title>\n",
       "<polygon fill=\"coral\" points=\"-47.8063,-145.285 -63.8063,-145.285 -63.8063,-124.285 -47.8063,-124.285 -47.8063,-145.285\" stroke=\"coral\"/>\n",
       "<text font-family=\"Times,serif\" font-size=\"14.00\" text-anchor=\"middle\" x=\"-55.8063\" y=\"-131.085\">D</text>\n",
       "</g>\n",
       "<!-- D&#45;&#45;8 -->\n",
       "<g class=\"edge\" id=\"edge5\"><title>D--8</title>\n",
       "<path d=\"M-52.979,-123.985C-49.9828,-112.539 -45.417,-95.0974 -43.4413,-87.5504\" fill=\"none\" stroke=\"black\"/>\n",
       "</g>\n",
       "<!-- E -->\n",
       "<g class=\"node\" id=\"node5\"><title>E</title>\n",
       "<polygon fill=\"coral\" points=\"163.772,12.0184 148.772,12.0184 148.772,33.0184 163.772,33.0184 163.772,12.0184\" stroke=\"coral\"/>\n",
       "<text font-family=\"Times,serif\" font-size=\"14.00\" text-anchor=\"middle\" x=\"156.272\" y=\"26.2184\">E</text>\n",
       "</g>\n",
       "<!-- E&#45;&#45;9 -->\n",
       "<g class=\"edge\" id=\"edge3\"><title>E--9</title>\n",
       "<path d=\"M148.661,22.2739C137.452,21.9138 116.921,21.2542 108.475,20.9829\" fill=\"none\" stroke=\"black\"/>\n",
       "</g>\n",
       "</g>\n",
       "</svg>"
      ],
      "text/plain": [
       "<IPython.core.display.SVG object>"
      ]
     },
     "execution_count": 32,
     "metadata": {},
     "output_type": "execute_result"
    }
   ],
   "source": [
    "bn=gum.fastBN(\"A->B<-C->D->E<-B\")\n",
    "bn.eraseArc(\"D\",\"E\")\n",
    "gf = FactorGraph();\n",
    "gf.build(bn);\n",
    "g=dot.graph_from_dot_data(gf.show())\n",
    "SVG(g.create_svg())"
   ]
  },
  {
   "cell_type": "code",
   "execution_count": 33,
   "metadata": {},
   "outputs": [],
   "source": [
    "#import pyAgrum as gum\n",
    "#import pyAgrum.lib.notebook as gnb\n",
    "\n",
    "#a,b,c=[gum.LabelizedVariable(s,s,2) for s in \"abc\"]\n",
    "#p1=gum.Potential().add(a).add(b).fillWith([1,2,3,4]).normalize()\n",
    "#p2=gum.Potential().add(b).add(c).fillWith([4,5,2,3]).normalize()\n",
    "\n",
    "#gnb.sideBySide(p1,p2,p1+p2,\n",
    "#              captions=['p1','p2','p1+p2'])"
   ]
  },
  {
   "cell_type": "code",
   "execution_count": 34,
   "metadata": {},
   "outputs": [
    {
     "name": "stdout",
     "output_type": "stream",
     "text": [
      "Exo:\n"
     ]
    },
    {
     "data": {
      "text/html": [
       "<table style=\"border:1px solid black;\"><tr style='border:1px solid black;color:black;background-color:#808080'><th colspan='2'><center>D</center></th></tr><tr><th style='border:1px solid black;border-bottom-style: double;color:black;background-color:#BBBBBB'><center>0</center></th><th style='border:1px solid black;border-bottom-style: double;color:black;background-color:#BBBBBB'><center>1</center></th></tr><tr><td style='color:black;background-color:#e19c64;text-align:right;'>0.2283</td><td style='color:black;background-color:#9ce164;text-align:right;'>0.7717</td></tr></table>"
      ],
      "text/plain": [
       "<IPython.core.display.HTML object>"
      ]
     },
     "metadata": {},
     "output_type": "display_data"
    },
    {
     "name": "stdout",
     "output_type": "stream",
     "text": [
      "Inference dans PyAgrum:\n"
     ]
    },
    {
     "data": {
      "text/html": [
       "<table style=\"border:1px solid black;\"><tr style='border:1px solid black;color:black;background-color:#808080'><th colspan='2'><center>D</center></th></tr><tr><th style='border:1px solid black;border-bottom-style: double;color:black;background-color:#BBBBBB'><center>0</center></th><th style='border:1px solid black;border-bottom-style: double;color:black;background-color:#BBBBBB'><center>1</center></th></tr><tr><td style='color:black;background-color:#e19c64;text-align:right;'>0.2283</td><td style='color:black;background-color:#9ce164;text-align:right;'>0.7717</td></tr></table>"
      ],
      "text/plain": [
       "<IPython.core.display.HTML object>"
      ]
     },
     "metadata": {},
     "output_type": "display_data"
    }
   ],
   "source": [
    "%reload_ext autoreload\n",
    "%autoreload 2\n",
    "print(\"Exo:\")\n",
    "spi=TreeSumProductInference(gf) # Crée une instance d'inférence\n",
    "spi.makeInference()         # effectue les calculs de tous les messages\n",
    "gnb.showPotential(spi.posterior(3))\n",
    "#spi.posterior(\"A\")          # retourne la distribution de 'A' sous la forme d'un `gum.Potential`\n",
    "\n",
    "# pour comparer\n",
    "print(\"Inference dans PyAgrum:\")\n",
    "ie=gum.LazyPropagation(bn)\n",
    "ie.makeInference()\n",
    "gnb.showPotential(ie.posterior(3))\n",
    "\n"
   ]
  },
  {
   "cell_type": "markdown",
   "metadata": {},
   "source": [
    "\n",
    "\\\n",
    "\\\n",
    "LBPSumProductInference   ADDEvidence TEST"
   ]
  },
  {
   "cell_type": "code",
   "execution_count": 35,
   "metadata": {},
   "outputs": [
    {
     "name": "stdout",
     "output_type": "stream",
     "text": [
      "Inference dans PyAgrum:\n"
     ]
    },
    {
     "data": {
      "text/html": [
       "<table style=\"border:1px solid black;\"><tr style='border:1px solid black;color:black;background-color:#808080'><th colspan='2'><center>E</center></th></tr><tr><th style='border:1px solid black;border-bottom-style: double;color:black;background-color:#BBBBBB'><center>0</center></th><th style='border:1px solid black;border-bottom-style: double;color:black;background-color:#BBBBBB'><center>1</center></th></tr><tr><td style='color:black;background-color:#cbb264;text-align:right;'>0.4056</td><td style='color:black;background-color:#b2cb64;text-align:right;'>0.5944</td></tr></table>"
      ],
      "text/plain": [
       "<IPython.core.display.HTML object>"
      ]
     },
     "metadata": {},
     "output_type": "display_data"
    }
   ],
   "source": [
    "\n",
    "# pour comparer\n",
    "print(\"Inference dans PyAgrum:\")\n",
    "ie=gum.LazyPropagation(bn)\n",
    "ie.addEvidence(2,1)\n",
    "ie.addEvidence(3,0)\n",
    "ie.makeInference()\n",
    "gnb.showPotential(ie.posterior(4))"
   ]
  },
  {
   "cell_type": "code",
   "execution_count": 36,
   "metadata": {},
   "outputs": [
    {
     "data": {
      "text/html": [
       "<table style=\"border:1px solid black;\"><tr style='border:1px solid black;color:black;background-color:#808080'><th colspan='2'><center>E</center></th></tr><tr><th style='border:1px solid black;border-bottom-style: double;color:black;background-color:#BBBBBB'><center>0</center></th><th style='border:1px solid black;border-bottom-style: double;color:black;background-color:#BBBBBB'><center>1</center></th></tr><tr><td style='color:black;background-color:#cbb264;text-align:right;'>0.4056</td><td style='color:black;background-color:#b2cb64;text-align:right;'>0.5944</td></tr></table>"
      ],
      "text/plain": [
       "<IPython.core.display.HTML object>"
      ]
     },
     "metadata": {},
     "output_type": "display_data"
    },
    {
     "name": "stdout",
     "output_type": "stream",
     "text": [
      "graph\n"
     ]
    },
    {
     "data": {
      "image/svg+xml": [
       "<svg height=\"230pt\" viewBox=\"0.00 0.00 374.20 229.82\" width=\"374pt\" xmlns=\"http://www.w3.org/2000/svg\" xmlns:xlink=\"http://www.w3.org/1999/xlink\">\n",
       "<g class=\"graph\" id=\"graph0\" transform=\"scale(1 1) rotate(0) translate(183.811 134.803)\">\n",
       "<title>FG</title>\n",
       "<polygon fill=\"white\" points=\"-183.811,95.0206 -183.811,-134.803 190.385,-134.803 190.385,95.0206 -183.811,95.0206\" stroke=\"none\"/>\n",
       "<!-- A -->\n",
       "<g class=\"node\" id=\"node1\"><title>A</title>\n",
       "<polygon fill=\"coral\" points=\"8.26162,-85.062 -7.73838,-85.062 -7.73838,-64.062 8.26162,-64.062 8.26162,-85.062\" stroke=\"coral\"/>\n",
       "<text font-family=\"Times,serif\" font-size=\"14.00\" text-anchor=\"middle\" x=\"0.261616\" y=\"-70.862\">A</text>\n",
       "</g>\n",
       "<!-- 5 -->\n",
       "<g class=\"node\" id=\"node6\"><title>5</title>\n",
       "<ellipse cx=\"-11.4714\" cy=\"-127.203\" fill=\"burlywood\" rx=\"3.6\" ry=\"3.6\" stroke=\"burlywood\"/>\n",
       "</g>\n",
       "<!-- A&#45;&#45;5 -->\n",
       "<g class=\"edge\" id=\"edge9\"><title>A--5</title>\n",
       "<path d=\"M-2.11274,-85.2146C-4.73764,-96.9913 -8.82906,-115.348 -10.6027,-123.305\" fill=\"none\" stroke=\"black\"/>\n",
       "</g>\n",
       "<!-- 6 -->\n",
       "<g class=\"node\" id=\"node7\"><title>6</title>\n",
       "<ellipse cx=\"17.7245\" cy=\"-19.4916\" fill=\"burlywood\" rx=\"3.6\" ry=\"3.6\" stroke=\"burlywood\"/>\n",
       "</g>\n",
       "<!-- A&#45;&#45;6 -->\n",
       "<g class=\"edge\" id=\"edge8\"><title>A--6</title>\n",
       "<path d=\"M3.62863,-63.9439C7.59308,-51.4417 13.9665,-31.3426 16.5651,-23.1476\" fill=\"none\" stroke=\"black\"/>\n",
       "</g>\n",
       "<!-- B -->\n",
       "<g class=\"node\" id=\"node2\"><title>B</title>\n",
       "<polygon fill=\"coral\" points=\"83.1216,-34.5807 67.1216,-34.5807 67.1216,-13.5807 83.1216,-13.5807 83.1216,-34.5807\" stroke=\"coral\"/>\n",
       "<text font-family=\"Times,serif\" font-size=\"14.00\" text-anchor=\"middle\" x=\"75.1216\" y=\"-20.3807\">B</text>\n",
       "</g>\n",
       "<!-- B&#45;&#45;6 -->\n",
       "<g class=\"edge\" id=\"edge11\"><title>B--6</title>\n",
       "<path d=\"M66.6524,-23.4036C53.9295,-22.3863 30.414,-20.5062 21.3858,-19.7843\" fill=\"none\" stroke=\"black\"/>\n",
       "</g>\n",
       "<!-- 9 -->\n",
       "<g class=\"node\" id=\"node10\"><title>9</title>\n",
       "<ellipse cx=\"128.341\" cy=\"-30.1007\" fill=\"burlywood\" rx=\"3.6\" ry=\"3.6\" stroke=\"burlywood\"/>\n",
       "</g>\n",
       "<!-- B&#45;&#45;9 -->\n",
       "<g class=\"edge\" id=\"edge10\"><title>B--9</title>\n",
       "<path d=\"M83.4371,-25.0214C95.1309,-26.3441 115.96,-28.7003 124.514,-29.6678\" fill=\"none\" stroke=\"black\"/>\n",
       "</g>\n",
       "<!-- C -->\n",
       "<g class=\"node\" id=\"node3\"><title>C</title>\n",
       "<polygon fill=\"coral\" points=\"-6.78698,20.9861 -22.787,20.9861 -22.787,41.9861 -6.78698,41.9861 -6.78698,20.9861\" stroke=\"coral\"/>\n",
       "<text font-family=\"Times,serif\" font-size=\"14.00\" text-anchor=\"middle\" x=\"-14.787\" y=\"35.1861\">C</text>\n",
       "</g>\n",
       "<!-- C&#45;&#45;6 -->\n",
       "<g class=\"edge\" id=\"edge2\"><title>C--6</title>\n",
       "<path d=\"M-7.89214,20.675C-0.436332,8.98437 11.0049,-8.95539 15.6537,-16.2446\" fill=\"none\" stroke=\"black\"/>\n",
       "</g>\n",
       "<!-- 7 -->\n",
       "<g class=\"node\" id=\"node8\"><title>7</title>\n",
       "<ellipse cx=\"-23.6488\" cy=\"87.4206\" fill=\"burlywood\" rx=\"3.6\" ry=\"3.6\" stroke=\"burlywood\"/>\n",
       "</g>\n",
       "<!-- C&#45;&#45;7 -->\n",
       "<g class=\"edge\" id=\"edge1\"><title>C--7</title>\n",
       "<path d=\"M-16.4538,42.0069C-18.4593,54.6654 -21.7227,75.2633 -23.0544,83.6691\" fill=\"none\" stroke=\"black\"/>\n",
       "</g>\n",
       "<!-- 8 -->\n",
       "<g class=\"node\" id=\"node9\"><title>8</title>\n",
       "<ellipse cx=\"-72.7285\" cy=\"30.5984\" fill=\"burlywood\" rx=\"3.6\" ry=\"3.6\" stroke=\"burlywood\"/>\n",
       "</g>\n",
       "<!-- C&#45;&#45;8 -->\n",
       "<g class=\"edge\" id=\"edge4\"><title>C--8</title>\n",
       "<path d=\"M-22.8435,31.3626C-35.5304,31.1683 -59.675,30.7984 -68.9603,30.6561\" fill=\"none\" stroke=\"black\"/>\n",
       "</g>\n",
       "<!-- 10 -->\n",
       "<g class=\"node\" id=\"node11\"><title>10</title>\n",
       "<ellipse cx=\"23.8622\" cy=\"74.235\" fill=\"burlywood\" rx=\"3.6\" ry=\"3.6\" stroke=\"burlywood\"/>\n",
       "</g>\n",
       "<!-- C&#45;&#45;10 -->\n",
       "<g class=\"edge\" id=\"edge6\"><title>C--10</title>\n",
       "<path d=\"M-6.59049,40.552C2.27288,50.3556 15.8741,65.3995 21.4005,71.5121\" fill=\"none\" stroke=\"black\"/>\n",
       "</g>\n",
       "<!-- D -->\n",
       "<g class=\"node\" id=\"node4\"><title>D</title>\n",
       "<polygon fill=\"coral\" points=\"-117.35,31.2284 -133.35,31.2284 -133.35,52.2284 -117.35,52.2284 -117.35,31.2284\" stroke=\"coral\"/>\n",
       "<text font-family=\"Times,serif\" font-size=\"14.00\" text-anchor=\"middle\" x=\"-125.35\" y=\"45.4284\">D</text>\n",
       "</g>\n",
       "<!-- D&#45;&#45;8 -->\n",
       "<g class=\"edge\" id=\"edge7\"><title>D--8</title>\n",
       "<path d=\"M-117.128,39.9893C-105.565,37.5438 -84.9701,33.1876 -76.5129,31.3988\" fill=\"none\" stroke=\"black\"/>\n",
       "</g>\n",
       "<!-- 11 -->\n",
       "<g class=\"node\" id=\"node12\"><title>11</title>\n",
       "<ellipse cx=\"-176.211\" cy=\"51.3511\" fill=\"burlywood\" rx=\"3.6\" ry=\"3.6\" stroke=\"burlywood\"/>\n",
       "</g>\n",
       "<!-- D&#45;&#45;11 -->\n",
       "<g class=\"edge\" id=\"edge5\"><title>D--11</title>\n",
       "<path d=\"M-133.748,43.3174C-145.034,45.4527 -164.603,49.155 -172.624,50.6726\" fill=\"none\" stroke=\"black\"/>\n",
       "</g>\n",
       "<!-- E -->\n",
       "<g class=\"node\" id=\"node5\"><title>E</title>\n",
       "<polygon fill=\"coral\" points=\"186.385,-51.8817 171.385,-51.8817 171.385,-30.8817 186.385,-30.8817 186.385,-51.8817\" stroke=\"coral\"/>\n",
       "<text font-family=\"Times,serif\" font-size=\"14.00\" text-anchor=\"middle\" x=\"178.885\" y=\"-37.6817\">E</text>\n",
       "</g>\n",
       "<!-- E&#45;&#45;9 -->\n",
       "<g class=\"edge\" id=\"edge3\"><title>E--9</title>\n",
       "<path d=\"M170.988,-39.619C159.882,-37.1403 140.099,-32.7251 131.976,-30.912\" fill=\"none\" stroke=\"black\"/>\n",
       "</g>\n",
       "</g>\n",
       "</svg>"
      ],
      "text/plain": [
       "<IPython.core.display.SVG object>"
      ]
     },
     "execution_count": 36,
     "metadata": {},
     "output_type": "execute_result"
    }
   ],
   "source": [
    "spi=TreeSumProductInference(gf) # Crée une instance d'inférence\n",
    "spi.addEvidence({\"C\":1,\"D\":0})\n",
    "\n",
    "spi.makeInference()         # effectue les calculs de tous les messages\n",
    "gnb.showPotential(spi.posterior(4))\n",
    "print(\"graph\")\n",
    "g=dot.graph_from_dot_data(spi.fg.show())\n",
    "SVG(g.create_svg())\n",
    "\n"
   ]
  },
  {
   "cell_type": "markdown",
   "metadata": {},
   "source": [
    "\\ \n",
    "\\\n",
    "\\\n",
    "\\\n",
    "LBPSumProductInference  TEST"
   ]
  },
  {
   "cell_type": "code",
   "execution_count": 37,
   "metadata": {},
   "outputs": [
    {
     "name": "stdout",
     "output_type": "stream",
     "text": [
      "Inference LBP dans PyAgrum:\n"
     ]
    },
    {
     "data": {
      "text/html": [
       "<table style=\"border:1px solid black;\"><tr style='border:1px solid black;color:black;background-color:#808080'><th colspan='2'><center>D</center></th></tr><tr><th style='border:1px solid black;border-bottom-style: double;color:black;background-color:#BBBBBB'><center>0</center></th><th style='border:1px solid black;border-bottom-style: double;color:black;background-color:#BBBBBB'><center>1</center></th></tr><tr><td style='color:black;background-color:#e19c64;text-align:right;'>0.2283</td><td style='color:black;background-color:#9ce164;text-align:right;'>0.7717</td></tr></table>"
      ],
      "text/plain": [
       "<IPython.core.display.HTML object>"
      ]
     },
     "metadata": {},
     "output_type": "display_data"
    }
   ],
   "source": [
    "# pour comparer\n",
    "print(\"Inference LBP dans PyAgrum:\")\n",
    "ie=gum.LoopyBeliefPropagation(bn)\n",
    "ie.makeInference()\n",
    "gnb.showPotential(ie.posterior(3))"
   ]
  },
  {
   "cell_type": "code",
   "execution_count": 38,
   "metadata": {},
   "outputs": [
    {
     "name": "stdout",
     "output_type": "stream",
     "text": [
      "Exo LBPSumproductInference:\n"
     ]
    },
    {
     "data": {
      "text/html": [
       "<table style=\"border:1px solid black;\"><tr style='border:1px solid black;color:black;background-color:#808080'><th colspan='2'><center>D</center></th></tr><tr><th style='border:1px solid black;border-bottom-style: double;color:black;background-color:#BBBBBB'><center>0</center></th><th style='border:1px solid black;border-bottom-style: double;color:black;background-color:#BBBBBB'><center>1</center></th></tr><tr><td style='color:black;background-color:#e19c64;text-align:right;'>0.2283</td><td style='color:black;background-color:#9ce164;text-align:right;'>0.7717</td></tr></table>"
      ],
      "text/plain": [
       "<IPython.core.display.HTML object>"
      ]
     },
     "metadata": {},
     "output_type": "display_data"
    }
   ],
   "source": [
    "%reload_ext autoreload\n",
    "%autoreload 2\n",
    "\n",
    "print(\"Exo LBPSumproductInference:\")\n",
    "spi=LBPSumProductInference(gf) # Crée une instance d'inférence\n",
    "spi.makeInference()         # effectue les calculs de tous les messages\n",
    "gnb.showPotential(spi.posterior(3))"
   ]
  },
  {
   "cell_type": "markdown",
   "metadata": {},
   "source": [
    "\\\n",
    "\\\n",
    "\\\n",
    "LBP  TEST"
   ]
  },
  {
   "cell_type": "code",
   "execution_count": 39,
   "metadata": {},
   "outputs": [
    {
     "name": "stdout",
     "output_type": "stream",
     "text": [
      "Inference LBP dans PyAgrum:\n"
     ]
    },
    {
     "data": {
      "text/html": [
       "<table style=\"border:1px solid black;\"><tr style='border:1px solid black;color:black;background-color:#808080'><th colspan='2'><center>E</center></th></tr><tr><th style='border:1px solid black;border-bottom-style: double;color:black;background-color:#BBBBBB'><center>0</center></th><th style='border:1px solid black;border-bottom-style: double;color:black;background-color:#BBBBBB'><center>1</center></th></tr><tr><td style='color:black;background-color:#cbb264;text-align:right;'>0.4056</td><td style='color:black;background-color:#b2cb64;text-align:right;'>0.5944</td></tr></table>"
      ],
      "text/plain": [
       "<IPython.core.display.HTML object>"
      ]
     },
     "metadata": {},
     "output_type": "display_data"
    }
   ],
   "source": [
    "# pour comparer\n",
    "print(\"Inference LBP dans PyAgrum:\")\n",
    "ie=gum.LoopyBeliefPropagation(bn)\n",
    "ie.addEvidence(2,1)\n",
    "ie.addEvidence(3,0)\n",
    "ie.makeInference()\n",
    "gnb.showPotential(ie.posterior(4))"
   ]
  },
  {
   "cell_type": "code",
   "execution_count": 40,
   "metadata": {},
   "outputs": [
    {
     "name": "stdout",
     "output_type": "stream",
     "text": [
      "Exo LBPSumproductInference:\n"
     ]
    },
    {
     "data": {
      "text/html": [
       "<table style=\"border:1px solid black;\"><tr style='border:1px solid black;color:black;background-color:#808080'><th colspan='2'><center>E</center></th></tr><tr><th style='border:1px solid black;border-bottom-style: double;color:black;background-color:#BBBBBB'><center>0</center></th><th style='border:1px solid black;border-bottom-style: double;color:black;background-color:#BBBBBB'><center>1</center></th></tr><tr><td style='color:black;background-color:#cbb264;text-align:right;'>0.4056</td><td style='color:black;background-color:#b2cb64;text-align:right;'>0.5944</td></tr></table>"
      ],
      "text/plain": [
       "<IPython.core.display.HTML object>"
      ]
     },
     "metadata": {},
     "output_type": "display_data"
    }
   ],
   "source": [
    "%reload_ext autoreload\n",
    "%autoreload 2\n",
    "\n",
    "print(\"Exo LBPSumproductInference:\")\n",
    "spi=LBPSumProductInference(gf) # Crée une instance d'inférence\n",
    "spi.addEvidence({\"C\":1,\"D\":0})\n",
    "spi.makeInference()         # effectue les calculs de tous les messages\n",
    "gnb.showPotential(spi.posterior(4))\n"
   ]
  },
  {
   "cell_type": "markdown",
   "metadata": {},
   "source": [
    "\\ \n",
    "\\\n",
    "\\\n",
    "\\\n",
    "TreeMaxProduct"
   ]
  },
  {
   "cell_type": "code",
   "execution_count": 41,
   "metadata": {},
   "outputs": [],
   "source": [
    "%reload_ext autoreload\n",
    "%autoreload 2"
   ]
  },
  {
   "cell_type": "code",
   "execution_count": 49,
   "metadata": {},
   "outputs": [
    {
     "data": {
      "image/svg+xml": [
       "<svg height=\"116pt\" viewBox=\"0.00 0.00 134.00 116.00\" width=\"134pt\" xmlns=\"http://www.w3.org/2000/svg\" xmlns:xlink=\"http://www.w3.org/1999/xlink\">\n",
       "<g class=\"graph\" id=\"graph0\" transform=\"scale(1 1) rotate(0) translate(4 112)\">\n",
       "<title>G</title>\n",
       "<!-- A -->\n",
       "<g class=\"node\" id=\"node1\"><title>A</title>\n",
       "<g id=\"a_node1\"><a xlink:title=\"(0) A\">\n",
       "<ellipse cx=\"27\" cy=\"-90\" fill=\"#404040\" rx=\"27\" ry=\"18\" stroke=\"black\"/>\n",
       "<text fill=\"white\" font-family=\"Times,serif\" font-size=\"14.00\" text-anchor=\"middle\" x=\"27\" y=\"-86.3\">A</text>\n",
       "</a>\n",
       "</g>\n",
       "</g>\n",
       "<!-- C -->\n",
       "<g class=\"node\" id=\"node2\"><title>C</title>\n",
       "<g id=\"a_node2\"><a xlink:title=\"(1) C\">\n",
       "<ellipse cx=\"63\" cy=\"-18\" fill=\"#404040\" rx=\"27\" ry=\"18\" stroke=\"black\"/>\n",
       "<text fill=\"white\" font-family=\"Times,serif\" font-size=\"14.00\" text-anchor=\"middle\" x=\"63\" y=\"-14.3\">C</text>\n",
       "</a>\n",
       "</g>\n",
       "</g>\n",
       "<!-- A&#45;&gt;C -->\n",
       "<g class=\"edge\" id=\"edge1\"><title>A-&gt;C</title>\n",
       "<g id=\"a_edge1\"><a xlink:title=\"(0, 1) : \">\n",
       "<path d=\"M35.3496,-72.7646C39.7115,-64.2831 45.1469,-53.7144 50.0413,-44.1974\" fill=\"none\" stroke=\"#4a4a4a\"/>\n",
       "<polygon fill=\"#4a4a4a\" points=\"53.2346,-45.6409 54.6957,-35.1473 47.0096,-42.4395 53.2346,-45.6409\" stroke=\"#4a4a4a\"/>\n",
       "</a>\n",
       "</g>\n",
       "</g>\n",
       "<!-- B -->\n",
       "<g class=\"node\" id=\"node3\"><title>B</title>\n",
       "<g id=\"a_node3\"><a xlink:title=\"(2) B\">\n",
       "<ellipse cx=\"99\" cy=\"-90\" fill=\"#404040\" rx=\"27\" ry=\"18\" stroke=\"black\"/>\n",
       "<text fill=\"white\" font-family=\"Times,serif\" font-size=\"14.00\" text-anchor=\"middle\" x=\"99\" y=\"-86.3\">B</text>\n",
       "</a>\n",
       "</g>\n",
       "</g>\n",
       "<!-- B&#45;&gt;C -->\n",
       "<g class=\"edge\" id=\"edge2\"><title>B-&gt;C</title>\n",
       "<g id=\"a_edge2\"><a xlink:title=\"(2, 1) : \">\n",
       "<path d=\"M90.6504,-72.7646C86.2885,-64.2831 80.8531,-53.7144 75.9587,-44.1974\" fill=\"none\" stroke=\"#4a4a4a\"/>\n",
       "<polygon fill=\"#4a4a4a\" points=\"78.9904,-42.4395 71.3043,-35.1473 72.7654,-45.6409 78.9904,-42.4395\" stroke=\"#4a4a4a\"/>\n",
       "</a>\n",
       "</g>\n",
       "</g>\n",
       "</g>\n",
       "</svg>"
      ],
      "text/plain": [
       "<IPython.core.display.SVG object>"
      ]
     },
     "metadata": {},
     "output_type": "display_data"
    },
    {
     "data": {
      "text/html": [
       "<table style=\"border-style: hidden; border-collapse: collapse;\" width=\"100%\"><tr><td style=\"border-top:hidden;border-bottom:hidden;\"><div align=\"center\" style=\"\"><table style=\"border:1px solid black;\">\n",
       "<tr style='border:1px solid black;color:black;background-color:#808080'><th colspan='2'><center>A</center></th></tr>\n",
       "<tr><th style='border:1px solid black;border-bottom-style: double;color:black;background-color:#BBBBBB'><center>0</center></th><th style='border:1px solid black;border-bottom-style: double;color:black;background-color:#BBBBBB'><center>1</center></th></tr>\n",
       "<tr><td style='color:black;background-color:#ff7f64;text-align:right;'>0.0000</td><td style='color:black;background-color:#7fff64;text-align:right;'>1.0000</td></tr>\n",
       "</table></div></td><td style=\"border-top:hidden;border-bottom:hidden;\"><div align=\"center\" style=\"\"><table style=\"border:1px solid black;\">\n",
       "<tr style='border:1px solid black;color:black;background-color:#808080'><th colspan='2'><center>B</center></th></tr>\n",
       "<tr><th style='border:1px solid black;border-bottom-style: double;color:black;background-color:#BBBBBB'><center>0</center></th><th style='border:1px solid black;border-bottom-style: double;color:black;background-color:#BBBBBB'><center>1</center></th></tr>\n",
       "<tr><td style='color:black;background-color:#ff7f64;text-align:right;'>0.0000</td><td style='color:black;background-color:#7fff64;text-align:right;'>1.0000</td></tr>\n",
       "</table></div></td><td style=\"border-top:hidden;border-bottom:hidden;\"><div align=\"center\" style=\"\"><table style=\"border:1px solid black;\">\n",
       "<tr><th colspan='2'></th><th colspan='2' style='border:1px solid black;color:black;background-color:#808080;'><center>C</center></th></tr>\n",
       "<tr><th style='border:1px solid black;color:black;background-color:#808080'><center>B</center></th><th style='border:1px solid black;color:black;background-color:#808080'><center>A</center></th><th style='border:1px solid black;border-bottom-style: double;color:black;background-color:#BBBBBB'><center>0</center></th><th style='border:1px solid black;border-bottom-style: double;color:black;background-color:#BBBBBB'><center>1</center></th></tr>\n",
       "<tr><th style='border:1px solid black;color:black;background-color:#BBBBBB;' rowspan = '2'><center>0</center></th><th style='border:1px solid black;color:black;background-color:#BBBBBB'><center>0</center></th><td style='color:black;background-color:#e09d64;text-align:right;'>0.2384</td><td style='color:black;background-color:#9de064;text-align:right;'>0.7616</td></tr>\n",
       "<tr><th style='border:1px solid black;color:black;background-color:#BBBBBB'><center>1</center></th><td style='color:black;background-color:#a0dd64;text-align:right;'>0.7420</td><td style='color:black;background-color:#dda064;text-align:right;'>0.2580</td></tr>\n",
       "<tr><th style='border:1px solid black;color:black;background-color:#BBBBBB;' rowspan = '2'><center>1</center></th><th style='border:1px solid black;color:black;background-color:#BBBBBB'><center>0</center></th><td style='color:black;background-color:#b8c564;text-align:right;'>0.5474</td><td style='color:black;background-color:#c5b864;text-align:right;'>0.4526</td></tr>\n",
       "<tr><th style='border:1px solid black;color:black;background-color:#BBBBBB'><center>1</center></th><td style='color:black;background-color:#e99464;text-align:right;'>0.1668</td><td style='color:black;background-color:#94e964;text-align:right;'>0.8332</td></tr>\n",
       "</table></div></td></tr><tr><td style=\"border-top:hidden;border-bottom:hidden;\"><div align=\"center\"><small>A</small></div></td><td style=\"border-top:hidden;border-bottom:hidden;\"><div align=\"center\"><small>B</small></div></td><td style=\"border-top:hidden;border-bottom:hidden;\"><div align=\"center\"><small>C</small></div></td></tr></table>"
      ],
      "text/plain": [
       "<IPython.core.display.HTML object>"
      ]
     },
     "metadata": {},
     "output_type": "display_data"
    }
   ],
   "source": [
    "bn=gum.fastBN(\"A->C<-B\");\n",
    "gnb.showBN(bn)\n",
    "bn.cpt(\"A\").fillWith([0,1]);\n",
    "bn.cpt(\"B\").fillWith([0,1]);\n",
    "bn.cpt(\"C\").fillWith([0.2384,0.7616,0.7420,0.2580,0.5474,0.4526,0.1668,0.8332])\n",
    "gnb.sideBySide(bn.cpt(\"A\"),bn.cpt(\"B\"),bn.cpt(\"C\"),\n",
    "              captions=['A','B','C'])"
   ]
  },
  {
   "cell_type": "code",
   "execution_count": 57,
   "metadata": {},
   "outputs": [
    {
     "data": {
      "image/svg+xml": [
       "<svg height=\"204pt\" viewBox=\"0.00 0.00 132.75 203.77\" width=\"133pt\" xmlns=\"http://www.w3.org/2000/svg\" xmlns:xlink=\"http://www.w3.org/1999/xlink\">\n",
       "<g class=\"graph\" id=\"graph0\" transform=\"scale(1 1) rotate(0) translate(51.0545 105.746)\">\n",
       "<title>FG</title>\n",
       "<polygon fill=\"white\" points=\"-51.0545,98.0233 -51.0545,-105.746 81.6983,-105.746 81.6983,98.0233 -51.0545,98.0233\" stroke=\"none\"/>\n",
       "<!-- A -->\n",
       "<g class=\"node\" id=\"node1\"><title>A</title>\n",
       "<polygon fill=\"coral\" points=\"3.20821,-59.6184 -12.7918,-59.6184 -12.7918,-38.6184 3.20821,-38.6184 3.20821,-59.6184\" stroke=\"coral\"/>\n",
       "<text font-family=\"Times,serif\" font-size=\"14.00\" text-anchor=\"middle\" x=\"-4.79179\" y=\"-45.4184\">A</text>\n",
       "</g>\n",
       "<!-- 3 -->\n",
       "<g class=\"node\" id=\"node4\"><title>3</title>\n",
       "<ellipse cx=\"-20.7912\" cy=\"-98.1461\" fill=\"burlywood\" rx=\"3.6\" ry=\"3.6\" stroke=\"burlywood\"/>\n",
       "</g>\n",
       "<!-- A&#45;&#45;3 -->\n",
       "<g class=\"edge\" id=\"edge4\"><title>A--3</title>\n",
       "<path d=\"M-8.34257,-59.9992C-11.9514,-71.0579 -17.3313,-87.544 -19.655,-94.6644\" fill=\"none\" stroke=\"black\"/>\n",
       "</g>\n",
       "<!-- 4 -->\n",
       "<g class=\"node\" id=\"node5\"><title>4</title>\n",
       "<ellipse cx=\"14.7449\" cy=\"1.75548\" fill=\"burlywood\" rx=\"3.6\" ry=\"3.6\" stroke=\"burlywood\"/>\n",
       "</g>\n",
       "<!-- A&#45;&#45;4 -->\n",
       "<g class=\"edge\" id=\"edge3\"><title>A--4</title>\n",
       "<path d=\"M-0.648564,-38.3294C3.74215,-26.8958 10.4329,-9.4729 13.3281,-1.93396\" fill=\"none\" stroke=\"black\"/>\n",
       "</g>\n",
       "<!-- C -->\n",
       "<g class=\"node\" id=\"node2\"><title>C</title>\n",
       "<polygon fill=\"coral\" points=\"77.6983,-2.55261 61.6983,-2.55261 61.6983,18.4474 77.6983,18.4474 77.6983,-2.55261\" stroke=\"coral\"/>\n",
       "<text font-family=\"Times,serif\" font-size=\"14.00\" text-anchor=\"middle\" x=\"69.6983\" y=\"11.6474\">C</text>\n",
       "</g>\n",
       "<!-- C&#45;&#45;4 -->\n",
       "<g class=\"edge\" id=\"edge1\"><title>C--4</title>\n",
       "<path d=\"M61.5897,7.03375C49.528,5.67468 27.3346,3.17404 18.5085,2.17955\" fill=\"none\" stroke=\"black\"/>\n",
       "</g>\n",
       "<!-- B -->\n",
       "<g class=\"node\" id=\"node3\"><title>B</title>\n",
       "<polygon fill=\"coral\" points=\"-7.40574,36.6383 -23.4057,36.6383 -23.4057,57.6383 -7.40574,57.6383 -7.40574,36.6383\" stroke=\"coral\"/>\n",
       "<text font-family=\"Times,serif\" font-size=\"14.00\" text-anchor=\"middle\" x=\"-15.4057\" y=\"50.8383\">B</text>\n",
       "</g>\n",
       "<!-- B&#45;&#45;4 -->\n",
       "<g class=\"edge\" id=\"edge5\"><title>B--4</title>\n",
       "<path d=\"M-8.4128,36.6125C-1.59353,26.3481 8.35834,11.3685 12.6487,4.91068\" fill=\"none\" stroke=\"black\"/>\n",
       "</g>\n",
       "<!-- 5 -->\n",
       "<g class=\"node\" id=\"node6\"><title>5</title>\n",
       "<ellipse cx=\"-43.4545\" cy=\"90.4233\" fill=\"burlywood\" rx=\"3.6\" ry=\"3.6\" stroke=\"burlywood\"/>\n",
       "</g>\n",
       "<!-- B&#45;&#45;5 -->\n",
       "<g class=\"edge\" id=\"edge2\"><title>B--5</title>\n",
       "<path d=\"M-22.4836,58.061C-28.7155,67.6781 -37.3957,81.0733 -41.3463,87.1699\" fill=\"none\" stroke=\"black\"/>\n",
       "</g>\n",
       "</g>\n",
       "</svg>"
      ],
      "text/plain": [
       "<IPython.core.display.SVG object>"
      ]
     },
     "execution_count": 57,
     "metadata": {},
     "output_type": "execute_result"
    }
   ],
   "source": [
    "gf = FactorGraph();\n",
    "gf.build(bn);\n",
    "g=dot.graph_from_dot_data(spi.fg.show())\n",
    "SVG(g.create_svg())"
   ]
  },
  {
   "cell_type": "code",
   "execution_count": null,
   "metadata": {},
   "outputs": [],
   "source": [
    "%reload_ext autoreload\n",
    "%autoreload 2\n",
    "print(\"TreeMax\");\n",
    "spi=TreeMaxProductInference(gf) # Crée une instance d'inférence\n",
    "spi.makeInference()         # effectue les calculs de tous les messages\n",
    "gnb.showPotential(spi.posterior(3))"
   ]
  },
  {
   "cell_type": "code",
   "execution_count": 60,
   "metadata": {},
   "outputs": [
    {
     "name": "stdout",
     "output_type": "stream",
     "text": [
      "TreeMax\n",
      "node 0 envoie un message de type **<class 'list'>** au node_factor 4\n",
      "node 2 envoie un message de type **<class 'list'>** au node_factor 4\n",
      "type of message  <class 'pyAgrum.pyAgrum.Potential'> type of dictdict <class 'list'>\n",
      "node_factor 4 envoie un message de type **<class 'pyAgrum.pyAgrum.Potential'>** au node_variable 0\n"
     ]
    },
    {
     "ename": "TypeError",
     "evalue": "can't multiply sequence by non-int of type 'Potential'",
     "output_type": "error",
     "traceback": [
      "\u001b[0;31m---------------------------------------------------------------------------\u001b[0m",
      "\u001b[0;31mTypeError\u001b[0m                                 Traceback (most recent call last)",
      "\u001b[0;32m<ipython-input-60-5221493b059b>\u001b[0m in \u001b[0;36m<module>\u001b[0;34m()\u001b[0m\n\u001b[1;32m      4\u001b[0m \u001b[0mprint\u001b[0m\u001b[0;34m(\u001b[0m\u001b[0;34m\"TreeMax\"\u001b[0m\u001b[0;34m)\u001b[0m\u001b[0;34m;\u001b[0m\u001b[0;34m\u001b[0m\u001b[0;34m\u001b[0m\u001b[0m\n\u001b[1;32m      5\u001b[0m \u001b[0mspi\u001b[0m\u001b[0;34m=\u001b[0m\u001b[0mTreeMaxProductInference\u001b[0m\u001b[0;34m(\u001b[0m\u001b[0mgf\u001b[0m\u001b[0;34m)\u001b[0m \u001b[0;31m# Crée une instance d'inférence\u001b[0m\u001b[0;34m\u001b[0m\u001b[0;34m\u001b[0m\u001b[0m\n\u001b[0;32m----> 6\u001b[0;31m \u001b[0mspi\u001b[0m\u001b[0;34m.\u001b[0m\u001b[0mmakeInference\u001b[0m\u001b[0;34m(\u001b[0m\u001b[0;34m)\u001b[0m         \u001b[0;31m# effectue les calculs de tous les messages\u001b[0m\u001b[0;34m\u001b[0m\u001b[0;34m\u001b[0m\u001b[0m\n\u001b[0m\u001b[1;32m      7\u001b[0m \u001b[0mgnb\u001b[0m\u001b[0;34m.\u001b[0m\u001b[0mshowPotential\u001b[0m\u001b[0;34m(\u001b[0m\u001b[0mspi\u001b[0m\u001b[0;34m.\u001b[0m\u001b[0mposterior\u001b[0m\u001b[0;34m(\u001b[0m\u001b[0;36m3\u001b[0m\u001b[0;34m)\u001b[0m\u001b[0;34m)\u001b[0m\u001b[0;34m\u001b[0m\u001b[0;34m\u001b[0m\u001b[0m\n",
      "\u001b[0;32m/users/nfs/Etu0/3503860/Documents/madi/MADI/maxproduct.py\u001b[0m in \u001b[0;36mmakeInference\u001b[0;34m(self)\u001b[0m\n\u001b[1;32m    136\u001b[0m             \u001b[0;31m# si le noeud est de type \"factor\"\u001b[0m\u001b[0;34m\u001b[0m\u001b[0;34m\u001b[0m\u001b[0;34m\u001b[0m\u001b[0m\n\u001b[1;32m    137\u001b[0m             \u001b[0;32mif\u001b[0m \u001b[0mself\u001b[0m\u001b[0;34m.\u001b[0m\u001b[0mfg\u001b[0m\u001b[0;34m.\u001b[0m\u001b[0mnode_type\u001b[0m\u001b[0;34m[\u001b[0m\u001b[0mnode_id\u001b[0m\u001b[0;34m]\u001b[0m \u001b[0;34m==\u001b[0m \u001b[0;34m\"factor\"\u001b[0m\u001b[0;34m:\u001b[0m\u001b[0;34m\u001b[0m\u001b[0;34m\u001b[0m\u001b[0m\n\u001b[0;32m--> 138\u001b[0;31m                 \u001b[0mself\u001b[0m\u001b[0;34m.\u001b[0m\u001b[0mfactorMessage\u001b[0m\u001b[0;34m(\u001b[0m\u001b[0mnode_id\u001b[0m\u001b[0;34m)\u001b[0m\u001b[0;34m;\u001b[0m\u001b[0;34m\u001b[0m\u001b[0;34m\u001b[0m\u001b[0m\n\u001b[0m\u001b[1;32m    139\u001b[0m         \u001b[0;31m# message vers les feuilles\u001b[0m\u001b[0;34m\u001b[0m\u001b[0;34m\u001b[0m\u001b[0;34m\u001b[0m\u001b[0m\n\u001b[1;32m    140\u001b[0m         \u001b[0;32mfor\u001b[0m \u001b[0mnode_id\u001b[0m \u001b[0;32min\u001b[0m \u001b[0mreversed\u001b[0m\u001b[0;34m(\u001b[0m\u001b[0mself\u001b[0m\u001b[0;34m.\u001b[0m\u001b[0morder\u001b[0m\u001b[0;34m)\u001b[0m\u001b[0;34m:\u001b[0m\u001b[0;34m\u001b[0m\u001b[0;34m\u001b[0m\u001b[0m\n",
      "\u001b[0;32m/users/nfs/Etu0/3503860/Documents/madi/MADI/maxproduct.py\u001b[0m in \u001b[0;36mfactorMessage\u001b[0;34m(self, node_id)\u001b[0m\n\u001b[1;32m     82\u001b[0m                     \u001b[0;32mif\u001b[0m \u001b[0mdebug\u001b[0m\u001b[0;34m:\u001b[0m\u001b[0;34m\u001b[0m\u001b[0;34m\u001b[0m\u001b[0m\n\u001b[1;32m     83\u001b[0m                         \u001b[0mprint\u001b[0m\u001b[0;34m(\u001b[0m\u001b[0;34m\"node_factor {} envoie un message de type **{}** au node_variable {}\"\u001b[0m\u001b[0;34m.\u001b[0m\u001b[0mformat\u001b[0m\u001b[0;34m(\u001b[0m\u001b[0mnode_id\u001b[0m\u001b[0;34m,\u001b[0m\u001b[0mtype\u001b[0m\u001b[0;34m(\u001b[0m\u001b[0mmessage\u001b[0m\u001b[0;34m)\u001b[0m\u001b[0;34m,\u001b[0m\u001b[0mnode_id2\u001b[0m\u001b[0;34m)\u001b[0m\u001b[0;34m)\u001b[0m\u001b[0;34m\u001b[0m\u001b[0;34m\u001b[0m\u001b[0m\n\u001b[0;32m---> 84\u001b[0;31m                     \u001b[0mmessage\u001b[0m \u001b[0;34m=\u001b[0m \u001b[0mmessage\u001b[0m \u001b[0;34m*\u001b[0m \u001b[0mself\u001b[0m\u001b[0;34m.\u001b[0m\u001b[0mdict_dict_cpt\u001b[0m\u001b[0;34m[\u001b[0m\u001b[0mnode_id\u001b[0m\u001b[0;34m]\u001b[0m\u001b[0;34m[\u001b[0m\u001b[0mnode_id3\u001b[0m\u001b[0;34m]\u001b[0m\u001b[0;34m;\u001b[0m\u001b[0;34m\u001b[0m\u001b[0;34m\u001b[0m\u001b[0m\n\u001b[0m\u001b[1;32m     85\u001b[0m             \u001b[0;32mif\u001b[0m \u001b[0;32mnot\u001b[0m\u001b[0;34m(\u001b[0m\u001b[0mflag\u001b[0m\u001b[0;34m)\u001b[0m\u001b[0;34m:\u001b[0m\u001b[0;34m\u001b[0m\u001b[0;34m\u001b[0m\u001b[0m\n\u001b[1;32m     86\u001b[0m                 \u001b[0;32mcontinue\u001b[0m\u001b[0;34m;\u001b[0m\u001b[0;34m\u001b[0m\u001b[0;34m\u001b[0m\u001b[0m\n",
      "\u001b[0;31mTypeError\u001b[0m: can't multiply sequence by non-int of type 'Potential'"
     ]
    }
   ],
   "source": [
    "\n",
    "%reload_ext autoreload\n",
    "%autoreload 2\n",
    "print(\"TreeMax\");\n",
    "spi=TreeMaxProductInference(gf) # Crée une instance d'inférence\n",
    "spi.makeInference()         # effectue les calculs de tous les messages\n",
    "gnb.showPotential(spi.posterior(3))"
   ]
  },
  {
   "cell_type": "code",
   "execution_count": null,
   "metadata": {},
   "outputs": [],
   "source": [
    "\n",
    "\n",
    "\n",
    "\n",
    "\n",
    "\n"
   ]
  }
 ],
 "metadata": {
  "kernelspec": {
   "display_name": "Python 3",
   "language": "python",
   "name": "python3"
  },
  "language_info": {
   "codemirror_mode": {
    "name": "ipython",
    "version": 3
   },
   "file_extension": ".py",
   "mimetype": "text/x-python",
   "name": "python",
   "nbconvert_exporter": "python",
   "pygments_lexer": "ipython3",
   "version": "3.6.9"
  }
 },
 "nbformat": 4,
 "nbformat_minor": 2
}
