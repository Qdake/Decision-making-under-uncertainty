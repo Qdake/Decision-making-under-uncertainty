{
 "cells": [
  {
   "cell_type": "markdown",
   "metadata": {},
   "source": [
    "# Compte rendu du projet MADI\n",
    "\n",
    "\n",
    "## Création de la classe Factor Graph :\n",
    "\n",
    "Dans cette partie nous avons créé une classe Factor Graph, cette classe représente un **Factor Graph** , et qui est initilisé à travers un objet de type **Réseau Bayésien**, cette classe contient des noeuds de type **variable** ainsi, que des noeuds de type **Factor** pour stocker les tableaux de potentiel.\n"
   ]
  },
  {
   "cell_type": "code",
   "execution_count": 1,
   "metadata": {},
   "outputs": [],
   "source": [
    "%reload_ext autoreload\n",
    "%autoreload 2\n",
    "from projet_madi import *\n",
    "import pyAgrum as gum\n",
    "import pyAgrum.lib.notebook as gnb\n",
    "import pydotplus as dot\n",
    "from IPython.display import SVG\n",
    "from projet_madi import *\n",
    "import numpy as np\n",
    "from maxproduct import *"
   ]
  },
  {
   "cell_type": "code",
   "execution_count": null,
   "metadata": {},
   "outputs": [],
   "source": []
  },
  {
   "cell_type": "code",
   "execution_count": 2,
   "metadata": {},
   "outputs": [
    {
     "data": {
      "text/plain": [
       "'gnb.showPotential(bn.cpt(3))\\n#cpt = gum.Potential(bn.cpt(3));\\n#cpt.fillWith(0);\\n#cpt[0] = 1;\\n#gnb.showPotential(cpt)\\n#print(bn.cpt(3).argmax())\\nprint(type(bn.cpt(3).argmax()))\\nprint(type(bn.cpt(3).argmax()[0]))\\ngnb.sideBySide(bn.cpt(0),bn.cpt(0)*bn.cpt(0),captions=[\"A\",\"A*A\"])\\ngnb.sideBySide(bn.cpt(0) + bn.cpt(2),bn.cpt(2), captions = [\"A + B\",\"1\"])\\ngnb.sideBySide((bn.cpt(0) + bn.cpt(2)).normalize())\\ngnb.sideBySide(np.log(bn.cpt(0).flatten()))'"
      ]
     },
     "execution_count": 2,
     "metadata": {},
     "output_type": "execute_result"
    }
   ],
   "source": [
    "\"\"\"gnb.showPotential(bn.cpt(3))\n",
    "#cpt = gum.Potential(bn.cpt(3));\n",
    "#cpt.fillWith(0);\n",
    "#cpt[0] = 1;\n",
    "#gnb.showPotential(cpt)\n",
    "#print(bn.cpt(3).argmax())\n",
    "print(type(bn.cpt(3).argmax()))\n",
    "print(type(bn.cpt(3).argmax()[0]))\n",
    "gnb.sideBySide(bn.cpt(0),bn.cpt(0)*bn.cpt(0),captions=[\"A\",\"A*A\"])\n",
    "gnb.sideBySide(bn.cpt(0) + bn.cpt(2),bn.cpt(2), captions = [\"A + B\",\"1\"])\n",
    "gnb.sideBySide((bn.cpt(0) + bn.cpt(2)).normalize())\n",
    "gnb.sideBySide(np.log(bn.cpt(0).flatten()))\"\"\""
   ]
  },
  {
   "cell_type": "markdown",
   "metadata": {},
   "source": [
    "### Factor Graph"
   ]
  },
  {
   "cell_type": "code",
   "execution_count": 3,
   "metadata": {},
   "outputs": [
    {
     "data": {
      "image/svg+xml": [
       "<svg height=\"188pt\" viewBox=\"0.00 0.00 134.00 188.00\" width=\"134pt\" xmlns=\"http://www.w3.org/2000/svg\" xmlns:xlink=\"http://www.w3.org/1999/xlink\">\n",
       "<g class=\"graph\" id=\"graph0\" transform=\"scale(1 1) rotate(0) translate(4 184)\">\n",
       "<title>G</title>\n",
       "<!-- A -->\n",
       "<g class=\"node\" id=\"node1\"><title>A</title>\n",
       "<g id=\"a_node1\"><a xlink:title=\"(0) A\">\n",
       "<ellipse cx=\"27\" cy=\"-162\" fill=\"#404040\" rx=\"27\" ry=\"18\" stroke=\"black\"/>\n",
       "<text fill=\"white\" font-family=\"Times,serif\" font-size=\"14.00\" text-anchor=\"middle\" x=\"27\" y=\"-158.3\">A</text>\n",
       "</a>\n",
       "</g>\n",
       "</g>\n",
       "<!-- B -->\n",
       "<g class=\"node\" id=\"node2\"><title>B</title>\n",
       "<g id=\"a_node2\"><a xlink:title=\"(1) B\">\n",
       "<ellipse cx=\"27\" cy=\"-90\" fill=\"#404040\" rx=\"27\" ry=\"18\" stroke=\"black\"/>\n",
       "<text fill=\"white\" font-family=\"Times,serif\" font-size=\"14.00\" text-anchor=\"middle\" x=\"27\" y=\"-86.3\">B</text>\n",
       "</a>\n",
       "</g>\n",
       "</g>\n",
       "<!-- A&#45;&gt;B -->\n",
       "<g class=\"edge\" id=\"edge1\"><title>A-&gt;B</title>\n",
       "<g id=\"a_edge1\"><a xlink:title=\"(0, 1) : \">\n",
       "<path d=\"M27,-143.697C27,-135.983 27,-126.712 27,-118.112\" fill=\"none\" stroke=\"#4a4a4a\"/>\n",
       "<polygon fill=\"#4a4a4a\" points=\"30.5001,-118.104 27,-108.104 23.5001,-118.104 30.5001,-118.104\" stroke=\"#4a4a4a\"/>\n",
       "</a>\n",
       "</g>\n",
       "</g>\n",
       "<!-- E -->\n",
       "<g class=\"node\" id=\"node5\"><title>E</title>\n",
       "<g id=\"a_node5\"><a xlink:title=\"(4) E\">\n",
       "<ellipse cx=\"27\" cy=\"-18\" fill=\"#404040\" rx=\"27\" ry=\"18\" stroke=\"black\"/>\n",
       "<text fill=\"white\" font-family=\"Times,serif\" font-size=\"14.00\" text-anchor=\"middle\" x=\"27\" y=\"-14.3\">E</text>\n",
       "</a>\n",
       "</g>\n",
       "</g>\n",
       "<!-- B&#45;&gt;E -->\n",
       "<g class=\"edge\" id=\"edge2\"><title>B-&gt;E</title>\n",
       "<g id=\"a_edge2\"><a xlink:title=\"(1, 4) : \">\n",
       "<path d=\"M27,-71.6966C27,-63.9827 27,-54.7125 27,-46.1124\" fill=\"none\" stroke=\"#4a4a4a\"/>\n",
       "<polygon fill=\"#4a4a4a\" points=\"30.5001,-46.1043 27,-36.1043 23.5001,-46.1044 30.5001,-46.1043\" stroke=\"#4a4a4a\"/>\n",
       "</a>\n",
       "</g>\n",
       "</g>\n",
       "<!-- C -->\n",
       "<g class=\"node\" id=\"node3\"><title>C</title>\n",
       "<g id=\"a_node3\"><a xlink:title=\"(2) C\">\n",
       "<ellipse cx=\"99\" cy=\"-162\" fill=\"#404040\" rx=\"27\" ry=\"18\" stroke=\"black\"/>\n",
       "<text fill=\"white\" font-family=\"Times,serif\" font-size=\"14.00\" text-anchor=\"middle\" x=\"99\" y=\"-158.3\">C</text>\n",
       "</a>\n",
       "</g>\n",
       "</g>\n",
       "<!-- C&#45;&gt;B -->\n",
       "<g class=\"edge\" id=\"edge4\"><title>C-&gt;B</title>\n",
       "<g id=\"a_edge4\"><a xlink:title=\"(2, 1) : \">\n",
       "<path d=\"M84.4297,-146.834C74.2501,-136.938 60.4761,-123.546 48.9694,-112.359\" fill=\"none\" stroke=\"#4a4a4a\"/>\n",
       "<polygon fill=\"#4a4a4a\" points=\"51.4055,-109.846 41.7957,-105.385 46.5259,-114.865 51.4055,-109.846\" stroke=\"#4a4a4a\"/>\n",
       "</a>\n",
       "</g>\n",
       "</g>\n",
       "<!-- D -->\n",
       "<g class=\"node\" id=\"node4\"><title>D</title>\n",
       "<g id=\"a_node4\"><a xlink:title=\"(3) D\">\n",
       "<ellipse cx=\"99\" cy=\"-90\" fill=\"#404040\" rx=\"27\" ry=\"18\" stroke=\"black\"/>\n",
       "<text fill=\"white\" font-family=\"Times,serif\" font-size=\"14.00\" text-anchor=\"middle\" x=\"99\" y=\"-86.3\">D</text>\n",
       "</a>\n",
       "</g>\n",
       "</g>\n",
       "<!-- C&#45;&gt;D -->\n",
       "<g class=\"edge\" id=\"edge3\"><title>C-&gt;D</title>\n",
       "<g id=\"a_edge3\"><a xlink:title=\"(2, 3) : \">\n",
       "<path d=\"M99,-143.697C99,-135.983 99,-126.712 99,-118.112\" fill=\"none\" stroke=\"#4a4a4a\"/>\n",
       "<polygon fill=\"#4a4a4a\" points=\"102.5,-118.104 99,-108.104 95.5001,-118.104 102.5,-118.104\" stroke=\"#4a4a4a\"/>\n",
       "</a>\n",
       "</g>\n",
       "</g>\n",
       "</g>\n",
       "</svg>"
      ],
      "text/plain": [
       "<IPython.core.display.SVG object>"
      ]
     },
     "metadata": {},
     "output_type": "display_data"
    },
    {
     "data": {
      "image/svg+xml": [
       "<svg height=\"277pt\" viewBox=\"0.00 0.00 273.82 277.17\" width=\"274pt\" xmlns=\"http://www.w3.org/2000/svg\" xmlns:xlink=\"http://www.w3.org/1999/xlink\">\n",
       "<g class=\"graph\" id=\"graph0\" transform=\"scale(1 1) rotate(0) translate(106.05 149.285)\">\n",
       "<title>FG</title>\n",
       "<polygon fill=\"white\" points=\"-106.05,127.886 -106.05,-149.285 167.772,-149.285 167.772,127.886 -106.05,127.886\" stroke=\"none\"/>\n",
       "<!-- A -->\n",
       "<g class=\"node\" id=\"node1\"><title>A</title>\n",
       "<polygon fill=\"coral\" points=\"-16.6597,60.3327 -32.6597,60.3327 -32.6597,81.3327 -16.6597,81.3327 -16.6597,60.3327\" stroke=\"coral\"/>\n",
       "<text font-family=\"Times,serif\" font-size=\"14.00\" text-anchor=\"middle\" x=\"-24.6597\" y=\"74.5327\">A</text>\n",
       "</g>\n",
       "<!-- 5 -->\n",
       "<g class=\"node\" id=\"node6\"><title>5</title>\n",
       "<ellipse cx=\"-44.4711\" cy=\"120.286\" fill=\"burlywood\" rx=\"3.6\" ry=\"3.6\" stroke=\"burlywood\"/>\n",
       "</g>\n",
       "<!-- A&#45;&#45;5 -->\n",
       "<g class=\"edge\" id=\"edge7\"><title>A--5</title>\n",
       "<path d=\"M-29.0565,81.808C-33.5251,92.9626 -40.1869,109.592 -43.0642,116.774\" fill=\"none\" stroke=\"black\"/>\n",
       "</g>\n",
       "<!-- 6 -->\n",
       "<g class=\"node\" id=\"node7\"><title>6</title>\n",
       "<ellipse cx=\"-4.79266\" cy=\"17.0333\" fill=\"burlywood\" rx=\"3.6\" ry=\"3.6\" stroke=\"burlywood\"/>\n",
       "</g>\n",
       "<!-- A&#45;&#45;6 -->\n",
       "<g class=\"edge\" id=\"edge6\"><title>A--6</title>\n",
       "<path d=\"M-20.7346,60.2037C-16.2113,47.9546 -9.02546,28.4956 -6.09811,20.5684\" fill=\"none\" stroke=\"black\"/>\n",
       "</g>\n",
       "<!-- B -->\n",
       "<g class=\"node\" id=\"node2\"><title>B</title>\n",
       "<polygon fill=\"coral\" points=\"59.8307,6.03746 43.8307,6.03746 43.8307,27.0375 59.8307,27.0375 59.8307,6.03746\" stroke=\"coral\"/>\n",
       "<text font-family=\"Times,serif\" font-size=\"14.00\" text-anchor=\"middle\" x=\"51.8307\" y=\"20.2375\">B</text>\n",
       "</g>\n",
       "<!-- B&#45;&#45;6 -->\n",
       "<g class=\"edge\" id=\"edge9\"><title>B--6</title>\n",
       "<path d=\"M43.4757,16.6106C30.9244,16.7205 7.72584,16.9236 -1.18069,17.0016\" fill=\"none\" stroke=\"black\"/>\n",
       "</g>\n",
       "<!-- 9 -->\n",
       "<g class=\"node\" id=\"node10\"><title>9</title>\n",
       "<ellipse cx=\"104.693\" cy=\"20.8614\" fill=\"burlywood\" rx=\"3.6\" ry=\"3.6\" stroke=\"burlywood\"/>\n",
       "</g>\n",
       "<!-- B&#45;&#45;9 -->\n",
       "<g class=\"edge\" id=\"edge8\"><title>B--9</title>\n",
       "<path d=\"M60.0905,17.2131C71.7057,18.1632 92.3954,19.8555 100.891,20.5504\" fill=\"none\" stroke=\"black\"/>\n",
       "</g>\n",
       "<!-- C -->\n",
       "<g class=\"node\" id=\"node3\"><title>C</title>\n",
       "<polygon fill=\"coral\" points=\"-34.141,-38.5418 -50.141,-38.5418 -50.141,-17.5418 -34.141,-17.5418 -34.141,-38.5418\" stroke=\"coral\"/>\n",
       "<text font-family=\"Times,serif\" font-size=\"14.00\" text-anchor=\"middle\" x=\"-42.141\" y=\"-24.3418\">C</text>\n",
       "</g>\n",
       "<!-- C&#45;&#45;6 -->\n",
       "<g class=\"edge\" id=\"edge2\"><title>C--6</title>\n",
       "<path d=\"M-33.8522,-18.0381C-25.256,-7.66357 -12.3548,7.90661 -7.1219,14.2221\" fill=\"none\" stroke=\"black\"/>\n",
       "</g>\n",
       "<!-- 7 -->\n",
       "<g class=\"node\" id=\"node8\"><title>7</title>\n",
       "<ellipse cx=\"-98.4505\" cy=\"-21.385\" fill=\"burlywood\" rx=\"3.6\" ry=\"3.6\" stroke=\"burlywood\"/>\n",
       "</g>\n",
       "<!-- C&#45;&#45;7 -->\n",
       "<g class=\"edge\" id=\"edge1\"><title>C--7</title>\n",
       "<path d=\"M-50.4497,-27.0595C-62.9315,-25.584 -86.0014,-22.8567 -94.8585,-21.8097\" fill=\"none\" stroke=\"black\"/>\n",
       "</g>\n",
       "<!-- 8 -->\n",
       "<g class=\"node\" id=\"node9\"><title>8</title>\n",
       "<ellipse cx=\"-42.4745\" cy=\"-83.857\" fill=\"burlywood\" rx=\"3.6\" ry=\"3.6\" stroke=\"burlywood\"/>\n",
       "</g>\n",
       "<!-- C&#45;&#45;8 -->\n",
       "<g class=\"edge\" id=\"edge4\"><title>C--8</title>\n",
       "<path d=\"M-42.2053,-38.8035C-42.281,-51.4748 -42.4027,-71.8457 -42.4524,-80.1516\" fill=\"none\" stroke=\"black\"/>\n",
       "</g>\n",
       "<!-- D -->\n",
       "<g class=\"node\" id=\"node4\"><title>D</title>\n",
       "<polygon fill=\"coral\" points=\"-47.8063,-145.285 -63.8063,-145.285 -63.8063,-124.285 -47.8063,-124.285 -47.8063,-145.285\" stroke=\"coral\"/>\n",
       "<text font-family=\"Times,serif\" font-size=\"14.00\" text-anchor=\"middle\" x=\"-55.8063\" y=\"-131.085\">D</text>\n",
       "</g>\n",
       "<!-- D&#45;&#45;8 -->\n",
       "<g class=\"edge\" id=\"edge5\"><title>D--8</title>\n",
       "<path d=\"M-52.979,-123.985C-49.9828,-112.539 -45.417,-95.0974 -43.4413,-87.5504\" fill=\"none\" stroke=\"black\"/>\n",
       "</g>\n",
       "<!-- E -->\n",
       "<g class=\"node\" id=\"node5\"><title>E</title>\n",
       "<polygon fill=\"coral\" points=\"163.772,12.0184 148.772,12.0184 148.772,33.0184 163.772,33.0184 163.772,12.0184\" stroke=\"coral\"/>\n",
       "<text font-family=\"Times,serif\" font-size=\"14.00\" text-anchor=\"middle\" x=\"156.272\" y=\"26.2184\">E</text>\n",
       "</g>\n",
       "<!-- E&#45;&#45;9 -->\n",
       "<g class=\"edge\" id=\"edge3\"><title>E--9</title>\n",
       "<path d=\"M148.661,22.2739C137.452,21.9138 116.921,21.2542 108.475,20.9829\" fill=\"none\" stroke=\"black\"/>\n",
       "</g>\n",
       "</g>\n",
       "</svg>"
      ],
      "text/plain": [
       "<IPython.core.display.SVG object>"
      ]
     },
     "execution_count": 3,
     "metadata": {},
     "output_type": "execute_result"
    }
   ],
   "source": [
    "# construction de bn en forme d'un arbre\n",
    "bn_tree=gum.fastBN(\"A->B<-C->D->E<-B\")\n",
    "bn_tree.eraseArc(\"D\",\"E\")\n",
    "gnb.showBN(bn_tree)\n",
    "# construction de factor graph\n",
    "gf_tree = FactorGraph();\n",
    "gf_tree.build(bn_tree);\n",
    "# show\n",
    "g=dot.graph_from_dot_data(gf_tree.show())\n",
    "SVG(g.create_svg())"
   ]
  },
  {
   "cell_type": "code",
   "execution_count": 4,
   "metadata": {},
   "outputs": [],
   "source": [
    "#import pyAgrum as gum\n",
    "#import pyAgrum.lib.notebook as gnb\n",
    "\n",
    "#a,b,c=[gum.LabelizedVariable(s,s,2) for s in \"abc\"]\n",
    "#p1=gum.Potential().add(a).add(b).fillWith([1,2,3,4]).normalize()\n",
    "#p2=gum.Potential().add(b).add(c).fillWith([4,5,2,3]).normalize()\n",
    "\n",
    "#gnb.sideBySide(p1,p2,p1+p2,\n",
    "#              captions=['p1','p2','p1+p2'])"
   ]
  },
  {
   "cell_type": "markdown",
   "metadata": {},
   "source": [
    "### TreeSumProductInference"
   ]
  },
  {
   "cell_type": "code",
   "execution_count": 6,
   "metadata": {},
   "outputs": [
    {
     "data": {
      "text/html": [
       "<table style=\"border-style: hidden; border-collapse: collapse;\" width=\"100%\"><tr><td style=\"border-top:hidden;border-bottom:hidden;\"><div align=\"center\" style=\"\"><table style=\"border:1px solid black;\">\n",
       "<tr style='border:1px solid black;color:black;background-color:#808080'><th colspan='2'><center>D</center></th></tr>\n",
       "<tr><th style='border:1px solid black;border-bottom-style: double;color:black;background-color:#BBBBBB'><center>0</center></th><th style='border:1px solid black;border-bottom-style: double;color:black;background-color:#BBBBBB'><center>1</center></th></tr>\n",
       "<tr><td style='color:black;background-color:#bac364;text-align:right;'>0.5338</td><td style='color:black;background-color:#c3ba64;text-align:right;'>0.4662</td></tr>\n",
       "</table></div></td><td style=\"border-top:hidden;border-bottom:hidden;\"><div align=\"center\" style=\"\"><table style=\"border:1px solid black;\">\n",
       "<tr style='border:1px solid black;color:black;background-color:#808080'><th colspan='2'><center>D</center></th></tr>\n",
       "<tr><th style='border:1px solid black;border-bottom-style: double;color:black;background-color:#BBBBBB'><center>0</center></th><th style='border:1px solid black;border-bottom-style: double;color:black;background-color:#BBBBBB'><center>1</center></th></tr>\n",
       "<tr><td style='color:black;background-color:#bac364;text-align:right;'>0.5338</td><td style='color:black;background-color:#c3ba64;text-align:right;'>0.4662</td></tr>\n",
       "</table></div></td></tr><tr><td style=\"border-top:hidden;border-bottom:hidden;\"><div align=\"center\"><small>TreeSumProductInference</small></div></td><td style=\"border-top:hidden;border-bottom:hidden;\"><div align=\"center\"><small>bn.LazyPropagation</small></div></td></tr></table>"
      ],
      "text/plain": [
       "<IPython.core.display.HTML object>"
      ]
     },
     "metadata": {},
     "output_type": "display_data"
    }
   ],
   "source": [
    "%reload_ext autoreload\n",
    "%autoreload 2\n",
    "\n",
    "# TreeSumProductInference\n",
    "spi=TreeSumProductInference(gf_tree) # Crée une instance d'inférence\n",
    "spi.makeInference()         # effectue les calculs de tous les messages\n",
    "\n",
    "# LazyPropagation\n",
    "ie=gum.LazyPropagation(bn_tree)\n",
    "ie.makeInference()\n",
    "\n",
    "# affichage\n",
    "gnb.sideBySide(spi.posterior(3),ie.posterior(3),\n",
    "              captions=[\"TreeSumProductInference\",\"bn.LazyPropagation\"])"
   ]
  },
  {
   "cell_type": "markdown",
   "metadata": {},
   "source": [
    "#### TreeSumProductInference addEvidence"
   ]
  },
  {
   "cell_type": "markdown",
   "metadata": {},
   "source": [
    "### TreeMaxProductInference"
   ]
  },
  {
   "cell_type": "code",
   "execution_count": 8,
   "metadata": {},
   "outputs": [
    {
     "data": {
      "text/plain": [
       "{'A': 1, 'B': 1, 'C': 0, 'D': 0, 'E': 1}"
      ]
     },
     "execution_count": 8,
     "metadata": {},
     "output_type": "execute_result"
    }
   ],
   "source": [
    "%reload_ext autoreload\n",
    "%autoreload 2\n",
    "\n",
    "spi=TreeMaxProductInference(gf_tree) # Crée une instance d'inférence\n",
    "spi.makeInference()         # effectue les calculs de tous les messages\n",
    "spi.argmax()"
   ]
  },
  {
   "cell_type": "markdown",
   "metadata": {},
   "source": [
    "### TreeMaxSumInference"
   ]
  },
  {
   "cell_type": "markdown",
   "metadata": {},
   "source": [
    "### TreeMaxSumInference"
   ]
  },
  {
   "cell_type": "markdown",
   "metadata": {},
   "source": [
    "### LBPSumProductInference "
   ]
  },
  {
   "cell_type": "code",
   "execution_count": 17,
   "metadata": {},
   "outputs": [
    {
     "data": {
      "image/svg+xml": [
       "<svg height=\"188pt\" viewBox=\"0.00 0.00 134.00 188.00\" width=\"134pt\" xmlns=\"http://www.w3.org/2000/svg\" xmlns:xlink=\"http://www.w3.org/1999/xlink\">\n",
       "<g class=\"graph\" id=\"graph0\" transform=\"scale(1 1) rotate(0) translate(4 184)\">\n",
       "<title>G</title>\n",
       "<!-- A -->\n",
       "<g class=\"node\" id=\"node1\"><title>A</title>\n",
       "<g id=\"a_node1\"><a xlink:title=\"(0) A\">\n",
       "<ellipse cx=\"27\" cy=\"-162\" fill=\"#404040\" rx=\"27\" ry=\"18\" stroke=\"black\"/>\n",
       "<text fill=\"white\" font-family=\"Times,serif\" font-size=\"14.00\" text-anchor=\"middle\" x=\"27\" y=\"-158.3\">A</text>\n",
       "</a>\n",
       "</g>\n",
       "</g>\n",
       "<!-- B -->\n",
       "<g class=\"node\" id=\"node2\"><title>B</title>\n",
       "<g id=\"a_node2\"><a xlink:title=\"(1) B\">\n",
       "<ellipse cx=\"27\" cy=\"-90\" fill=\"#404040\" rx=\"27\" ry=\"18\" stroke=\"black\"/>\n",
       "<text fill=\"white\" font-family=\"Times,serif\" font-size=\"14.00\" text-anchor=\"middle\" x=\"27\" y=\"-86.3\">B</text>\n",
       "</a>\n",
       "</g>\n",
       "</g>\n",
       "<!-- A&#45;&gt;B -->\n",
       "<g class=\"edge\" id=\"edge1\"><title>A-&gt;B</title>\n",
       "<g id=\"a_edge1\"><a xlink:title=\"(0, 1) : \">\n",
       "<path d=\"M27,-143.697C27,-135.983 27,-126.712 27,-118.112\" fill=\"none\" stroke=\"#4a4a4a\"/>\n",
       "<polygon fill=\"#4a4a4a\" points=\"30.5001,-118.104 27,-108.104 23.5001,-118.104 30.5001,-118.104\" stroke=\"#4a4a4a\"/>\n",
       "</a>\n",
       "</g>\n",
       "</g>\n",
       "<!-- E -->\n",
       "<g class=\"node\" id=\"node5\"><title>E</title>\n",
       "<g id=\"a_node5\"><a xlink:title=\"(4) E\">\n",
       "<ellipse cx=\"63\" cy=\"-18\" fill=\"#404040\" rx=\"27\" ry=\"18\" stroke=\"black\"/>\n",
       "<text fill=\"white\" font-family=\"Times,serif\" font-size=\"14.00\" text-anchor=\"middle\" x=\"63\" y=\"-14.3\">E</text>\n",
       "</a>\n",
       "</g>\n",
       "</g>\n",
       "<!-- B&#45;&gt;E -->\n",
       "<g class=\"edge\" id=\"edge2\"><title>B-&gt;E</title>\n",
       "<g id=\"a_edge2\"><a xlink:title=\"(1, 4) : \">\n",
       "<path d=\"M35.3496,-72.7646C39.7115,-64.2831 45.1469,-53.7144 50.0413,-44.1974\" fill=\"none\" stroke=\"#4a4a4a\"/>\n",
       "<polygon fill=\"#4a4a4a\" points=\"53.2346,-45.6409 54.6957,-35.1473 47.0096,-42.4395 53.2346,-45.6409\" stroke=\"#4a4a4a\"/>\n",
       "</a>\n",
       "</g>\n",
       "</g>\n",
       "<!-- C -->\n",
       "<g class=\"node\" id=\"node3\"><title>C</title>\n",
       "<g id=\"a_node3\"><a xlink:title=\"(2) C\">\n",
       "<ellipse cx=\"99\" cy=\"-162\" fill=\"#404040\" rx=\"27\" ry=\"18\" stroke=\"black\"/>\n",
       "<text fill=\"white\" font-family=\"Times,serif\" font-size=\"14.00\" text-anchor=\"middle\" x=\"99\" y=\"-158.3\">C</text>\n",
       "</a>\n",
       "</g>\n",
       "</g>\n",
       "<!-- C&#45;&gt;B -->\n",
       "<g class=\"edge\" id=\"edge3\"><title>C-&gt;B</title>\n",
       "<g id=\"a_edge3\"><a xlink:title=\"(2, 1) : \">\n",
       "<path d=\"M84.4297,-146.834C74.2501,-136.938 60.4761,-123.546 48.9694,-112.359\" fill=\"none\" stroke=\"#4a4a4a\"/>\n",
       "<polygon fill=\"#4a4a4a\" points=\"51.4055,-109.846 41.7957,-105.385 46.5259,-114.865 51.4055,-109.846\" stroke=\"#4a4a4a\"/>\n",
       "</a>\n",
       "</g>\n",
       "</g>\n",
       "<!-- D -->\n",
       "<g class=\"node\" id=\"node4\"><title>D</title>\n",
       "<g id=\"a_node4\"><a xlink:title=\"(3) D\">\n",
       "<ellipse cx=\"99\" cy=\"-90\" fill=\"#404040\" rx=\"27\" ry=\"18\" stroke=\"black\"/>\n",
       "<text fill=\"white\" font-family=\"Times,serif\" font-size=\"14.00\" text-anchor=\"middle\" x=\"99\" y=\"-86.3\">D</text>\n",
       "</a>\n",
       "</g>\n",
       "</g>\n",
       "<!-- C&#45;&gt;D -->\n",
       "<g class=\"edge\" id=\"edge4\"><title>C-&gt;D</title>\n",
       "<g id=\"a_edge4\"><a xlink:title=\"(2, 3) : \">\n",
       "<path d=\"M99,-143.697C99,-135.983 99,-126.712 99,-118.112\" fill=\"none\" stroke=\"#4a4a4a\"/>\n",
       "<polygon fill=\"#4a4a4a\" points=\"102.5,-118.104 99,-108.104 95.5001,-118.104 102.5,-118.104\" stroke=\"#4a4a4a\"/>\n",
       "</a>\n",
       "</g>\n",
       "</g>\n",
       "<!-- D&#45;&gt;E -->\n",
       "<g class=\"edge\" id=\"edge5\"><title>D-&gt;E</title>\n",
       "<g id=\"a_edge5\"><a xlink:title=\"(3, 4) : \">\n",
       "<path d=\"M90.6504,-72.7646C86.2885,-64.2831 80.8531,-53.7144 75.9587,-44.1974\" fill=\"none\" stroke=\"#4a4a4a\"/>\n",
       "<polygon fill=\"#4a4a4a\" points=\"78.9904,-42.4395 71.3043,-35.1473 72.7654,-45.6409 78.9904,-42.4395\" stroke=\"#4a4a4a\"/>\n",
       "</a>\n",
       "</g>\n",
       "</g>\n",
       "</g>\n",
       "</svg>"
      ],
      "text/plain": [
       "<IPython.core.display.SVG object>"
      ]
     },
     "metadata": {},
     "output_type": "display_data"
    },
    {
     "data": {
      "image/svg+xml": [
       "<svg height=\"228pt\" viewBox=\"0.00 0.00 243.52 227.55\" width=\"244pt\" xmlns=\"http://www.w3.org/2000/svg\" xmlns:xlink=\"http://www.w3.org/1999/xlink\">\n",
       "<g class=\"graph\" id=\"graph0\" transform=\"scale(1 1) rotate(0) translate(146.458 111.14)\">\n",
       "<title>FG</title>\n",
       "<polygon fill=\"white\" points=\"-146.458,116.406 -146.458,-111.14 97.0629,-111.14 97.0629,116.406 -146.458,116.406\" stroke=\"none\"/>\n",
       "<!-- A -->\n",
       "<g class=\"node\" id=\"node1\"><title>A</title>\n",
       "<polygon fill=\"coral\" points=\"-80.4348,-16.6527 -96.4348,-16.6527 -96.4348,4.34727 -80.4348,4.34727 -80.4348,-16.6527\" stroke=\"coral\"/>\n",
       "<text font-family=\"Times,serif\" font-size=\"14.00\" text-anchor=\"middle\" x=\"-88.4348\" y=\"-2.45273\">A</text>\n",
       "</g>\n",
       "<!-- 5 -->\n",
       "<g class=\"node\" id=\"node6\"><title>5</title>\n",
       "<ellipse cx=\"-138.858\" cy=\"-19.9354\" fill=\"burlywood\" rx=\"3.6\" ry=\"3.6\" stroke=\"burlywood\"/>\n",
       "</g>\n",
       "<!-- A&#45;&#45;5 -->\n",
       "<g class=\"edge\" id=\"edge8\"><title>A--5</title>\n",
       "<path d=\"M-96.7612,-8.42866C-107.95,-11.487 -127.35,-16.7899 -135.302,-18.9635\" fill=\"none\" stroke=\"black\"/>\n",
       "</g>\n",
       "<!-- 6 -->\n",
       "<g class=\"node\" id=\"node7\"><title>6</title>\n",
       "<ellipse cx=\"-33.8419\" cy=\"3.45053\" fill=\"burlywood\" rx=\"3.6\" ry=\"3.6\" stroke=\"burlywood\"/>\n",
       "</g>\n",
       "<!-- A&#45;&#45;6 -->\n",
       "<g class=\"edge\" id=\"edge6\"><title>A--6</title>\n",
       "<path d=\"M-80.3794,-4.73574C-68.3968,-2.62791 -46.3491,1.25043 -37.5808,2.79282\" fill=\"none\" stroke=\"black\"/>\n",
       "</g>\n",
       "<!-- B -->\n",
       "<g class=\"node\" id=\"node2\"><title>B</title>\n",
       "<polygon fill=\"coral\" points=\"8.84992,-54.1451 -7.15008,-54.1451 -7.15008,-33.1451 8.84992,-33.1451 8.84992,-54.1451\" stroke=\"coral\"/>\n",
       "<text font-family=\"Times,serif\" font-size=\"14.00\" text-anchor=\"middle\" x=\"0.849924\" y=\"-39.9451\">B</text>\n",
       "</g>\n",
       "<!-- B&#45;&#45;6 -->\n",
       "<g class=\"edge\" id=\"edge10\"><title>B--6</title>\n",
       "<path d=\"M-7.19627,-32.7221C-15.0426,-22.0703 -26.4934,-6.52533 -31.43,0.176243\" fill=\"none\" stroke=\"black\"/>\n",
       "</g>\n",
       "<!-- 9 -->\n",
       "<g class=\"node\" id=\"node10\"><title>9</title>\n",
       "<ellipse cx=\"57.7229\" cy=\"-50.0716\" fill=\"burlywood\" rx=\"3.6\" ry=\"3.6\" stroke=\"burlywood\"/>\n",
       "</g>\n",
       "<!-- B&#45;&#45;9 -->\n",
       "<g class=\"edge\" id=\"edge9\"><title>B--9</title>\n",
       "<path d=\"M9.24173,-44.5934C21.8484,-46.0179 45.1492,-48.6508 54.095,-49.6616\" fill=\"none\" stroke=\"black\"/>\n",
       "</g>\n",
       "<!-- C -->\n",
       "<g class=\"node\" id=\"node3\"><title>C</title>\n",
       "<polygon fill=\"coral\" points=\"3.35837,44.331 -12.6416,44.331 -12.6416,65.331 3.35837,65.331 3.35837,44.331\" stroke=\"coral\"/>\n",
       "<text font-family=\"Times,serif\" font-size=\"14.00\" text-anchor=\"middle\" x=\"-4.64163\" y=\"58.531\">C</text>\n",
       "</g>\n",
       "<!-- C&#45;&#45;6 -->\n",
       "<g class=\"edge\" id=\"edge2\"><title>C--6</title>\n",
       "<path d=\"M-10.8343,43.9345C-17.5307,32.1515 -27.8067,14.07 -31.982,6.72315\" fill=\"none\" stroke=\"black\"/>\n",
       "</g>\n",
       "<!-- 7 -->\n",
       "<g class=\"node\" id=\"node8\"><title>7</title>\n",
       "<ellipse cx=\"-16.6326\" cy=\"108.806\" fill=\"burlywood\" rx=\"3.6\" ry=\"3.6\" stroke=\"burlywood\"/>\n",
       "</g>\n",
       "<!-- C&#45;&#45;7 -->\n",
       "<g class=\"edge\" id=\"edge1\"><title>C--7</title>\n",
       "<path d=\"M-7.01065,65.4947C-9.74075,77.7838 -14.0778,97.3063 -15.8446,105.259\" fill=\"none\" stroke=\"black\"/>\n",
       "</g>\n",
       "<!-- 8 -->\n",
       "<g class=\"node\" id=\"node9\"><title>8</title>\n",
       "<ellipse cx=\"53.3011\" cy=\"48.1266\" fill=\"burlywood\" rx=\"3.6\" ry=\"3.6\" stroke=\"burlywood\"/>\n",
       "</g>\n",
       "<!-- C&#45;&#45;8 -->\n",
       "<g class=\"edge\" id=\"edge4\"><title>C--8</title>\n",
       "<path d=\"M3.41505,53.8987C16.1022,52.4307 40.2473,49.637 49.5328,48.5626\" fill=\"none\" stroke=\"black\"/>\n",
       "</g>\n",
       "<!-- D -->\n",
       "<g class=\"node\" id=\"node4\"><title>D</title>\n",
       "<polygon fill=\"coral\" points=\"92.9722,-9.26956 76.9722,-9.26956 76.9722,11.7304 92.9722,11.7304 92.9722,-9.26956\" stroke=\"coral\"/>\n",
       "<text font-family=\"Times,serif\" font-size=\"14.00\" text-anchor=\"middle\" x=\"84.9722\" y=\"4.93044\">D</text>\n",
       "</g>\n",
       "<!-- D&#45;&#45;8 -->\n",
       "<g class=\"edge\" id=\"edge5\"><title>D--8</title>\n",
       "<path d=\"M77.6266,12.1072C70.4634,22.7139 60.0097,38.193 55.503,44.8661\" fill=\"none\" stroke=\"black\"/>\n",
       "</g>\n",
       "<!-- D&#45;&#45;9 -->\n",
       "<g class=\"edge\" id=\"edge7\"><title>D--9</title>\n",
       "<path d=\"M79.1933,-9.64939C72.9443,-21.4144 63.3549,-39.4683 59.4585,-46.8039\" fill=\"none\" stroke=\"black\"/>\n",
       "</g>\n",
       "<!-- E -->\n",
       "<g class=\"node\" id=\"node5\"><title>E</title>\n",
       "<polygon fill=\"coral\" points=\"93.0629,-107.14 78.0629,-107.14 78.0629,-86.1397 93.0629,-86.1397 93.0629,-107.14\" stroke=\"coral\"/>\n",
       "<text font-family=\"Times,serif\" font-size=\"14.00\" text-anchor=\"middle\" x=\"85.5629\" y=\"-92.9397\">E</text>\n",
       "</g>\n",
       "<!-- E&#45;&#45;9 -->\n",
       "<g class=\"edge\" id=\"edge3\"><title>E--9</title>\n",
       "<path d=\"M79.1059,-85.839C72.8092,-75.3065 63.62,-59.9357 59.6585,-53.3092\" fill=\"none\" stroke=\"black\"/>\n",
       "</g>\n",
       "</g>\n",
       "</svg>"
      ],
      "text/plain": [
       "<IPython.core.display.SVG object>"
      ]
     },
     "execution_count": 17,
     "metadata": {},
     "output_type": "execute_result"
    }
   ],
   "source": [
    "\n",
    "\n",
    "bn=gum.fastBN(\"A->B<-C->D->E<-B\")\n",
    "gnb.showBN(bn)\n",
    "# construction de factor graph\n",
    "gf = FactorGraph();\n",
    "gf.build(bn);\n",
    "\n",
    "# show\n",
    "g=dot.graph_from_dot_data(gf.show())\n",
    "SVG(g.create_svg())"
   ]
  },
  {
   "cell_type": "code",
   "execution_count": 18,
   "metadata": {},
   "outputs": [
    {
     "data": {
      "text/html": [
       "<table style=\"border-style: hidden; border-collapse: collapse;\" width=\"100%\"><tr><td style=\"border-top:hidden;border-bottom:hidden;\"><div align=\"center\" style=\"\"><table style=\"border:1px solid black;\">\n",
       "<tr style='border:1px solid black;color:black;background-color:#808080'><th colspan='2'><center>D</center></th></tr>\n",
       "<tr><th style='border:1px solid black;border-bottom-style: double;color:black;background-color:#BBBBBB'><center>0</center></th><th style='border:1px solid black;border-bottom-style: double;color:black;background-color:#BBBBBB'><center>1</center></th></tr>\n",
       "<tr><td style='color:black;background-color:#a8d564;text-align:right;'>0.6756</td><td style='color:black;background-color:#d5a864;text-align:right;'>0.3244</td></tr>\n",
       "</table></div></td><td style=\"border-top:hidden;border-bottom:hidden;\"><div align=\"center\" style=\"\"><table style=\"border:1px solid black;\">\n",
       "<tr style='border:1px solid black;color:black;background-color:#808080'><th colspan='2'><center>D</center></th></tr>\n",
       "<tr><th style='border:1px solid black;border-bottom-style: double;color:black;background-color:#BBBBBB'><center>0</center></th><th style='border:1px solid black;border-bottom-style: double;color:black;background-color:#BBBBBB'><center>1</center></th></tr>\n",
       "<tr><td style='color:black;background-color:#a8d564;text-align:right;'>0.6756</td><td style='color:black;background-color:#d5a864;text-align:right;'>0.3244</td></tr>\n",
       "</table></div></td></tr><tr><td style=\"border-top:hidden;border-bottom:hidden;\"><div align=\"center\"><small>gum.LoopyBeliefPropagation</small></div></td><td style=\"border-top:hidden;border-bottom:hidden;\"><div align=\"center\"><small>LBPSumProductInference</small></div></td></tr></table>"
      ],
      "text/plain": [
       "<IPython.core.display.HTML object>"
      ]
     },
     "metadata": {},
     "output_type": "display_data"
    }
   ],
   "source": [
    "%reload_ext autoreload\n",
    "%autoreload 2\n",
    "\n",
    "\n",
    "ie=gum.LoopyBeliefPropagation(bn)\n",
    "ie.makeInference()\n",
    "\n",
    "spi=LBPSumProductInference(gf) # Crée une instance d'inférence\n",
    "spi.makeInference()         # effectue les calculs de tous les messages\n",
    "\n",
    "gnb.sideBySide(ie.posterior(3),spi.posterior(3),captions=[\"gum.LoopyBeliefPropagation\",\"LBPSumProductInference\"])"
   ]
  },
  {
   "cell_type": "markdown",
   "metadata": {},
   "source": [
    "#### LBPSumProductInference  AddEvidence"
   ]
  },
  {
   "cell_type": "code",
   "execution_count": 24,
   "metadata": {},
   "outputs": [
    {
     "name": "stdout",
     "output_type": "stream",
     "text": [
      "Inference LBP dans PyAgrum:\n"
     ]
    },
    {
     "data": {
      "text/html": [
       "<table style=\"border:1px solid black;\"><tr style='border:1px solid black;color:black;background-color:#808080'><th colspan='2'><center>D</center></th></tr><tr><th style='border:1px solid black;border-bottom-style: double;color:black;background-color:#BBBBBB'><center>0</center></th><th style='border:1px solid black;border-bottom-style: double;color:black;background-color:#BBBBBB'><center>1</center></th></tr><tr><td style='color:black;background-color:#7fff64;text-align:right;'>1.0000</td><td style='color:black;background-color:#ff7f64;text-align:right;'>0.0000</td></tr></table>"
      ],
      "text/plain": [
       "<IPython.core.display.HTML object>"
      ]
     },
     "metadata": {},
     "output_type": "display_data"
    }
   ],
   "source": [
    "# pour comparer\n",
    "print(\"Inference LBP dans PyAgrum:\")\n",
    "ie=gum.LoopyBeliefPropagation(bn)\n",
    "ie.addEvidence(2,1)\n",
    "ie.addEvidence(3,0)\n",
    "ie.makeInference()\n",
    "gnb.showPotential(ie.posterior(4))\n",
    "\n",
    "%reload_ext autoreload\n",
    "%autoreload 2\n",
    "\n",
    "print(\"Exo LBPSumproductInference:\")\n",
    "spi=LBPSumProductInference(gf) # Crée une instance d'inférence\n",
    "spi.addEvidence({\"C\":1,\"D\":0})\n",
    "spi.makeInference()         # effectue les calculs de tous les messages\n",
    "gnb.showPotential(spi.posterior(4))"
   ]
  },
  {
   "cell_type": "code",
   "execution_count": 25,
   "metadata": {},
   "outputs": [
    {
     "name": "stdout",
     "output_type": "stream",
     "text": [
      "Exo LBPSumproductInference:\n"
     ]
    },
    {
     "data": {
      "text/html": [
       "<table style=\"border:1px solid black;\"><tr style='border:1px solid black;color:black;background-color:#808080'><th colspan='2'><center>E</center></th></tr><tr><th style='border:1px solid black;border-bottom-style: double;color:black;background-color:#BBBBBB'><center>0</center></th><th style='border:1px solid black;border-bottom-style: double;color:black;background-color:#BBBBBB'><center>1</center></th></tr><tr><td style='text-align:right;'>0.0000</td><td style='text-align:right;'>0.0000</td></tr></table>"
      ],
      "text/plain": [
       "<IPython.core.display.HTML object>"
      ]
     },
     "metadata": {},
     "output_type": "display_data"
    }
   ],
   "source": [
    "\n"
   ]
  },
  {
   "cell_type": "markdown",
   "metadata": {},
   "source": [
    "\\ \n",
    "\\\n",
    "\\\n",
    "\\\n",
    "TreeMaxProduct"
   ]
  },
  {
   "cell_type": "code",
   "execution_count": 92,
   "metadata": {},
   "outputs": [],
   "source": []
  },
  {
   "cell_type": "code",
   "execution_count": 27,
   "metadata": {},
   "outputs": [
    {
     "data": {
      "text/plain": [
       "'%reload_ext autoreload\\n%autoreload 2\\nbn=gum.fastBN(\"A->C<-B\");\\ngnb.showBN(bn)\\nbn.cpt(\"A\").fillWith([1,0]);\\nbn.cpt(\"B\").fillWith([0,1]);\\nbn.cpt(\"C\").fillWith([0.2384,0.7616,0.7420,0.2580,0.5474,0.4526,0.1668,0.8332])\\ngnb.sideBySide(bn.cpt(\"A\"),bn.cpt(\"B\"),bn.cpt(\"C\"),\\n              captions=[\\'A\\',\\'B\\',\\'C\\'])\\n'"
      ]
     },
     "execution_count": 27,
     "metadata": {},
     "output_type": "execute_result"
    }
   ],
   "source": [
    "\"\"\"%reload_ext autoreload\n",
    "%autoreload 2\n",
    "bn=gum.fastBN(\"A->C<-B\");\n",
    "gnb.showBN(bn)\n",
    "bn.cpt(\"A\").fillWith([1,0]);\n",
    "bn.cpt(\"B\").fillWith([0,1]);\n",
    "bn.cpt(\"C\").fillWith([0.2384,0.7616,0.7420,0.2580,0.5474,0.4526,0.1668,0.8332])\n",
    "gnb.sideBySide(bn.cpt(\"A\"),bn.cpt(\"B\"),bn.cpt(\"C\"),\n",
    "              captions=['A','B','C'])\n",
    "\"\"\""
   ]
  },
  {
   "cell_type": "code",
   "execution_count": 28,
   "metadata": {},
   "outputs": [
    {
     "data": {
      "text/plain": [
       "'gf = FactorGraph();\\ngf.build(bn);\\ng=dot.graph_from_dot_data(spi.fg.show())\\nSVG(g.create_svg())'"
      ]
     },
     "execution_count": 28,
     "metadata": {},
     "output_type": "execute_result"
    }
   ],
   "source": [
    "\"\"\"gf = FactorGraph();\n",
    "gf.build(bn);\n",
    "g=dot.graph_from_dot_data(spi.fg.show())\n",
    "SVG(g.create_svg())\"\"\""
   ]
  },
  {
   "cell_type": "code",
   "execution_count": 29,
   "metadata": {},
   "outputs": [
    {
     "data": {
      "text/plain": [
       "'%reload_ext autoreload\\n%autoreload 2\\nprint(\"TreeMax\");\\nspi=TreeMaxProductInference(gf) # Crée une instance d\\'inférence\\nspi.makeInference()         # effectue les calculs de tous les messages\\nspi.argmax()'"
      ]
     },
     "execution_count": 29,
     "metadata": {},
     "output_type": "execute_result"
    }
   ],
   "source": [
    "\"\"\"%reload_ext autoreload\n",
    "%autoreload 2\n",
    "print(\"TreeMax\");\n",
    "spi=TreeMaxProductInference(gf) # Crée une instance d'inférence\n",
    "spi.makeInference()         # effectue les calculs de tous les messages\n",
    "spi.argmax()\"\"\""
   ]
  }
 ],
 "metadata": {
  "kernelspec": {
   "display_name": "Python 3",
   "language": "python",
   "name": "python3"
  },
  "language_info": {
   "codemirror_mode": {
    "name": "ipython",
    "version": 3
   },
   "file_extension": ".py",
   "mimetype": "text/x-python",
   "name": "python",
   "nbconvert_exporter": "python",
   "pygments_lexer": "ipython3",
   "version": "3.6.9"
  }
 },
 "nbformat": 4,
 "nbformat_minor": 2
}
